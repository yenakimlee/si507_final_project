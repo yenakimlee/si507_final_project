{
 "cells": [
  {
   "cell_type": "markdown",
   "id": "e557b0b8",
   "metadata": {},
   "source": [
    "# Final Project - 507"
   ]
  },
  {
   "cell_type": "markdown",
   "id": "54744f95",
   "metadata": {},
   "source": [
    "**uniqname** = yenakiml"
   ]
  },
  {
   "cell_type": "code",
   "execution_count": 1,
   "id": "aa5e9ef6",
   "metadata": {},
   "outputs": [],
   "source": [
    "import pandas as pd\n",
    "import numpy as np\n",
    "import requests\n",
    "import json\n",
    "import bs4 as bs\n",
    "import re\n",
    "from datetime import datetime\n",
    "from datetime import date\n",
    "import seaborn as sns\n",
    "import snscrape\n",
    "import snscrape.modules.twitter as sntwitter\n",
    "import nltk\n",
    "#nltk.download('vader_lexicon')\n",
    "from nltk.sentiment.vader import SentimentIntensityAnalyzer\n",
    "import spacy\n",
    "from spacy.tokens import Doc\n",
    "import sqlite3 as sql\n",
    "import matplotlib.pyplot as plt\n",
    "import networkx as nx"
   ]
  },
  {
   "cell_type": "code",
   "execution_count": 61,
   "id": "8a10dd91",
   "metadata": {},
   "outputs": [],
   "source": [
    "import warnings\n",
    "warnings.filterwarnings(\"ignore\")"
   ]
  },
  {
   "cell_type": "markdown",
   "id": "54f94bd7",
   "metadata": {},
   "source": [
    "## US Mass Shootings"
   ]
  },
  {
   "cell_type": "markdown",
   "id": "10dd328b",
   "metadata": {},
   "source": [
    "### Import data"
   ]
  },
  {
   "cell_type": "code",
   "execution_count": 2,
   "id": "e698df69",
   "metadata": {},
   "outputs": [],
   "source": [
    "mass_shootings = pd.read_csv(\"/Users/yena_kim/Documents/UM/Winter 2022/SI 507/Final Project/Mass Shootings Dataset.csv\", encoding = \"latin1\")"
   ]
  },
  {
   "cell_type": "code",
   "execution_count": 3,
   "id": "f08f02c1",
   "metadata": {},
   "outputs": [],
   "source": [
    "mass_shootings = mass_shootings.drop([\"S#\", \"Latitude\", \"Longitude\"], axis = 1)"
   ]
  },
  {
   "cell_type": "code",
   "execution_count": 4,
   "id": "21796654",
   "metadata": {},
   "outputs": [],
   "source": [
    "mass_shootings_date = mass_shootings[[\"Date\", \"Fatalities\", \"Injured\", \"Total victims\"]]"
   ]
  },
  {
   "cell_type": "code",
   "execution_count": 5,
   "id": "0cc5f863",
   "metadata": {
    "scrolled": true
   },
   "outputs": [
    {
     "name": "stderr",
     "output_type": "stream",
     "text": [
      "/var/folders/nm/bsmlffqn33l3l7dzkpk7xjym0000gn/T/ipykernel_86421/481110784.py:1: SettingWithCopyWarning: \n",
      "A value is trying to be set on a copy of a slice from a DataFrame.\n",
      "Try using .loc[row_indexer,col_indexer] = value instead\n",
      "\n",
      "See the caveats in the documentation: https://pandas.pydata.org/pandas-docs/stable/user_guide/indexing.html#returning-a-view-versus-a-copy\n",
      "  mass_shootings_date[\"Date\"] = mass_shootings_date[\"Date\"].apply(lambda x: datetime.strptime(x, '%m/%d/%Y').strftime('%Y'))\n"
     ]
    }
   ],
   "source": [
    "mass_shootings_date[\"Date\"] = mass_shootings_date[\"Date\"].apply(lambda x: datetime.strptime(x, '%m/%d/%Y').strftime('%Y'))"
   ]
  },
  {
   "cell_type": "code",
   "execution_count": 6,
   "id": "8fbc22b2",
   "metadata": {},
   "outputs": [],
   "source": [
    "mass_shootings_date = mass_shootings_date.groupby([mass_shootings_date[\"Date\"]]).sum().reset_index()"
   ]
  },
  {
   "cell_type": "markdown",
   "id": "ef7558e4",
   "metadata": {},
   "source": [
    "## Importing Data from CDC Wonder"
   ]
  },
  {
   "cell_type": "markdown",
   "id": "b7072c6e",
   "metadata": {},
   "source": [
    "https://rdrr.io/github/socdataR/wonderapi/f/vignettes/D76codebook.Rmd"
   ]
  },
  {
   "cell_type": "code",
   "execution_count": 7,
   "id": "e9f448b6",
   "metadata": {},
   "outputs": [],
   "source": [
    "# by-variables\" or those parameters selected in the \"Group Results By\" and the \"And By\" drop-down lists \n",
    "# in the \"Request Form.\" These \"by-variables\" are the cross-tabulations, stratifications or indexes \n",
    "# to the query results. \n",
    "\n",
    "b_parameters = {\n",
    "    \"B_1\": \"D76.V1-level1\", \n",
    "    \"B_2\": \"D76.V1-level2\", \n",
    "    \"B_3\": \"D76.V8\", \n",
    "    \"B_4\": \"D76.V2-level3\", \n",
    "    \"B_5\": \"*None*\"\n",
    "}"
   ]
  },
  {
   "cell_type": "code",
   "execution_count": 8,
   "id": "8e974dd9",
   "metadata": {},
   "outputs": [],
   "source": [
    "# measures to return, the default measures plus any optional measures\n",
    "\n",
    "m_parameters = {\n",
    "    \"M_1\": \"D76.M1\",   # Deaths, must be included\n",
    "    \"M_2\": \"D76.M2\",   # Population, must be included\n",
    "    \"M_3\": \"D76.M3\",   # Crude rate, must be included\n",
    "    #\"M_31\": \"D76.M31\",        # Standard error (crude rate)\n",
    "    #\"M_32\": \"D76.M32\"         # 95% confidence interval (crude rate)\n",
    "    \"M_41\": \"D76.M41\", # Standard error (age-adjusted rate)\n",
    "    \"M_42\": \"D76.M42\"  # 95% confidence interval (age-adjusted rate)\n",
    "}"
   ]
  },
  {
   "cell_type": "code",
   "execution_count": 9,
   "id": "ffdb89c0",
   "metadata": {},
   "outputs": [],
   "source": [
    "# values highlighted in a \"Finder\" control for hierarchical lists, \n",
    "# such as the \"Regions/Divisions/States/Counties hierarchical\" list.\n",
    "\n",
    "\n",
    "f_parameters = {\n",
    "    \"F_D76.V1\": [\"*All*\"], # year/month\n",
    "    \"F_D76.V10\": [\"*All*\"], # Census Regions - dont change\n",
    "    #\"F_D76.V2\": [\"X85-Y09\"], # ICD-10 Codes\n",
    "    \"F_D76.V2\": [\"X93\", \"X94\", \"X95\", \n",
    "                 \"W32\", \"W33\", \"W34\", \n",
    "                 \"Y22\", \"Y23\", \"Y24\",\n",
    "                 \"U01.4\"],\n",
    "    \"F_D76.V27\": [\"*All*\"], # HHS Regions - dont change\n",
    "    \"F_D76.V9\": [\"*All*\"] # State County - dont change\n",
    "}"
   ]
  },
  {
   "cell_type": "code",
   "execution_count": 10,
   "id": "4e1481f4",
   "metadata": {},
   "outputs": [],
   "source": [
    "# contents of the \"Currently selected\" information areas next to \"Finder\" controls in the \"Request Form.\"\n",
    "\n",
    "i_parameters = {\n",
    "    \"I_D76.V1\": \"*All* (All Dates)\",  # year/month\n",
    "    \"I_D76.V10\": \"*All* (The United States)\", # Census Regions - dont change\n",
    "    \"I_D76.V2\": \"V01-Y89 (External causes of morbidity and mortality)\", # ICD-10 Codes\n",
    "    \"I_D76.V27\": \"*All* (The United States)\", # HHS Regions - dont change\n",
    "    \"I_D76.V9\": \"*All* (The United States)\" # State County - dont change\n",
    "}"
   ]
  },
  {
   "cell_type": "code",
   "execution_count": 11,
   "id": "7cb6f3f0",
   "metadata": {},
   "outputs": [],
   "source": [
    "# variable values to limit in the \"where\" clause of the query, found in multiple select \n",
    "# list boxes and advanced finder text entry boxes in the \"Request Form.\"\n",
    "\n",
    "v_parameters = {\n",
    "    \"V_D76.V1\": \"\",         # Year/Month\n",
    "    \"V_D76.V10\": \"*All*\",   # Census Regions\n",
    "    \"V_D76.V11\": \"*All*\",   # 2006 Urbanization\n",
    "    \"V_D76.V12\": \"*All*\",   # ICD-10 130 Cause List (Infants)\n",
    "    \"V_D76.V17\": \"*All*\",   # Hispanic Origin\n",
    "    \"V_D76.V19\": \"*All*\",   # 2013 Urbanization\n",
    "    \"V_D76.V2\": \"\",         # ICD-10 Codes\n",
    "    \"V_D76.V20\": \"*All*\",   # Autopsy\n",
    "    \"V_D76.V21\": \"*All*\",   # Place of Death\n",
    "    \"V_D76.V22\": \"*All*\",   # Injury Intent\n",
    "    \"V_D76.V23\": \"*All*\",   # Injury Mechanism and All Other Leading Causes\n",
    "    \"V_D76.V24\": \"*All*\",   # Weekday\n",
    "    \"V_D76.V25\": \"*All*\",   # Drug/Alcohol Induced Causes\n",
    "    \"V_D76.V27\": \"\",        # HHS Regions\n",
    "    \"V_D76.V4\": \"*All*\",    # ICD-10 113 Cause List\n",
    "    \"V_D76.V5\": [\"15-24\", \"25-34\", \"35-44\"], # Ten-Year Age Groups\n",
    "    \"V_D76.V51\": \"*All*\",   # Five-Year Age Groups\n",
    "    \"V_D76.V52\": \"*All*\",   # Single-Year Ages\n",
    "    \"V_D76.V6\": \"00\",       # Infant Age Groups\n",
    "    \"V_D76.V7\": \"*All*\",    # Gender\n",
    "    \"V_D76.V8\": \"*All*\",    # Race\n",
    "    \"V_D76.V9\": \"\"          # State/County\n",
    "}\n"
   ]
  },
  {
   "cell_type": "code",
   "execution_count": 12,
   "id": "ddb3e9fa",
   "metadata": {},
   "outputs": [],
   "source": [
    "# other parameters, such as radio buttons, checkboxes, and lists that are not data categories\n",
    "\n",
    "o_parameters = {\n",
    "    \"O_V10_fmode\": \"freg\",    # Use regular finder and ignore v parameter value\n",
    "    \"O_V1_fmode\": \"freg\",     # Use regular finder and ignore v parameter value\n",
    "    \"O_V27_fmode\": \"freg\",    # Use regular finder and ignore v parameter value\n",
    "    \"O_V2_fmode\": \"freg\",     # Use regular finder and ignore v parameter value\n",
    "    \"O_V9_fmode\": \"freg\",     # Use regular finder and ignore v parameter value\n",
    "    \"O_aar\": \"aar_std\",       # age-adjusted rates\n",
    "    \"O_aar_pop\": \"0000\",      # population selection for age-adjusted rates\n",
    "    \"O_age\": \"D76.V5\",        # select age-group (e.g. ten-year, five-year, single-year, infant groups)\n",
    "    \"O_javascript\": \"on\",     # Set to on by default\n",
    "    \"O_location\": \"D76.V10\",   # select location variable to use (e.g. state/county, census, hhs regions)\n",
    "    \"O_precision\": \"1\",       # decimal places\n",
    "    \"O_rate_per\": \"100000\",   # rates calculated per X persons\n",
    "    \"O_show_totals\": \"false\",  # Show totals for \n",
    "    \"O_timeout\": \"300\",\n",
    "    \"O_title\": \"Assault by Age Group\",    # title for data run\n",
    "    \"O_ucd\": \"D76.V2\",        # select underlying cause of death category\n",
    "    \"O_urban\": \"D76.V19\"      # select urbanization category\n",
    "}"
   ]
  },
  {
   "cell_type": "code",
   "execution_count": 13,
   "id": "b3adac8b",
   "metadata": {},
   "outputs": [],
   "source": [
    "# values for non-standard age adjusted rates (see mortality online databases).\n",
    "\n",
    "vm_parameters = {\n",
    "    \"VM_D76.M6_D76.V10\": \"\",        # Location\n",
    "    \"VM_D76.M6_D76.V17\": \"*All*\",   # Hispanic-Origin\n",
    "    \"VM_D76.M6_D76.V1_S\": \"*All*\",  # Year\n",
    "    \"VM_D76.M6_D76.V7\": \"*All*\",    # Gender\n",
    "    \"VM_D76.M6_D76.V8\": \"*All*\"     # Race\n",
    "}"
   ]
  },
  {
   "cell_type": "code",
   "execution_count": 14,
   "id": "7c5ef5c3",
   "metadata": {},
   "outputs": [],
   "source": [
    "# Miscellaneous hidden inputs/parameters usually passed by web form. These do not change.\n",
    "\n",
    "misc_parameters = {\n",
    "    \"action-Send\": \"Send\",\n",
    "    \"finder-stage-D76.V1\": \"codeset\",\n",
    "    \"finder-stage-D76.V1\": \"codeset\",\n",
    "    \"finder-stage-D76.V2\": \"codeset\",\n",
    "    \"finder-stage-D76.V27\": \"codeset\",\n",
    "    \"finder-stage-D76.V9\": \"codeset\",\n",
    "    \"stage\": \"request\"\n",
    "}"
   ]
  },
  {
   "cell_type": "code",
   "execution_count": 15,
   "id": "10182ea4",
   "metadata": {},
   "outputs": [],
   "source": [
    "def createParameterList(parameterList):\n",
    "    \"\"\"Helper function to create a parameter list from a dictionary object\"\"\"\n",
    "    \n",
    "    parameterString = \"\"\n",
    "    \n",
    "    for key in parameterList:\n",
    "        parameterString += \"<parameter>\\n\"\n",
    "        parameterString += \"<name>\" + key + \"</name>\\n\"\n",
    "        \n",
    "        if isinstance(parameterList[key], list):\n",
    "            for value in parameterList[key]:\n",
    "                parameterString += \"<value>\" + value + \"</value>\\n\"\n",
    "        else:\n",
    "            parameterString += \"<value>\" + parameterList[key] + \"</value>\\n\"\n",
    "        \n",
    "        parameterString += \"</parameter>\\n\"\n",
    "        \n",
    "    return parameterString"
   ]
  },
  {
   "cell_type": "code",
   "execution_count": 16,
   "id": "7b1f9b50",
   "metadata": {
    "scrolled": true
   },
   "outputs": [],
   "source": [
    "xml_request = \"<request-parameters>\\n\"\n",
    "xml_request += createParameterList(b_parameters)\n",
    "xml_request += createParameterList(m_parameters)\n",
    "xml_request += createParameterList(f_parameters)\n",
    "xml_request += createParameterList(i_parameters)\n",
    "xml_request += createParameterList(o_parameters)\n",
    "xml_request += createParameterList(vm_parameters)\n",
    "xml_request += createParameterList(v_parameters)\n",
    "xml_request += createParameterList(misc_parameters)\n",
    "xml_request += \"</request-parameters>\""
   ]
  },
  {
   "cell_type": "code",
   "execution_count": 17,
   "id": "d50fce29",
   "metadata": {},
   "outputs": [],
   "source": [
    "def cache_to_file(file_name):\n",
    "    def decorator(func):\n",
    "\n",
    "        try:\n",
    "            cache = json.load(open(file_name, 'r'))\n",
    "        except (IOError, ValueError):\n",
    "            cache = {}\n",
    "\n",
    "        def new_func(param):\n",
    "            if param not in cache:\n",
    "                cache[(param)] = func(param)\n",
    "                json.dump(cache, open(file_name, 'w'))\n",
    "                print('Fetching')\n",
    "                return cache[param]\n",
    "            print('Using Cache')\n",
    "            return cache[param]\n",
    "\n",
    "        return new_func\n",
    "\n",
    "    return decorator"
   ]
  },
  {
   "cell_type": "code",
   "execution_count": 18,
   "id": "c9ec3647",
   "metadata": {},
   "outputs": [],
   "source": [
    "@cache_to_file('cache_wonder.dat')\n",
    "def get_wonder_data(site_url):\n",
    "    response = requests.post(site_url, data={\"request_xml\": xml_request, \"accept_datause_restrictions\": \"true\"})\n",
    "    if response.status_code == 200:\n",
    "        data = response.text\n",
    "    else:\n",
    "        print(\"something went wrong\")\n",
    "    return data\n",
    "\n",
    "#get_site_specifics(\"https://wonder.cdc.gov/controller/datarequest/D76\")\n"
   ]
  },
  {
   "cell_type": "code",
   "execution_count": 19,
   "id": "eaad529e",
   "metadata": {},
   "outputs": [],
   "source": [
    "def xml2df(xml_data):\n",
    "    \"\"\" This function grabs the root of the XML document and iterates over\n",
    "        the 'r' (row) and 'c' (column) tags of the data-table\n",
    "        Rows with a 'v' attribute contain a numerical value\n",
    "        Rows with a 'l attribute contain a text label and may contain an\n",
    "        additional 'r' (rowspan) tag which identifies how many rows the value\n",
    "        should be added. If present, that label will be added to the following\n",
    "        rows of the data table.\n",
    "    \n",
    "        Function returns a two-dimensional array or data frame that may be \n",
    "        used by the pandas library.\"\"\"\n",
    "    \n",
    "    root = bs.BeautifulSoup(xml_data,\"lxml\")\n",
    "    all_records = []\n",
    "    row_number = 0\n",
    "    rows = root.find_all(\"r\")\n",
    "    \n",
    "    for row in rows:\n",
    "        if row_number >= len(all_records):\n",
    "            all_records.append([])\n",
    "              \n",
    "        for cell in row.find_all(\"c\"):\n",
    "            if 'v' in cell.attrs:\n",
    "                try:\n",
    "                    all_records[row_number].append(float(cell.attrs[\"v\"].replace(',','')))\n",
    "                except ValueError:\n",
    "                    all_records[row_number].append(cell.attrs[\"v\"])\n",
    "            else:\n",
    "                if 'r' not in cell.attrs:\n",
    "                    all_records[row_number].append(cell.attrs[\"l\"])\n",
    "                else:\n",
    "                \n",
    "                    for row_index in range(int(cell.attrs[\"r\"])):\n",
    "                        if (row_number + row_index) >= len(all_records):\n",
    "                            all_records.append([])\n",
    "                            all_records[row_number + row_index].append(cell.attrs[\"l\"])\n",
    "                        else:\n",
    "                            all_records[row_number + row_index].append(cell.attrs[\"l\"])\n",
    "        row_number += 1\n",
    "    return all_records"
   ]
  },
  {
   "cell_type": "code",
   "execution_count": 20,
   "id": "42deac05",
   "metadata": {
    "scrolled": true
   },
   "outputs": [
    {
     "name": "stdout",
     "output_type": "stream",
     "text": [
      "Using Cache\n"
     ]
    }
   ],
   "source": [
    "data_frame = xml2df(get_wonder_data(\"https://wonder.cdc.gov/controller/datarequest/D76\"))\n",
    "\n",
    "wonder_df = pd.DataFrame(data=data_frame, columns=[\"Year\", \"Month\", \"Race\", \"Death-Type\", \"Deaths\", \"Population\", \"Crude Rate\", \"Age-adjusted Rate\", \"Age-adjusted Rate Standard Error\"])"
   ]
  },
  {
   "cell_type": "code",
   "execution_count": 21,
   "id": "8127daf9",
   "metadata": {
    "scrolled": false
   },
   "outputs": [],
   "source": [
    "wonder_df = wonder_df[[\"Year\", \"Month\", \"Race\", \"Death-Type\", \"Deaths\"]]"
   ]
  },
  {
   "cell_type": "code",
   "execution_count": 22,
   "id": "10133daf",
   "metadata": {},
   "outputs": [],
   "source": [
    "conditions = [\n",
    "    (wonder_df['Death-Type'] == \"Assault by rifle, shotgun and larger firearm discharge\"),\n",
    "    (wonder_df['Death-Type'] == \"Assault by other and unspecified firearm discharge\"),\n",
    "    (wonder_df['Death-Type'] == \"Handgun discharge\"),\n",
    "    (wonder_df['Death-Type'] == \"Rifle, shotgun and larger firearm discharge\"),\n",
    "    (wonder_df['Death-Type'] == \"Discharge from other and unspecified firearms\"),\n",
    "    (wonder_df['Death-Type'] == \"Assault by handgun discharge\"),\n",
    "    (wonder_df['Death-Type'] == \"Other and unspecified firearm discharge, undetermined intent\"),\n",
    "    (wonder_df['Death-Type'] == \"Handgun discharge, undetermined intent\"),\n",
    "    (wonder_df['Death-Type'] == \"Rifle, shotgun and larger firearm discharge, undetermined intent\"),\n",
    "    (wonder_df['Death-Type'] == \"Terrorism involving firearms\"),\n",
    "]\n",
    "\n",
    "values = [\"W32\", \"X95\", \"X93\", \"W33\", \"W34\", \"X93\", \"Y24\", \"Y22\", \"Y23\", \"U01.4\"]\n",
    "\n",
    "wonder_df['ICD-10'] = np.select(conditions, values)"
   ]
  },
  {
   "cell_type": "code",
   "execution_count": 23,
   "id": "9fa8308d",
   "metadata": {},
   "outputs": [],
   "source": [
    "wonder_df[\"Month\"] = wonder_df[\"Month\"].apply(lambda x: re.sub(\"[.,]\", \"\", x))"
   ]
  },
  {
   "cell_type": "code",
   "execution_count": 24,
   "id": "39f129e8",
   "metadata": {},
   "outputs": [],
   "source": [
    "wonder_df[\"Month\"] = wonder_df[\"Month\"].apply(lambda x: datetime.strptime(x.strip(), '%b %Y'))"
   ]
  },
  {
   "cell_type": "code",
   "execution_count": 25,
   "id": "625c1177",
   "metadata": {},
   "outputs": [],
   "source": [
    "wonder_date = wonder_df[[\"Year\", \"Deaths\"]]"
   ]
  },
  {
   "cell_type": "code",
   "execution_count": 26,
   "id": "93c25653",
   "metadata": {
    "scrolled": true
   },
   "outputs": [],
   "source": [
    "wonder_date = wonder_date.groupby([wonder_date[\"Year\"]]).sum().reset_index()"
   ]
  },
  {
   "cell_type": "markdown",
   "id": "e07d33bb",
   "metadata": {},
   "source": [
    "## Importing Tweets from Twitter"
   ]
  },
  {
   "cell_type": "code",
   "execution_count": 27,
   "id": "11d5e094",
   "metadata": {},
   "outputs": [],
   "source": [
    "# Setting variables to be used below\n",
    "maxTweets = 100\n",
    "\n",
    "# Creating list to append tweet data to\n",
    "tweets_list = []\n",
    "\n",
    "date_range = pd.date_range(start = '1982-01-01', end = date.today(), freq = '1M') #Twitter was created in 2006\n",
    "date_range_str = [str(date)[:-9] for date in date_range]\n",
    "\n",
    "search_phrases = [\"gunviolence\",\n",
    "                  \"gun regulations\",\n",
    "                  \"progun\",\n",
    "                  \"schoolshooting\",\n",
    "                  \"guncontrol\",\n",
    "                  \"guns\",    \n",
    "                  \"firearms\",\n",
    "                  \"weapons\"\n",
    "                 ]"
   ]
  },
  {
   "cell_type": "code",
   "execution_count": 28,
   "id": "d2fab8f6",
   "metadata": {},
   "outputs": [],
   "source": [
    "def cache_to_file(file_name):\n",
    "    def decorator(func):\n",
    "\n",
    "        try:\n",
    "            cache = json.load(open(file_name, 'r'))\n",
    "        except (IOError, ValueError):\n",
    "            cache = {}\n",
    "\n",
    "        def new_func(parameter):\n",
    "            for param in parameter:\n",
    "                if param not in cache:\n",
    "                    cache[(param)] = func(param)\n",
    "                    json.dump(cache, open(file_name, 'w'), default=str)\n",
    "                    print('Fetching')\n",
    "                    return cache[param]\n",
    "                print('Using Cache')\n",
    "                return cache[param]\n",
    "\n",
    "        return new_func\n",
    "\n",
    "    return decorator"
   ]
  },
  {
   "cell_type": "code",
   "execution_count": 29,
   "id": "fbfcc005",
   "metadata": {},
   "outputs": [],
   "source": [
    "@cache_to_file('cache_twitter.dat')\n",
    "def get_twitter_data(date_range):\n",
    "    i = 0\n",
    "\n",
    "    while i < len(date_range):\n",
    "        for phrase in search_phrases:\n",
    "            if i == len(date_range) - 1:\n",
    "                for x,tweet in enumerate(sntwitter.TwitterSearchScraper(f\"{phrase} since:{date_range[i]} until:{date.today()}\").get_items()):\n",
    "                    if x>maxTweets:\n",
    "                        break\n",
    "\n",
    "                    tweets_list.append([tweet.date, tweet.content])\n",
    "            else:\n",
    "                for x,tweet in enumerate(sntwitter.TwitterSearchScraper(f\"{phrase} since:{date_range[i]} until:{date_range[i+1]}\").get_items()):\n",
    "                    if x>maxTweets:\n",
    "                        break\n",
    "\n",
    "                    tweets_list.append([tweet.date, tweet.content])\n",
    "\n",
    "        i += 1\n",
    "    return tweets_list"
   ]
  },
  {
   "cell_type": "code",
   "execution_count": 30,
   "id": "63e21012",
   "metadata": {},
   "outputs": [
    {
     "name": "stdout",
     "output_type": "stream",
     "text": [
      "Using Cache\n"
     ]
    }
   ],
   "source": [
    "tweets_list_df = pd.DataFrame(get_twitter_data(date_range_str), columns =['Date',\n",
    "                                                     'Content'])"
   ]
  },
  {
   "cell_type": "code",
   "execution_count": 31,
   "id": "88304510",
   "metadata": {},
   "outputs": [
    {
     "data": {
      "text/html": [
       "<div>\n",
       "<style scoped>\n",
       "    .dataframe tbody tr th:only-of-type {\n",
       "        vertical-align: middle;\n",
       "    }\n",
       "\n",
       "    .dataframe tbody tr th {\n",
       "        vertical-align: top;\n",
       "    }\n",
       "\n",
       "    .dataframe thead th {\n",
       "        text-align: right;\n",
       "    }\n",
       "</style>\n",
       "<table border=\"1\" class=\"dataframe\">\n",
       "  <thead>\n",
       "    <tr style=\"text-align: right;\">\n",
       "      <th></th>\n",
       "      <th>Date</th>\n",
       "      <th>Content</th>\n",
       "    </tr>\n",
       "  </thead>\n",
       "  <tbody>\n",
       "    <tr>\n",
       "      <th>0</th>\n",
       "      <td>2022-04-04 17:25:35+00:00</td>\n",
       "      <td>@CLBake @davidhogg111 That’s what they all say...</td>\n",
       "    </tr>\n",
       "    <tr>\n",
       "      <th>1</th>\n",
       "      <td>2022-04-04 15:16:55+00:00</td>\n",
       "      <td>Agreed! Until we appeal the second amendment w...</td>\n",
       "    </tr>\n",
       "    <tr>\n",
       "      <th>2</th>\n",
       "      <td>2022-04-04 05:26:42+00:00</td>\n",
       "      <td>2/2 We’d lose tourism$$. Our reputation would ...</td>\n",
       "    </tr>\n",
       "    <tr>\n",
       "      <th>3</th>\n",
       "      <td>2022-03-31 22:19:08+00:00</td>\n",
       "      <td>#GUNviolence Kids shooting kids every day in U...</td>\n",
       "    </tr>\n",
       "    <tr>\n",
       "      <th>4</th>\n",
       "      <td>2022-03-31 20:01:44+00:00</td>\n",
       "      <td>.This incident didn’t happen in Philadelphia b...</td>\n",
       "    </tr>\n",
       "  </tbody>\n",
       "</table>\n",
       "</div>"
      ],
      "text/plain": [
       "                        Date  \\\n",
       "0  2022-04-04 17:25:35+00:00   \n",
       "1  2022-04-04 15:16:55+00:00   \n",
       "2  2022-04-04 05:26:42+00:00   \n",
       "3  2022-03-31 22:19:08+00:00   \n",
       "4  2022-03-31 20:01:44+00:00   \n",
       "\n",
       "                                             Content  \n",
       "0  @CLBake @davidhogg111 That’s what they all say...  \n",
       "1  Agreed! Until we appeal the second amendment w...  \n",
       "2  2/2 We’d lose tourism$$. Our reputation would ...  \n",
       "3  #GUNviolence Kids shooting kids every day in U...  \n",
       "4  .This incident didn’t happen in Philadelphia b...  "
      ]
     },
     "execution_count": 31,
     "metadata": {},
     "output_type": "execute_result"
    }
   ],
   "source": [
    "tweets_list_df.head()"
   ]
  },
  {
   "cell_type": "code",
   "execution_count": 32,
   "id": "ae7625d3",
   "metadata": {},
   "outputs": [],
   "source": [
    "sent_analyzer = SentimentIntensityAnalyzer()\n",
    "def sentiment_scores(docx):\n",
    "    return sent_analyzer.polarity_scores(docx.text)\n",
    "\n",
    "nlp = spacy.load('en_core_web_sm')\n",
    "Doc.set_extension(\"sentimenter\",getter=sentiment_scores, force = True)"
   ]
  },
  {
   "cell_type": "code",
   "execution_count": 33,
   "id": "cd4da09f",
   "metadata": {},
   "outputs": [],
   "source": [
    "tweets_list_df['rating'] = tweets_list_df['Content'].apply(lambda x: nlp(x)._.sentimenter['compound'])"
   ]
  },
  {
   "cell_type": "code",
   "execution_count": 34,
   "id": "be43db18",
   "metadata": {
    "scrolled": false
   },
   "outputs": [
    {
     "data": {
      "text/html": [
       "<div>\n",
       "<style scoped>\n",
       "    .dataframe tbody tr th:only-of-type {\n",
       "        vertical-align: middle;\n",
       "    }\n",
       "\n",
       "    .dataframe tbody tr th {\n",
       "        vertical-align: top;\n",
       "    }\n",
       "\n",
       "    .dataframe thead th {\n",
       "        text-align: right;\n",
       "    }\n",
       "</style>\n",
       "<table border=\"1\" class=\"dataframe\">\n",
       "  <thead>\n",
       "    <tr style=\"text-align: right;\">\n",
       "      <th></th>\n",
       "      <th>Date</th>\n",
       "      <th>Content</th>\n",
       "      <th>rating</th>\n",
       "    </tr>\n",
       "  </thead>\n",
       "  <tbody>\n",
       "    <tr>\n",
       "      <th>0</th>\n",
       "      <td>2022-04-04 17:25:35+00:00</td>\n",
       "      <td>@CLBake @davidhogg111 That’s what they all say...</td>\n",
       "      <td>0.2003</td>\n",
       "    </tr>\n",
       "    <tr>\n",
       "      <th>1</th>\n",
       "      <td>2022-04-04 15:16:55+00:00</td>\n",
       "      <td>Agreed! Until we appeal the second amendment w...</td>\n",
       "      <td>-0.8284</td>\n",
       "    </tr>\n",
       "    <tr>\n",
       "      <th>2</th>\n",
       "      <td>2022-04-04 05:26:42+00:00</td>\n",
       "      <td>2/2 We’d lose tourism$$. Our reputation would ...</td>\n",
       "      <td>-0.8176</td>\n",
       "    </tr>\n",
       "    <tr>\n",
       "      <th>3</th>\n",
       "      <td>2022-03-31 22:19:08+00:00</td>\n",
       "      <td>#GUNviolence Kids shooting kids every day in U...</td>\n",
       "      <td>0.4782</td>\n",
       "    </tr>\n",
       "    <tr>\n",
       "      <th>4</th>\n",
       "      <td>2022-03-31 20:01:44+00:00</td>\n",
       "      <td>.This incident didn’t happen in Philadelphia b...</td>\n",
       "      <td>-0.9517</td>\n",
       "    </tr>\n",
       "  </tbody>\n",
       "</table>\n",
       "</div>"
      ],
      "text/plain": [
       "                        Date  \\\n",
       "0  2022-04-04 17:25:35+00:00   \n",
       "1  2022-04-04 15:16:55+00:00   \n",
       "2  2022-04-04 05:26:42+00:00   \n",
       "3  2022-03-31 22:19:08+00:00   \n",
       "4  2022-03-31 20:01:44+00:00   \n",
       "\n",
       "                                             Content  rating  \n",
       "0  @CLBake @davidhogg111 That’s what they all say...  0.2003  \n",
       "1  Agreed! Until we appeal the second amendment w... -0.8284  \n",
       "2  2/2 We’d lose tourism$$. Our reputation would ... -0.8176  \n",
       "3  #GUNviolence Kids shooting kids every day in U...  0.4782  \n",
       "4  .This incident didn’t happen in Philadelphia b... -0.9517  "
      ]
     },
     "execution_count": 34,
     "metadata": {},
     "output_type": "execute_result"
    }
   ],
   "source": [
    "tweets_list_df.head()"
   ]
  },
  {
   "cell_type": "code",
   "execution_count": 35,
   "id": "5d0052d0",
   "metadata": {},
   "outputs": [],
   "source": [
    "tweets_list_df[\"Date\"] = tweets_list_df[\"Date\"].apply(lambda x: datetime.strptime(str(x), '%Y-%m-%d %H:%M:%S+00:00').strftime('%Y'))"
   ]
  },
  {
   "cell_type": "code",
   "execution_count": 36,
   "id": "620b1dc4",
   "metadata": {},
   "outputs": [],
   "source": [
    "tweets_list_df = tweets_list_df.groupby(by=[\"Date\"]).agg({'Content': 'count', \n",
    "                         'rating':'mean'}).reset_index()"
   ]
  },
  {
   "cell_type": "markdown",
   "id": "667e69db",
   "metadata": {},
   "source": [
    "## Create a database"
   ]
  },
  {
   "cell_type": "code",
   "execution_count": 37,
   "id": "5c390b35",
   "metadata": {},
   "outputs": [],
   "source": [
    "database = \"gun_violence.db\"\n",
    "connection = sql.connect(database)"
   ]
  },
  {
   "cell_type": "code",
   "execution_count": 38,
   "id": "d1b0c732",
   "metadata": {
    "scrolled": true
   },
   "outputs": [
    {
     "name": "stderr",
     "output_type": "stream",
     "text": [
      "/Users/yena_kim/opt/anaconda3/lib/python3.9/site-packages/pandas/core/generic.py:2872: UserWarning: The spaces in these column names will not be changed. In pandas versions < 0.14, spaces were converted to underscores.\n",
      "  sql.to_sql(\n"
     ]
    }
   ],
   "source": [
    "tweets_list_df.to_sql(\"tweet_list_df\", connection, if_exists = \"replace\")\n",
    "wonder_date.to_sql(\"wonder_date\", connection, if_exists = \"replace\")\n",
    "mass_shootings_date.to_sql(\"mass_shootings_date\", connection, if_exists = \"replace\")\n",
    "mass_shootings.to_sql(\"mass_shootings\", connection, if_exists = \"replace\")"
   ]
  },
  {
   "cell_type": "code",
   "execution_count": 39,
   "id": "e9c4d3af",
   "metadata": {},
   "outputs": [],
   "source": [
    "cur = connection.cursor()"
   ]
  },
  {
   "cell_type": "markdown",
   "id": "85233484",
   "metadata": {},
   "source": [
    "### Modify table structure"
   ]
  },
  {
   "cell_type": "code",
   "execution_count": 40,
   "id": "9013ce73",
   "metadata": {},
   "outputs": [
    {
     "data": {
      "text/html": [
       "<div>\n",
       "<style scoped>\n",
       "    .dataframe tbody tr th:only-of-type {\n",
       "        vertical-align: middle;\n",
       "    }\n",
       "\n",
       "    .dataframe tbody tr th {\n",
       "        vertical-align: top;\n",
       "    }\n",
       "\n",
       "    .dataframe thead th {\n",
       "        text-align: right;\n",
       "    }\n",
       "</style>\n",
       "<table border=\"1\" class=\"dataframe\">\n",
       "  <thead>\n",
       "    <tr style=\"text-align: right;\">\n",
       "      <th></th>\n",
       "      <th>Title</th>\n",
       "      <th>Location</th>\n",
       "      <th>Date</th>\n",
       "      <th>Summary</th>\n",
       "      <th>Fatalities</th>\n",
       "      <th>Injured</th>\n",
       "      <th>Total victims</th>\n",
       "      <th>Mental Health Issues</th>\n",
       "      <th>Race</th>\n",
       "      <th>Gender</th>\n",
       "    </tr>\n",
       "  </thead>\n",
       "  <tbody>\n",
       "    <tr>\n",
       "      <th>0</th>\n",
       "      <td>Las Vegas Strip mass shooting</td>\n",
       "      <td>Las Vegas, NV</td>\n",
       "      <td>10/1/2017</td>\n",
       "      <td>NaN</td>\n",
       "      <td>58</td>\n",
       "      <td>515</td>\n",
       "      <td>573</td>\n",
       "      <td>Unclear</td>\n",
       "      <td>NaN</td>\n",
       "      <td>NaN</td>\n",
       "    </tr>\n",
       "    <tr>\n",
       "      <th>1</th>\n",
       "      <td>San Francisco UPS shooting</td>\n",
       "      <td>San Francisco, CA</td>\n",
       "      <td>6/14/2017</td>\n",
       "      <td>Jimmy Lam, 38, fatally shot three coworkers an...</td>\n",
       "      <td>3</td>\n",
       "      <td>2</td>\n",
       "      <td>5</td>\n",
       "      <td>Yes</td>\n",
       "      <td>Asian</td>\n",
       "      <td>M</td>\n",
       "    </tr>\n",
       "    <tr>\n",
       "      <th>2</th>\n",
       "      <td>Pennsylvania supermarket shooting</td>\n",
       "      <td>Tunkhannock, PA</td>\n",
       "      <td>6/7/2017</td>\n",
       "      <td>Randy Stair, a 24-year-old worker at Weis groc...</td>\n",
       "      <td>3</td>\n",
       "      <td>0</td>\n",
       "      <td>3</td>\n",
       "      <td>Unclear</td>\n",
       "      <td>White</td>\n",
       "      <td>M</td>\n",
       "    </tr>\n",
       "    <tr>\n",
       "      <th>3</th>\n",
       "      <td>Florida awning manufacturer shooting</td>\n",
       "      <td>Orlando, Florida</td>\n",
       "      <td>6/5/2017</td>\n",
       "      <td>John Robert Neumann, Jr., 45, a former employe...</td>\n",
       "      <td>5</td>\n",
       "      <td>0</td>\n",
       "      <td>5</td>\n",
       "      <td>Unclear</td>\n",
       "      <td>NaN</td>\n",
       "      <td>M</td>\n",
       "    </tr>\n",
       "    <tr>\n",
       "      <th>4</th>\n",
       "      <td>Rural Ohio nursing home shooting</td>\n",
       "      <td>Kirkersville, Ohio</td>\n",
       "      <td>5/12/2017</td>\n",
       "      <td>Thomas Hartless, 43, shot and killed a former ...</td>\n",
       "      <td>3</td>\n",
       "      <td>0</td>\n",
       "      <td>3</td>\n",
       "      <td>Yes</td>\n",
       "      <td>White</td>\n",
       "      <td>M</td>\n",
       "    </tr>\n",
       "  </tbody>\n",
       "</table>\n",
       "</div>"
      ],
      "text/plain": [
       "                                  Title            Location       Date  \\\n",
       "0         Las Vegas Strip mass shooting       Las Vegas, NV  10/1/2017   \n",
       "1            San Francisco UPS shooting   San Francisco, CA  6/14/2017   \n",
       "2     Pennsylvania supermarket shooting     Tunkhannock, PA   6/7/2017   \n",
       "3  Florida awning manufacturer shooting    Orlando, Florida   6/5/2017   \n",
       "4      Rural Ohio nursing home shooting  Kirkersville, Ohio  5/12/2017   \n",
       "\n",
       "                                             Summary  Fatalities  Injured  \\\n",
       "0                                                NaN          58      515   \n",
       "1  Jimmy Lam, 38, fatally shot three coworkers an...           3        2   \n",
       "2  Randy Stair, a 24-year-old worker at Weis groc...           3        0   \n",
       "3  John Robert Neumann, Jr., 45, a former employe...           5        0   \n",
       "4  Thomas Hartless, 43, shot and killed a former ...           3        0   \n",
       "\n",
       "   Total victims Mental Health Issues   Race Gender  \n",
       "0            573              Unclear    NaN    NaN  \n",
       "1              5                  Yes  Asian      M  \n",
       "2              3              Unclear  White      M  \n",
       "3              5              Unclear    NaN      M  \n",
       "4              3                  Yes  White      M  "
      ]
     },
     "execution_count": 40,
     "metadata": {},
     "output_type": "execute_result"
    }
   ],
   "source": [
    "mass_shootings.head()"
   ]
  },
  {
   "cell_type": "code",
   "execution_count": 41,
   "id": "597a6e21",
   "metadata": {},
   "outputs": [
    {
     "data": {
      "text/plain": [
       "<sqlite3.Cursor at 0x7f9fb54ae1f0>"
      ]
     },
     "execution_count": 41,
     "metadata": {},
     "output_type": "execute_result"
    }
   ],
   "source": [
    "cur.execute('''\n",
    "DROP TABLE IF EXISTS mass_shootings_df''')\n",
    "\n",
    "cur.execute('''\n",
    "CREATE TABLE mass_shootings_df\n",
    "(\n",
    "  row_count INT,\n",
    "  title VARCHAR,\n",
    "  location VARCHAR,\n",
    "  date DATE,\n",
    "  summary VARCHAR,\n",
    "  fatalities INT,\n",
    "  injured INT,\n",
    "  total_victims INT,\n",
    "  mental_health_issues VARCHAR,\n",
    "  race VARCHAR,\n",
    "  gender VARCHAR\n",
    ")\n",
    "''')\n",
    "\n",
    "cur.execute('''INSERT INTO mass_shootings_df\n",
    "SELECT * FROM mass_shootings''')\n",
    "\n",
    "cur.execute('''\n",
    "DROP TABLE IF EXISTS mass_shootings;\n",
    "''')"
   ]
  },
  {
   "cell_type": "markdown",
   "id": "461099c5",
   "metadata": {},
   "source": [
    "### Create tables for graph"
   ]
  },
  {
   "cell_type": "code",
   "execution_count": 42,
   "id": "3b6cc04c",
   "metadata": {
    "scrolled": false
   },
   "outputs": [
    {
     "data": {
      "text/plain": [
       "<sqlite3.Cursor at 0x7f9fb54ae1f0>"
      ]
     },
     "execution_count": 42,
     "metadata": {},
     "output_type": "execute_result"
    }
   ],
   "source": [
    "cur.execute('''\n",
    "DROP TABLE IF EXISTS tweet_list''')\n",
    "\n",
    "cur.execute('''\n",
    "CREATE TABLE tweet_list\n",
    "(\n",
    "  \"row_count\" INTEGER,\n",
    "  \"tweet_date\" DATE NOT NULL,\n",
    "  \"tweet_count\" INTEGER,\n",
    "  \"mean_sentiment\" FLOAT,\n",
    "  CONSTRAINT tweet_pk PRIMARY KEY (tweet_date)\n",
    ")\n",
    "''')\n",
    "\n",
    "cur.execute('''INSERT INTO tweet_list\n",
    "SELECT * FROM tweet_list_df''')\n",
    "\n",
    "cur.execute('''\n",
    "DROP TABLE IF EXISTS tweet_list_df;\n",
    "''')"
   ]
  },
  {
   "cell_type": "code",
   "execution_count": 43,
   "id": "8cf2f598",
   "metadata": {
    "scrolled": true
   },
   "outputs": [
    {
     "data": {
      "text/plain": [
       "<sqlite3.Cursor at 0x7f9fb54ae1f0>"
      ]
     },
     "execution_count": 43,
     "metadata": {},
     "output_type": "execute_result"
    }
   ],
   "source": [
    "cur.execute('''\n",
    "DROP TABLE IF EXISTS wonder_data''')\n",
    "\n",
    "cur.execute('''\n",
    "CREATE TABLE wonder_data\n",
    "(\n",
    "  \"row_count\" INTEGER,\n",
    "  \"wonder_date\" DATE NOT NULL,\n",
    "  \"death_count\" INTEGER,\n",
    "  FOREIGN KEY ( wonder_date ) REFERENCES [tweet_list] ( tweet_date ) ON UPDATE  NO ACTION  ON DELETE  CASCADE\n",
    ")\n",
    "''')\n",
    "\n",
    "cur.execute('''\n",
    "            INSERT INTO wonder_data\n",
    "            SELECT * FROM wonder_date''')\n",
    "\n",
    "cur.execute('''\n",
    "DROP TABLE IF EXISTS wonder_date;\n",
    "''')"
   ]
  },
  {
   "cell_type": "code",
   "execution_count": 44,
   "id": "1b8e8e1f",
   "metadata": {},
   "outputs": [
    {
     "data": {
      "text/plain": [
       "<sqlite3.Cursor at 0x7f9fb54ae1f0>"
      ]
     },
     "execution_count": 44,
     "metadata": {},
     "output_type": "execute_result"
    }
   ],
   "source": [
    "cur.execute('''\n",
    "DROP TABLE IF EXISTS shootings_data;''')\n",
    "\n",
    "cur.execute('''\n",
    "CREATE TABLE shootings_data\n",
    "(\n",
    "  \"row_count\" INTEGER,\n",
    "  \"shooting_date\" DATE NOT NULL,\n",
    "  \"fatalities\" INTEGER,\n",
    "  \"injured\" INTEGER,\n",
    "  \"total_victims\" INTEGER,\n",
    "  CONSTRAINT gun_injuries_pk PRIMARY KEY (shooting_date) \n",
    "  FOREIGN KEY ( shooting_date ) REFERENCES [tweet_list] ( tweet_date ) ON UPDATE  NO ACTION  ON DELETE  CASCADE\n",
    ")\n",
    "''')\n",
    "\n",
    "cur.execute('''\n",
    "            INSERT INTO shootings_data\n",
    "            SELECT * FROM mass_shootings_date''')\n",
    "\n",
    "cur.execute('''\n",
    "DROP TABLE IF EXISTS mass_shootings_date;\n",
    "''')"
   ]
  },
  {
   "cell_type": "code",
   "execution_count": 45,
   "id": "94fb834e",
   "metadata": {},
   "outputs": [],
   "source": [
    "combined_data = pd.read_sql_query('''\n",
    "                                 SELECT \n",
    "                                     shootings_data.shooting_date,\n",
    "                                     shootings_data.fatalities AS shooting_fatalities,\n",
    "                                     wonder_data.death_count AS wonder_death_count,\n",
    "                                     tweet_list.tweet_count,\n",
    "                                     tweet_list.mean_sentiment\n",
    "                                 FROM wonder_data \n",
    "                                     LEFT JOIN shootings_data ON wonder_date = shooting_date\n",
    "                                     LEFT JOIN tweet_list ON wonder_date = tweet_date''', connection)"
   ]
  },
  {
   "cell_type": "markdown",
   "id": "6fe35ad3",
   "metadata": {},
   "source": [
    "## Create Graph - Directed Cyclic Graph"
   ]
  },
  {
   "cell_type": "code",
   "execution_count": 46,
   "id": "411f0601",
   "metadata": {
    "scrolled": true
   },
   "outputs": [],
   "source": [
    "combined_data.sort_values(\"shooting_date\")\n",
    "combined_data = combined_data.fillna('')"
   ]
  },
  {
   "cell_type": "code",
   "execution_count": 47,
   "id": "5b84ef8c",
   "metadata": {},
   "outputs": [],
   "source": [
    "#fill in missing dates\n",
    "i = 19\n",
    "year = 2018\n",
    "while i > 22:\n",
    "    combined_data.shooting_date[i] = year\n",
    "    i += 1\n",
    "    year += 1"
   ]
  },
  {
   "cell_type": "code",
   "execution_count": 48,
   "id": "2bcbd440",
   "metadata": {},
   "outputs": [],
   "source": [
    "combined_data_dict = combined_data.set_index(\"shooting_date\").agg(list, axis=1).to_dict()"
   ]
  },
  {
   "cell_type": "code",
   "execution_count": 49,
   "id": "0ecd6529",
   "metadata": {},
   "outputs": [],
   "source": [
    "G = nx.Graph()"
   ]
  },
  {
   "cell_type": "code",
   "execution_count": 50,
   "id": "ee649a65",
   "metadata": {},
   "outputs": [],
   "source": [
    "for dict_key in combined_data_dict:\n",
    "    G.add_nodes_from([(dict_key, \n",
    "                       {\"fatalities\": combined_data_dict[dict_key][0],\n",
    "                        \"death_count\": combined_data_dict[dict_key][1],\n",
    "                        \"tweet_count\": combined_data_dict[dict_key][2],\n",
    "                        \"sentiment\": combined_data_dict[dict_key][3]}),])"
   ]
  },
  {
   "cell_type": "code",
   "execution_count": 51,
   "id": "e3dbcfe3",
   "metadata": {},
   "outputs": [],
   "source": [
    "#add edges\n",
    "for i in range(len(combined_data_dict.keys())):\n",
    "    if i != len(combined_data_dict.keys()) - 1:\n",
    "        G.add_edge(combined_data.shooting_date[i], combined_data.shooting_date[i+1])"
   ]
  },
  {
   "cell_type": "markdown",
   "id": "b49eb6dd",
   "metadata": {},
   "source": [
    "## User Interaction"
   ]
  },
  {
   "cell_type": "code",
   "execution_count": 52,
   "id": "303109d9",
   "metadata": {
    "scrolled": true
   },
   "outputs": [
    {
     "name": "stdout",
     "output_type": "stream",
     "text": [
      "Please enter the starting year between 1999-2017 2010\n",
      "Please enter the ending year between 1999-2017 2012\n"
     ]
    }
   ],
   "source": [
    "year1 = input(\"Please enter the starting year between 1999-2017 \")\n",
    "year2 = input(\"Please enter the ending year between 1999-2017 \")\n",
    "\n",
    "year1 = datetime.strptime(\"1/1/\" + year1, '%d/%M/%Y').strftime('%m/%d/%Y')\n",
    "year2 = datetime.strptime(\"12/31/\" + year2, '%d/%M/%Y').strftime('%m/%d/%Y')"
   ]
  },
  {
   "cell_type": "code",
   "execution_count": 53,
   "id": "62ce4bca",
   "metadata": {},
   "outputs": [
    {
     "name": "stdout",
     "output_type": "stream",
     "text": [
      "\n",
      "        In the year 2010, there were 18.0 fatalities due to mass shootings.\n",
      "        There were a total of 9369 individuals dead due to firearm related injuries.\n",
      "        During that time there were  tweets on guns and gun regulations with a mean sentiment score of \n",
      "        \n",
      "\n",
      "        In the year 2011.0, there were 48.0 fatalities due to mass shootings.\n",
      "        There were a total of 9241 individuals dead due to firearm related injuries.\n",
      "        During that time there were  tweets on guns and gun regulations with a mean sentiment score of \n",
      "        \n",
      "\n",
      "        In the year 2012.0, there were 165.0 fatalities due to mass shootings.\n",
      "        There were a total of 9669 individuals dead due to firearm related injuries.\n",
      "        During that time there were 6.0 tweets on guns and gun regulations with a mean sentiment score of -0.5039\n",
      "        \n"
     ]
    }
   ],
   "source": [
    "year1 = year1[-4:]\n",
    "year2 = year2[-4:]\n",
    "\n",
    "try:\n",
    "    if year1 == year2:\n",
    "        year1 = int(year1)\n",
    "        print(f'''\n",
    "    In the year {year1}, there were {G.nodes[year1][\"fatalities\"]} fatalities due to mass shootings.\n",
    "    There were a total of {G.nodes[year1][\"death_count\"]} individuals dead due to firearm related injuries.\n",
    "    During that time there were {G.nodes[year1][\"tweet_count\"]} tweets on guns and gun regulations with a mean sentiment score of {G.nodes[year1][\"sentiment\"]}\n",
    "    ''')\n",
    "    else:\n",
    "        for path in nx.all_simple_paths(G, source= int(year1), target= int(year2)):\n",
    "            for node in path:\n",
    "                print(f'''\n",
    "        In the year {node}, there were {G.nodes[node][\"fatalities\"]} fatalities due to mass shootings.\n",
    "        There were a total of {G.nodes[node][\"death_count\"]} individuals dead due to firearm related injuries.\n",
    "        During that time there were {G.nodes[node][\"tweet_count\"]} tweets on guns and gun regulations with a mean sentiment score of {G.nodes[node][\"sentiment\"]}\n",
    "        ''')\n",
    "except:\n",
    "    raise ValueError(\"Please input valid numbers\")"
   ]
  },
  {
   "cell_type": "code",
   "execution_count": 54,
   "id": "46cd8e92",
   "metadata": {},
   "outputs": [],
   "source": [
    "shootings_data = pd.read_sql_query('''\n",
    "                                 SELECT \n",
    "                                     *\n",
    "                                 FROM mass_shootings_df''', connection)\n",
    "\n",
    "shootings_data[\"date\"] = shootings_data[\"date\"].apply(lambda x: datetime.strptime(x, '%m/%d/%Y'))"
   ]
  },
  {
   "cell_type": "code",
   "execution_count": 55,
   "id": "bc9bc714",
   "metadata": {
    "scrolled": true
   },
   "outputs": [],
   "source": [
    "queried_shootings_data = shootings_data[(shootings_data[\"date\"] > year1) & (shootings_data[\"date\"] < year2)].reset_index()"
   ]
  },
  {
   "cell_type": "code",
   "execution_count": 56,
   "id": "09e6eec7",
   "metadata": {},
   "outputs": [],
   "source": [
    "queried_wonder_data = wonder_df[(wonder_df[\"Month\"] > year1) & (wonder_df[\"Month\"] < year2)].reset_index()"
   ]
  },
  {
   "cell_type": "code",
   "execution_count": 57,
   "id": "1c3ae875",
   "metadata": {
    "scrolled": true
   },
   "outputs": [
    {
     "name": "stdout",
     "output_type": "stream",
     "text": [
      "These are the mass shootings that happened between 2010 and 2012: \n",
      "\n",
      "0: Seal Beach shooting in Seal Beach, California on 14/00/2011.\n",
      "Summary: Scott Evans Dekraai, 42, opened fire inside a hair salon and was later arrested.\n",
      "There were 8 fatalities and 1 people injured for a total of 9 total_victims.\n",
      "The race of the shooter is white and their gender is Male.\n",
      "\n",
      "\n",
      "1: Salon Meritage in Seal Beach, California on 12/00/2011.\n",
      "Summary: On October 12, 2011, a 41-year old allegedly opened fire at a hair salon in Seal Beach, California, where his former wife worked. Eight people inside the salon and one person in the parking lot were shot, and only one victim survived. The shooter was later arrested about half a mile away from the salon. He argued earlier that day over the phone with his ex-wife over a custody dispute regarding their 8-year old son.\n",
      "There were 8 fatalities and 1 people injured for a total of 9 total_victims.\n",
      "The race of the shooter is White American or European American and their gender is Male.\n",
      "\n",
      "\n",
      "2: IHOP shooting in Carson City, Nevada on 06/00/2011.\n",
      "Summary: Eduardo Sencion, 32, opened fire at an International House of Pancakes restaurant and later died from a self-inflicted gunshot wound.\n",
      "There were 5 fatalities and 7 people injured for a total of 12 total_victims.\n",
      "The race of the shooter is Latino and their gender is Male.\n",
      "\n",
      "\n",
      "3: Carson City IHOP in Carson City, Nevada on 06/00/2011.\n",
      "Summary: On September 6, 2011, a 32-year old man arrived at a local strip mall in Carson City, Nevada. He got out and shot and wounded a man on a motorcycle. He then walked inside the center's IHOP restaurant and shot eleven people, four of them fatally. Then he left the restaurant and began shooting into nearby businesses, injuring no one. When police arrived, the shooter turned the gun of himself.\n",
      "There were 5 fatalities and 7 people injured for a total of 11 total_victims.\n",
      "The race of the shooter is Some other race and their gender is Male.\n",
      "\n",
      "\n",
      "4: Residences in Grand Rapids in Grand Rapids, Michigan on 07/00/2011.\n",
      "Summary: On July 7, 2011, a 34-year old man went to two homes on a shooting rampage, killing his estranged wife, their daughter, his former girlfriend, and members of the victims' families. The shooter kept shooting at random as he fled by car and followed and shot another ex-girlfriend while she was driving on her car. The gunman was chased by police that forced him to exit his vehicle and ran on foot, entering a random residence where he took three hostages. He ended releasing the hostages and committing suicide.\n",
      "There were 8 fatalities and 2 people injured for a total of 9 total_victims.\n",
      "The race of the shooter is Black American or African American and their gender is Male.\n",
      "\n",
      "\n",
      "5: Southern Union State Community College in Opelika, Alabama on 06/00/2011.\n",
      "Summary: On April 6, 2011, a 34-year old man went to the Opelika campus of Southern Union State Community College in Alabama, where his former wife was a student. He fired into a car and shot and killed his mother-in-law and injured his estranged wife, her grandmother, and her 4-year old daughter. Hours later returned to the crime scene and confessed to a photographer that he was the shooter. He was later arrested by the police.\n",
      "There were 1 fatalities and 3 people injured for a total of 4 total_victims.\n",
      "The race of the shooter is White American or European American and their gender is Male.\n",
      "\n",
      "\n",
      "6: Youngstown State University in Youngstown, Ohio on 06/00/2011.\n",
      "Summary: On February 6, 2011, two 19-year old man and a 22-year old man were involved in an argument over a girl in a fraternity house party in Youngstown State University in Ohio. A dispute ensued and one man was thrown out of the party and the other followed. They returned sometime later and began spraying bullets into the crowd, killing one student and injuring eleven others.\n",
      "There were 1 fatalities and 11 people injured for a total of 12 total_victims.\n",
      "The race of the shooter is Black American or African American and their gender is Male.\n",
      "\n",
      "\n",
      "7: Tucson shooting in Tucson, Arizona on 08/00/2011.\n",
      "Summary: Jared Loughner, 22, opened fire outside a Safeway during a constituent meeting with Congresswoman Gabrielle Giffords (D-Ariz.) before he was subdued by bystanders and arrested.\n",
      "There were 6 fatalities and 13 people injured for a total of 19 total_victims.\n",
      "The race of the shooter is white and their gender is Male.\n",
      "\n",
      "\n",
      "8: Tucson, Arizona in Tucson, Arizona on 08/00/2011.\n",
      "Summary: On January 8, 2011, a 22-year old went to a parking lot where a U.S. Representative was holding a meeting in a supermarket parking lot in Casas Adobes, near Tucson, Arizona. The gunman shot and injured the congresswoman, her intended target and then started to shoot randomly, killing six people and injuring twelve others. The shooter was subdued by bystanders and arrested by police.\n",
      "There were 6 fatalities and 13 people injured for a total of 19 total_victims.\n",
      "The race of the shooter is White American or European American and their gender is Male.\n",
      "\n",
      "\n",
      "9: Hartford Beer Distributor shooting in Manchester, Connecticut on 03/00/2010.\n",
      "Summary: Omar S. Thornton, 34, shot up his Hartford Beer Distributor workplace after facing disciplinary issues, then committed suicide.\n",
      "There were 9 fatalities and 2 people injured for a total of 11 total_victims.\n",
      "The race of the shooter is black and their gender is Male.\n",
      "\n",
      "\n",
      "10: Hartford Beer Distributors in Manchester, Connecticut on 03/00/2010.\n",
      "Summary: On August 3, 2010, a 34-year old man was called into his place of employment at Hartford Beer Distributors in Manchester, Connecticut for disciplinary purposes. He signed resignation papers after he was accused of stealing beer and while he was been escorted out of the building, he opened fire killing eight coworkers and injuring two others before committing suicide.\n",
      "There were 9 fatalities and 2 people injured for a total of 10 total_victims.\n",
      "The race of the shooter is Black American or African American and their gender is Male.\n",
      "\n",
      "\n",
      "11: University of Alabama in Huntsville in Huntsville, Alabama on 12/00/2010.\n",
      "Summary: On February 12, 2010, a 44-year old professor went to a faculty meeting at the University of Alabama in Huntsville. She sat quietly at the meeting for 30 or 40 minutes before pulling out a gun, killing three of her coworkers and injuring three others. She was later arrested outside the building.\n",
      "There were 0 fatalities and 3 people injured for a total of 6 total_victims.\n",
      "The race of the shooter is White American or European American and their gender is Female.\n",
      "\n",
      "\n"
     ]
    }
   ],
   "source": [
    "if not queried_shootings_data.empty:\n",
    "    print(f'''These are the mass shootings that happened between {year1} and {year2}: \\n''')\n",
    "    for index, row in queried_shootings_data.iterrows():\n",
    "        print(f'''{index}: {row['title']} in {row['location']} on {row['date'].strftime('%d/%M/%Y')}.\n",
    "Summary: {row['summary']}\n",
    "There were {row['fatalities']} fatalities and {row['injured']} people injured for a total of {row['total_victims']} total_victims.\n",
    "The race of the shooter is {row['race']} and their gender is {row['gender']}.\\n\\n''')    \n",
    "\n",
    "else:\n",
    "    print(f\"There were no mass shootings that happened between {year1} and {year2}\")"
   ]
  },
  {
   "cell_type": "code",
   "execution_count": 58,
   "id": "c950b14f",
   "metadata": {},
   "outputs": [
    {
     "name": "stdout",
     "output_type": "stream",
     "text": [
      "The race of the individuals who were victims of firearm related injuries is as follows:\n"
     ]
    },
    {
     "name": "stderr",
     "output_type": "stream",
     "text": [
      "/Users/yena_kim/opt/anaconda3/lib/python3.9/site-packages/seaborn/_decorators.py:36: FutureWarning: Pass the following variable as a keyword arg: x. From version 0.12, the only valid positional argument will be `data`, and passing other arguments without an explicit keyword will result in an error or misinterpretation.\n",
      "  warnings.warn(\n"
     ]
    },
    {
     "data": {
      "image/png": "[encoded data removed]",
      "text/plain": [
       "<Figure size 432x288 with 1 Axes>"
      ]
     },
     "metadata": {
      "needs_background": "light"
     },
     "output_type": "display_data"
    }
   ],
   "source": [
    "print(f\"The race of the individuals who were victims of firearm related injuries is as follows:\")\n",
    "race = sns.countplot(\"Race\", data = queried_wonder_data)\n",
    "race.set_xticklabels(race.get_xticklabels(), rotation = 45)\n",
    "None"
   ]
  },
  {
   "cell_type": "code",
   "execution_count": 59,
   "id": "7d3ab260",
   "metadata": {
    "scrolled": false
   },
   "outputs": [
    {
     "name": "stdout",
     "output_type": "stream",
     "text": [
      "The type of death of individuals who were victims of firearm related injuries is as follows:\n"
     ]
    },
    {
     "data": {
      "image/png": "[encoded data removed]",
      "text/plain": [
       "<Figure size 432x288 with 1 Axes>"
      ]
     },
     "metadata": {
      "needs_background": "light"
     },
     "output_type": "display_data"
    }
   ],
   "source": [
    "print(f\"The type of death of individuals who were victims of firearm related injuries is as follows:\")\n",
    "death_type = sns.barplot(x = \"Death-Type\", y = \"Deaths\", data = queried_wonder_data)\n",
    "death_type.set_xticklabels(death_type.get_xticklabels(), rotation = 45, horizontalalignment='right')\n",
    "None"
   ]
  },
  {
   "cell_type": "code",
   "execution_count": 60,
   "id": "79687bcb",
   "metadata": {},
   "outputs": [
    {
     "name": "stdout",
     "output_type": "stream",
     "text": [
      "The # of deaths of individuals who were victims of firearm related injuries is as follows:\n"
     ]
    },
    {
     "name": "stderr",
     "output_type": "stream",
     "text": [
      "/var/folders/nm/bsmlffqn33l3l7dzkpk7xjym0000gn/T/ipykernel_86421/3492219309.py:4: UserWarning: FixedFormatter should only be used together with FixedLocator\n",
      "  deaths.set_xticklabels(deaths.get_xticklabels(), rotation = 45, horizontalalignment='right')\n"
     ]
    },
    {
     "data": {
      "image/png": "[encoded data removed]",
      "text/plain": [
       "<Figure size 432x288 with 1 Axes>"
      ]
     },
     "metadata": {
      "needs_background": "light"
     },
     "output_type": "display_data"
    }
   ],
   "source": [
    "print(f\"The # of deaths of individuals who were victims of firearm related injuries is as follows:\")\n",
    "queried_wonder_data_grouped = queried_wonder_data.groupby(['Month']).count()\n",
    "deaths = sns.lineplot(x = \"Month\", y = \"Deaths\", data = queried_wonder_data_grouped)\n",
    "deaths.set_xticklabels(deaths.get_xticklabels(), rotation = 45, horizontalalignment='right')\n",
    "None"
   ]
  },
  {
   "cell_type": "markdown",
   "id": "dbe44eb6",
   "metadata": {},
   "source": [
    "## References: "
   ]
  },
  {
   "cell_type": "markdown",
   "id": "db0a7a11",
   "metadata": {},
   "source": [
    "- https://wonder.cdc.gov/wonder/help/WONDER-API.html\n"
   ]
  }
 ],
 "metadata": {
  "kernelspec": {
   "display_name": "Python 3 (ipykernel)",
   "language": "python",
   "name": "python3"
  },
  "language_info": {
   "codemirror_mode": {
    "name": "ipython",
    "version": 3
   },
   "file_extension": ".py",
   "mimetype": "text/x-python",
   "name": "python",
   "nbconvert_exporter": "python",
   "pygments_lexer": "ipython3",
   "version": "3.9.7"
  }
 },
 "nbformat": 4,
 "nbformat_minor": 5
}
