{
 "cells": [
  {
   "cell_type": "markdown",
   "id": "e557b0b8",
   "metadata": {},
   "source": [
    "# Final Project - 507"
   ]
  },
  {
   "cell_type": "markdown",
   "id": "54744f95",
   "metadata": {},
   "source": [
    "**uniqname** = yenakiml"
   ]
  },
  {
   "cell_type": "code",
   "execution_count": 1,
   "id": "aa5e9ef6",
   "metadata": {},
   "outputs": [],
   "source": [
    "import pandas as pd\n",
    "import numpy as np\n",
    "import requests\n",
    "import json\n",
    "import bs4 as bs\n",
    "import re\n",
    "from datetime import datetime\n",
    "from datetime import date\n",
    "import snscrape.modules.twitter as sntwitter\n",
    "#nltk.download('vader_lexicon')\n",
    "from nltk.sentiment.vader import SentimentIntensityAnalyzer\n",
    "import spacy\n",
    "from spacy.tokens import Doc\n",
    "import sqlite3 as sql\n",
    "import matplotlib.pyplot as plt\n",
    "import networkx as nx\n",
    "import plotly.express as px\n",
    "import sys\n",
    "import plotly.graph_objects as go\n",
    "from plotly.subplots import make_subplots\n",
    "from plotly.offline import iplot"
   ]
  },
  {
   "cell_type": "code",
   "execution_count": 2,
   "id": "8a10dd91",
   "metadata": {},
   "outputs": [],
   "source": [
    "import warnings\n",
    "warnings.filterwarnings(\"ignore\")"
   ]
  },
  {
   "cell_type": "markdown",
   "id": "54f94bd7",
   "metadata": {},
   "source": [
    "## US Mass Shootings"
   ]
  },
  {
   "cell_type": "markdown",
   "id": "10dd328b",
   "metadata": {},
   "source": [
    "### Import data"
   ]
  },
  {
   "cell_type": "code",
   "execution_count": 3,
   "id": "e698df69",
   "metadata": {},
   "outputs": [],
   "source": [
    "mass_shootings = pd.read_csv(\"./Mass Shootings Dataset.csv\", encoding = \"latin1\")"
   ]
  },
  {
   "cell_type": "code",
   "execution_count": 4,
   "id": "f08f02c1",
   "metadata": {},
   "outputs": [],
   "source": [
    "mass_shootings = mass_shootings.drop([\"S#\", \"Latitude\", \"Longitude\"], axis = 1)"
   ]
  },
  {
   "cell_type": "code",
   "execution_count": 5,
   "id": "21796654",
   "metadata": {},
   "outputs": [],
   "source": [
    "mass_shootings_date = mass_shootings[[\"Date\", \"Fatalities\", \"Injured\", \"Total victims\"]]"
   ]
  },
  {
   "cell_type": "code",
   "execution_count": 6,
   "id": "0cc5f863",
   "metadata": {
    "scrolled": true
   },
   "outputs": [],
   "source": [
    "mass_shootings_date[\"Date\"] = mass_shootings_date[\"Date\"].apply(lambda x: datetime.strptime(x, '%m/%d/%Y').strftime('%Y'))"
   ]
  },
  {
   "cell_type": "code",
   "execution_count": 7,
   "id": "8fbc22b2",
   "metadata": {},
   "outputs": [],
   "source": [
    "mass_shootings_date = mass_shootings_date.groupby([mass_shootings_date[\"Date\"]]).sum().reset_index()"
   ]
  },
  {
   "cell_type": "markdown",
   "id": "ef7558e4",
   "metadata": {},
   "source": [
    "## Importing Data from CDC Wonder"
   ]
  },
  {
   "cell_type": "markdown",
   "id": "b7072c6e",
   "metadata": {},
   "source": [
    "https://rdrr.io/github/socdataR/wonderapi/f/vignettes/D76codebook.Rmd"
   ]
  },
  {
   "cell_type": "code",
   "execution_count": 8,
   "id": "e9f448b6",
   "metadata": {},
   "outputs": [],
   "source": [
    "# by-variables\" or those parameters selected in the \"Group Results By\" and the \"And By\" drop-down lists \n",
    "# in the \"Request Form.\" These \"by-variables\" are the cross-tabulations, stratifications or indexes \n",
    "# to the query results. \n",
    "\n",
    "b_parameters = {\n",
    "    \"B_1\": \"D76.V1-level1\", \n",
    "    \"B_2\": \"D76.V1-level2\", \n",
    "    \"B_3\": \"D76.V8\", \n",
    "    \"B_4\": \"D76.V2-level3\", \n",
    "    \"B_5\": \"*None*\"\n",
    "}"
   ]
  },
  {
   "cell_type": "code",
   "execution_count": 9,
   "id": "8e974dd9",
   "metadata": {},
   "outputs": [],
   "source": [
    "# measures to return, the default measures plus any optional measures\n",
    "\n",
    "m_parameters = {\n",
    "    \"M_1\": \"D76.M1\",   # Deaths, must be included\n",
    "    \"M_2\": \"D76.M2\",   # Population, must be included\n",
    "    \"M_3\": \"D76.M3\",   # Crude rate, must be included\n",
    "    #\"M_31\": \"D76.M31\",        # Standard error (crude rate)\n",
    "    #\"M_32\": \"D76.M32\"         # 95% confidence interval (crude rate)\n",
    "    \"M_41\": \"D76.M41\", # Standard error (age-adjusted rate)\n",
    "    \"M_42\": \"D76.M42\"  # 95% confidence interval (age-adjusted rate)\n",
    "}"
   ]
  },
  {
   "cell_type": "code",
   "execution_count": 10,
   "id": "ffdb89c0",
   "metadata": {},
   "outputs": [],
   "source": [
    "# values highlighted in a \"Finder\" control for hierarchical lists, \n",
    "# such as the \"Regions/Divisions/States/Counties hierarchical\" list.\n",
    "\n",
    "\n",
    "f_parameters = {\n",
    "    \"F_D76.V1\": [\"*All*\"], # year/month\n",
    "    \"F_D76.V10\": [\"*All*\"], # Census Regions - dont change\n",
    "    #\"F_D76.V2\": [\"X85-Y09\"], # ICD-10 Codes\n",
    "    \"F_D76.V2\": [\"X93\", \"X94\", \"X95\", \n",
    "                 \"W32\", \"W33\", \"W34\", \n",
    "                 \"Y22\", \"Y23\", \"Y24\",\n",
    "                 \"U01.4\"],\n",
    "    \"F_D76.V27\": [\"*All*\"], # HHS Regions - dont change\n",
    "    \"F_D76.V9\": [\"*All*\"] # State County - dont change\n",
    "}"
   ]
  },
  {
   "cell_type": "code",
   "execution_count": 11,
   "id": "4e1481f4",
   "metadata": {},
   "outputs": [],
   "source": [
    "# contents of the \"Currently selected\" information areas next to \"Finder\" controls in the \"Request Form.\"\n",
    "\n",
    "i_parameters = {\n",
    "    \"I_D76.V1\": \"*All* (All Dates)\",  # year/month\n",
    "    \"I_D76.V10\": \"*All* (The United States)\", # Census Regions - dont change\n",
    "    \"I_D76.V2\": \"V01-Y89 (External causes of morbidity and mortality)\", # ICD-10 Codes\n",
    "    \"I_D76.V27\": \"*All* (The United States)\", # HHS Regions - dont change\n",
    "    \"I_D76.V9\": \"*All* (The United States)\" # State County - dont change\n",
    "}"
   ]
  },
  {
   "cell_type": "code",
   "execution_count": 12,
   "id": "7cb6f3f0",
   "metadata": {},
   "outputs": [],
   "source": [
    "# variable values to limit in the \"where\" clause of the query, found in multiple select \n",
    "# list boxes and advanced finder text entry boxes in the \"Request Form.\"\n",
    "\n",
    "v_parameters = {\n",
    "    \"V_D76.V1\": \"\",         # Year/Month\n",
    "    \"V_D76.V10\": \"*All*\",   # Census Regions\n",
    "    \"V_D76.V11\": \"*All*\",   # 2006 Urbanization\n",
    "    \"V_D76.V12\": \"*All*\",   # ICD-10 130 Cause List (Infants)\n",
    "    \"V_D76.V17\": \"*All*\",   # Hispanic Origin\n",
    "    \"V_D76.V19\": \"*All*\",   # 2013 Urbanization\n",
    "    \"V_D76.V2\": \"\",         # ICD-10 Codes\n",
    "    \"V_D76.V20\": \"*All*\",   # Autopsy\n",
    "    \"V_D76.V21\": \"*All*\",   # Place of Death\n",
    "    \"V_D76.V22\": \"*All*\",   # Injury Intent\n",
    "    \"V_D76.V23\": \"*All*\",   # Injury Mechanism and All Other Leading Causes\n",
    "    \"V_D76.V24\": \"*All*\",   # Weekday\n",
    "    \"V_D76.V25\": \"*All*\",   # Drug/Alcohol Induced Causes\n",
    "    \"V_D76.V27\": \"\",        # HHS Regions\n",
    "    \"V_D76.V4\": \"*All*\",    # ICD-10 113 Cause List\n",
    "    \"V_D76.V5\": [\"15-24\", \"25-34\", \"35-44\"], # Ten-Year Age Groups\n",
    "    \"V_D76.V51\": \"*All*\",   # Five-Year Age Groups\n",
    "    \"V_D76.V52\": \"*All*\",   # Single-Year Ages\n",
    "    \"V_D76.V6\": \"00\",       # Infant Age Groups\n",
    "    \"V_D76.V7\": \"*All*\",    # Gender\n",
    "    \"V_D76.V8\": \"*All*\",    # Race\n",
    "    \"V_D76.V9\": \"\"          # State/County\n",
    "}\n"
   ]
  },
  {
   "cell_type": "code",
   "execution_count": 13,
   "id": "ddb3e9fa",
   "metadata": {},
   "outputs": [],
   "source": [
    "# other parameters, such as radio buttons, checkboxes, and lists that are not data categories\n",
    "\n",
    "o_parameters = {\n",
    "    \"O_V10_fmode\": \"freg\",    # Use regular finder and ignore v parameter value\n",
    "    \"O_V1_fmode\": \"freg\",     # Use regular finder and ignore v parameter value\n",
    "    \"O_V27_fmode\": \"freg\",    # Use regular finder and ignore v parameter value\n",
    "    \"O_V2_fmode\": \"freg\",     # Use regular finder and ignore v parameter value\n",
    "    \"O_V9_fmode\": \"freg\",     # Use regular finder and ignore v parameter value\n",
    "    \"O_aar\": \"aar_std\",       # age-adjusted rates\n",
    "    \"O_aar_pop\": \"0000\",      # population selection for age-adjusted rates\n",
    "    \"O_age\": \"D76.V5\",        # select age-group (e.g. ten-year, five-year, single-year, infant groups)\n",
    "    \"O_javascript\": \"on\",     # Set to on by default\n",
    "    \"O_location\": \"D76.V10\",   # select location variable to use (e.g. state/county, census, hhs regions)\n",
    "    \"O_precision\": \"1\",       # decimal places\n",
    "    \"O_rate_per\": \"100000\",   # rates calculated per X persons\n",
    "    \"O_show_totals\": \"false\",  # Show totals for \n",
    "    \"O_timeout\": \"300\",\n",
    "    \"O_title\": \"Assault by Age Group\",    # title for data run\n",
    "    \"O_ucd\": \"D76.V2\",        # select underlying cause of death category\n",
    "    \"O_urban\": \"D76.V19\"      # select urbanization category\n",
    "}"
   ]
  },
  {
   "cell_type": "code",
   "execution_count": 14,
   "id": "b3adac8b",
   "metadata": {},
   "outputs": [],
   "source": [
    "# values for non-standard age adjusted rates (see mortality online databases).\n",
    "\n",
    "vm_parameters = {\n",
    "    \"VM_D76.M6_D76.V10\": \"\",        # Location\n",
    "    \"VM_D76.M6_D76.V17\": \"*All*\",   # Hispanic-Origin\n",
    "    \"VM_D76.M6_D76.V1_S\": \"*All*\",  # Year\n",
    "    \"VM_D76.M6_D76.V7\": \"*All*\",    # Gender\n",
    "    \"VM_D76.M6_D76.V8\": \"*All*\"     # Race\n",
    "}"
   ]
  },
  {
   "cell_type": "code",
   "execution_count": 15,
   "id": "7c5ef5c3",
   "metadata": {},
   "outputs": [],
   "source": [
    "# Miscellaneous hidden inputs/parameters usually passed by web form. These do not change.\n",
    "\n",
    "misc_parameters = {\n",
    "    \"action-Send\": \"Send\",\n",
    "    \"finder-stage-D76.V1\": \"codeset\",\n",
    "    \"finder-stage-D76.V1\": \"codeset\",\n",
    "    \"finder-stage-D76.V2\": \"codeset\",\n",
    "    \"finder-stage-D76.V27\": \"codeset\",\n",
    "    \"finder-stage-D76.V9\": \"codeset\",\n",
    "    \"stage\": \"request\"\n",
    "}"
   ]
  },
  {
   "cell_type": "code",
   "execution_count": 16,
   "id": "10182ea4",
   "metadata": {},
   "outputs": [],
   "source": [
    "def createParameterList(parameterList):\n",
    "    \"\"\"Helper function to create a parameter list from a dictionary object\"\"\"\n",
    "    \n",
    "    parameterString = \"\"\n",
    "    \n",
    "    for key in parameterList:\n",
    "        parameterString += \"<parameter>\\n\"\n",
    "        parameterString += \"<name>\" + key + \"</name>\\n\"\n",
    "        \n",
    "        if isinstance(parameterList[key], list):\n",
    "            for value in parameterList[key]:\n",
    "                parameterString += \"<value>\" + value + \"</value>\\n\"\n",
    "        else:\n",
    "            parameterString += \"<value>\" + parameterList[key] + \"</value>\\n\"\n",
    "        \n",
    "        parameterString += \"</parameter>\\n\"\n",
    "        \n",
    "    return parameterString"
   ]
  },
  {
   "cell_type": "code",
   "execution_count": 17,
   "id": "7b1f9b50",
   "metadata": {
    "scrolled": true
   },
   "outputs": [],
   "source": [
    "xml_request = \"<request-parameters>\\n\"\n",
    "xml_request += createParameterList(b_parameters)\n",
    "xml_request += createParameterList(m_parameters)\n",
    "xml_request += createParameterList(f_parameters)\n",
    "xml_request += createParameterList(i_parameters)\n",
    "xml_request += createParameterList(o_parameters)\n",
    "xml_request += createParameterList(vm_parameters)\n",
    "xml_request += createParameterList(v_parameters)\n",
    "xml_request += createParameterList(misc_parameters)\n",
    "xml_request += \"</request-parameters>\""
   ]
  },
  {
   "cell_type": "code",
   "execution_count": 18,
   "id": "d50fce29",
   "metadata": {},
   "outputs": [],
   "source": [
    "def cache_to_file(file_name):\n",
    "    def decorator(func):\n",
    "\n",
    "        try:\n",
    "            cache = json.load(open(file_name, 'r'))\n",
    "        except (IOError, ValueError):\n",
    "            cache = {}\n",
    "\n",
    "        def new_func(param):\n",
    "            if param not in cache:\n",
    "                cache[(param)] = func(param)\n",
    "                json.dump(cache, open(file_name, 'w'))\n",
    "                print('Fetching WONDER Data')\n",
    "                return cache[param]\n",
    "            print('Using Cache to Retrieve WONDER data')\n",
    "            return cache[param]\n",
    "\n",
    "        return new_func\n",
    "\n",
    "    return decorator"
   ]
  },
  {
   "cell_type": "code",
   "execution_count": 19,
   "id": "c9ec3647",
   "metadata": {},
   "outputs": [],
   "source": [
    "@cache_to_file('cache_wonder.dat')\n",
    "def get_wonder_data(site_url):\n",
    "    response = requests.post(site_url, data={\"request_xml\": xml_request, \"accept_datause_restrictions\": \"true\"})\n",
    "    if response.status_code == 200:\n",
    "        data = response.text\n",
    "    else:\n",
    "        print(\"something went wrong\")\n",
    "    return data\n",
    "\n",
    "#get_site_specifics(\"https://wonder.cdc.gov/controller/datarequest/D76\")\n"
   ]
  },
  {
   "cell_type": "code",
   "execution_count": 20,
   "id": "eaad529e",
   "metadata": {},
   "outputs": [],
   "source": [
    "def xml2df(xml_data):\n",
    "    \"\"\" This function grabs the root of the XML document and iterates over\n",
    "        the 'r' (row) and 'c' (column) tags of the data-table\n",
    "        Rows with a 'v' attribute contain a numerical value\n",
    "        Rows with a 'l attribute contain a text label and may contain an\n",
    "        additional 'r' (rowspan) tag which identifies how many rows the value\n",
    "        should be added. If present, that label will be added to the following\n",
    "        rows of the data table.\n",
    "        Function returns a two-dimensional array or data frame that may be\n",
    "        used by the pandas library.\"\"\"\n",
    "\n",
    "    root = bs.BeautifulSoup(xml_data,\"lxml\")\n",
    "    all_records = []\n",
    "    row_number = 0\n",
    "    rows = root.find_all(\"r\")\n",
    "    for row in rows:\n",
    "        if row_number >= len(all_records):\n",
    "            all_records.append([])\n",
    "        for cell in row.find_all(\"c\"):\n",
    "            if 'v' in cell.attrs:\n",
    "                try:\n",
    "                    all_records[row_number].append(float(cell.attrs[\"v\"].replace(',','')))\n",
    "                except ValueError:\n",
    "                    all_records[row_number].append(cell.attrs[\"v\"])\n",
    "            else:\n",
    "                if 'r' not in cell.attrs:\n",
    "                    all_records[row_number].append(cell.attrs[\"l\"])\n",
    "                else:\n",
    "                    for row_index in range(int(cell.attrs[\"r\"])):\n",
    "                        if (row_number + row_index) >= len(all_records):\n",
    "                            all_records.append([])\n",
    "                            all_records[row_number + row_index].append(cell.attrs[\"l\"])\n",
    "                        else:\n",
    "                            all_records[row_number + row_index].append(cell.attrs[\"l\"])\n",
    "        row_number += 1\n",
    "    return all_records"
   ]
  },
  {
   "cell_type": "code",
   "execution_count": 21,
   "id": "42deac05",
   "metadata": {
    "scrolled": true
   },
   "outputs": [
    {
     "name": "stdout",
     "output_type": "stream",
     "text": [
      "Using Cache to Retrieve WONDER data\n"
     ]
    }
   ],
   "source": [
    "data_frame = xml2df(get_wonder_data(\"https://wonder.cdc.gov/controller/datarequest/D76\"))\n",
    "\n",
    "wonder_df = pd.DataFrame(data=data_frame, columns=[\"Year\", \"Month\", \"Race\", \"Death-Type\", \"Deaths\", \"Population\", \"Crude Rate\", \"Age-adjusted Rate\", \"Age-adjusted Rate Standard Error\"])"
   ]
  },
  {
   "cell_type": "code",
   "execution_count": 22,
   "id": "8127daf9",
   "metadata": {
    "scrolled": false
   },
   "outputs": [],
   "source": [
    "wonder_df = wonder_df[[\"Year\", \"Month\", \"Race\", \"Death-Type\", \"Deaths\"]]"
   ]
  },
  {
   "cell_type": "code",
   "execution_count": 23,
   "id": "10133daf",
   "metadata": {},
   "outputs": [],
   "source": [
    "conditions = [\n",
    "    (wonder_df['Death-Type'] == \"Assault by rifle, shotgun and larger firearm discharge\"),\n",
    "    (wonder_df['Death-Type'] == \"Assault by other and unspecified firearm discharge\"),\n",
    "    (wonder_df['Death-Type'] == \"Handgun discharge\"),\n",
    "    (wonder_df['Death-Type'] == \"Rifle, shotgun and larger firearm discharge\"),\n",
    "    (wonder_df['Death-Type'] == \"Discharge from other and unspecified firearms\"),\n",
    "    (wonder_df['Death-Type'] == \"Assault by handgun discharge\"),\n",
    "    (wonder_df['Death-Type'] == \"Other and unspecified firearm discharge, undetermined intent\"),\n",
    "    (wonder_df['Death-Type'] == \"Handgun discharge, undetermined intent\"),\n",
    "    (wonder_df['Death-Type'] == \"Rifle, shotgun and larger firearm discharge, undetermined intent\"),\n",
    "    (wonder_df['Death-Type'] == \"Terrorism involving firearms\"),\n",
    "]\n",
    "\n",
    "values = [\"W32\", \"X95\", \"X93\", \"W33\", \"W34\", \"X93\", \"Y24\", \"Y22\", \"Y23\", \"U01.4\"]\n",
    "\n",
    "wonder_df['ICD-10'] = np.select(conditions, values)"
   ]
  },
  {
   "cell_type": "code",
   "execution_count": 24,
   "id": "9fa8308d",
   "metadata": {},
   "outputs": [],
   "source": [
    "wonder_df[\"Month\"] = wonder_df[\"Month\"].apply(lambda x: re.sub(\"[.,]\", \"\", x))"
   ]
  },
  {
   "cell_type": "code",
   "execution_count": 25,
   "id": "39f129e8",
   "metadata": {},
   "outputs": [],
   "source": [
    "wonder_df[\"Month\"] = wonder_df[\"Month\"].apply(lambda x: datetime.strptime(x.strip(), '%b %Y'))"
   ]
  },
  {
   "cell_type": "code",
   "execution_count": 26,
   "id": "625c1177",
   "metadata": {},
   "outputs": [],
   "source": [
    "wonder_date = wonder_df[[\"Year\", \"Deaths\"]]"
   ]
  },
  {
   "cell_type": "code",
   "execution_count": 27,
   "id": "93c25653",
   "metadata": {
    "scrolled": true
   },
   "outputs": [],
   "source": [
    "wonder_date = wonder_date.groupby([wonder_date[\"Year\"]]).sum().reset_index()"
   ]
  },
  {
   "cell_type": "markdown",
   "id": "e07d33bb",
   "metadata": {},
   "source": [
    "## Importing Tweets from Twitter"
   ]
  },
  {
   "cell_type": "code",
   "execution_count": 28,
   "id": "11d5e094",
   "metadata": {},
   "outputs": [],
   "source": [
    "# Setting variables to be used below\n",
    "maxTweets = 100\n",
    "\n",
    "# Creating list to append tweet data to\n",
    "tweets_list = []\n",
    "\n",
    "date_range = pd.date_range(start = '2006-01-01', end = date.today(), freq = 'W') #Twitter was created in 2006\n",
    "date_range_str = [str(date)[:-9] for date in date_range]\n",
    "\n",
    "search_phrases = [\"gun violence\",\n",
    "                  \"gun regulations\",\n",
    "                  \"progun\",\n",
    "                  \"gun control\",\n",
    "                  \"guns\",\n",
    "                  \"firearms\",\n",
    "                  \"weapons\",\n",
    "                  \"rifle\",\n",
    "                  \"pistol\",\n",
    "                  \"bullets\",\n",
    "                  \"2A\",\n",
    "                  \"secondamendment\",\n",
    "                  \"2ndamendment\"\n",
    "                  \"shooting\",\n",
    "                  \"gun\"\n",
    "                 ]"
   ]
  },
  {
   "cell_type": "code",
   "execution_count": 29,
   "id": "d2fab8f6",
   "metadata": {},
   "outputs": [],
   "source": [
    "def cache_to_file(file_name):\n",
    "    def decorator(func):\n",
    "\n",
    "        try:\n",
    "            cache = json.load(open(file_name, 'r'))\n",
    "        except (IOError, ValueError):\n",
    "            cache = {}\n",
    "\n",
    "        def new_func(parameter):\n",
    "            for param in parameter:\n",
    "                if param not in cache:\n",
    "                    cache[(param)] = func(param)\n",
    "                    json.dump(cache, open(file_name, 'w'), default=str)\n",
    "                    print('Fetching Twitter Data')\n",
    "                    return cache[param]\n",
    "                print('Using Cache to Retrieve Twitter Data')\n",
    "                return cache[param]\n",
    "\n",
    "        return new_func\n",
    "\n",
    "    return decorator"
   ]
  },
  {
   "cell_type": "code",
   "execution_count": 30,
   "id": "fbfcc005",
   "metadata": {},
   "outputs": [],
   "source": [
    "@cache_to_file('cache_twitter.dat')\n",
    "def get_twitter_data(date_range):\n",
    "    i = 0\n",
    "\n",
    "    while i < len(date_range):\n",
    "        for phrase in search_phrases:\n",
    "            if i == len(date_range) - 1:\n",
    "                for x,tweet in enumerate(sntwitter.TwitterSearchScraper(f\"{phrase} since:{date_range[i]} until:{date.today()}\").get_items()):\n",
    "                    if x>maxTweets:\n",
    "                        break\n",
    "\n",
    "                    tweets_list.append([tweet.date, tweet.content])\n",
    "            else:\n",
    "                for x,tweet in enumerate(sntwitter.TwitterSearchScraper(f\"{phrase} since:{date_range[i]} until:{date_range[i+1]}\").get_items()):\n",
    "                    if x>maxTweets:\n",
    "                        break\n",
    "\n",
    "                    tweets_list.append([tweet.date, tweet.content])\n",
    "\n",
    "        i += 1\n",
    "    return tweets_list"
   ]
  },
  {
   "cell_type": "code",
   "execution_count": 31,
   "id": "63e21012",
   "metadata": {},
   "outputs": [
    {
     "name": "stdout",
     "output_type": "stream",
     "text": [
      "Using Cache to Retrieve Twitter Data\n"
     ]
    }
   ],
   "source": [
    "tweets_list_df = pd.DataFrame(get_twitter_data(date_range_str), columns =['Date',\n",
    "                                                                          'Content'])"
   ]
  },
  {
   "cell_type": "code",
   "execution_count": 32,
   "id": "ae7625d3",
   "metadata": {},
   "outputs": [],
   "source": [
    "sent_analyzer = SentimentIntensityAnalyzer()\n",
    "def sentiment_scores(docx):\n",
    "    return sent_analyzer.polarity_scores(docx.text)\n",
    "\n",
    "nlp = spacy.load('en_core_web_sm')\n",
    "Doc.set_extension(\"sentimenter\",getter=sentiment_scores, force = True)"
   ]
  },
  {
   "cell_type": "code",
   "execution_count": 33,
   "id": "cd4da09f",
   "metadata": {},
   "outputs": [],
   "source": [
    "tweets_list_df['rating'] = tweets_list_df['Content'].apply(lambda x: nlp(x)._.sentimenter['compound'])"
   ]
  },
  {
   "cell_type": "code",
   "execution_count": 34,
   "id": "5d0052d0",
   "metadata": {},
   "outputs": [],
   "source": [
    "tweets_list_df[\"Date\"] = tweets_list_df[\"Date\"].apply(lambda x: datetime.strptime(str(x), '%Y-%m-%d %H:%M:%S+00:00').strftime('%Y'))"
   ]
  },
  {
   "cell_type": "code",
   "execution_count": 35,
   "id": "620b1dc4",
   "metadata": {},
   "outputs": [],
   "source": [
    "tweets_list_df = tweets_list_df.groupby(by=[\"Date\"]).agg({'Content': 'count', \n",
    "                         'rating':'mean'}).reset_index()"
   ]
  },
  {
   "cell_type": "code",
   "execution_count": 36,
   "id": "e0f6a41f",
   "metadata": {},
   "outputs": [
    {
     "data": {
      "text/plain": [
       "12"
      ]
     },
     "execution_count": 36,
     "metadata": {},
     "output_type": "execute_result"
    }
   ],
   "source": [
    "len(tweets_list_df)"
   ]
  },
  {
   "cell_type": "markdown",
   "id": "667e69db",
   "metadata": {},
   "source": [
    "## Create a database"
   ]
  },
  {
   "cell_type": "code",
   "execution_count": 38,
   "id": "5c390b35",
   "metadata": {},
   "outputs": [],
   "source": [
    "database = \"gun_violence.db\"\n",
    "connection = sql.connect(database)"
   ]
  },
  {
   "cell_type": "code",
   "execution_count": 39,
   "id": "d1b0c732",
   "metadata": {
    "scrolled": true
   },
   "outputs": [],
   "source": [
    "tweets_list_df.to_sql(\"tweet_list_df\", connection, if_exists = \"replace\")\n",
    "wonder_date.to_sql(\"wonder_date\", connection, if_exists = \"replace\")\n",
    "mass_shootings_date.to_sql(\"mass_shootings_date\", connection, if_exists = \"replace\")\n",
    "mass_shootings.to_sql(\"mass_shootings\", connection, if_exists = \"replace\")"
   ]
  },
  {
   "cell_type": "markdown",
   "id": "85233484",
   "metadata": {},
   "source": [
    "### Modify table structure"
   ]
  },
  {
   "cell_type": "code",
   "execution_count": 40,
   "id": "a124040d",
   "metadata": {},
   "outputs": [],
   "source": [
    "cur = connection.cursor()"
   ]
  },
  {
   "cell_type": "code",
   "execution_count": 41,
   "id": "597a6e21",
   "metadata": {},
   "outputs": [
    {
     "data": {
      "text/plain": [
       "<sqlite3.Cursor at 0x7fca4355b500>"
      ]
     },
     "execution_count": 41,
     "metadata": {},
     "output_type": "execute_result"
    }
   ],
   "source": [
    "cur.execute('''\n",
    "DROP TABLE IF EXISTS mass_shootings_df''')\n",
    "\n",
    "cur.execute('''\n",
    "CREATE TABLE mass_shootings_df\n",
    "(\n",
    "  row_count INT,\n",
    "  title VARCHAR,\n",
    "  location VARCHAR,\n",
    "  date DATE,\n",
    "  summary VARCHAR,\n",
    "  fatalities INT,\n",
    "  injured INT,\n",
    "  total_victims INT,\n",
    "  mental_health_issues VARCHAR,\n",
    "  race VARCHAR,\n",
    "  gender VARCHAR\n",
    ")\n",
    "''')\n",
    "\n",
    "cur.execute('''INSERT INTO mass_shootings_df\n",
    "SELECT * FROM mass_shootings''')\n",
    "\n",
    "cur.execute('''\n",
    "DROP TABLE IF EXISTS mass_shootings;\n",
    "''')"
   ]
  },
  {
   "cell_type": "markdown",
   "id": "461099c5",
   "metadata": {},
   "source": [
    "### Create tables for graph"
   ]
  },
  {
   "cell_type": "code",
   "execution_count": 42,
   "id": "3b6cc04c",
   "metadata": {
    "scrolled": false
   },
   "outputs": [
    {
     "data": {
      "text/plain": [
       "<sqlite3.Cursor at 0x7fca4355b500>"
      ]
     },
     "execution_count": 42,
     "metadata": {},
     "output_type": "execute_result"
    }
   ],
   "source": [
    "cur.execute('''\n",
    "DROP TABLE IF EXISTS tweet_list''')\n",
    "\n",
    "cur.execute('''\n",
    "CREATE TABLE tweet_list\n",
    "(\n",
    "  \"row_count\" INTEGER,\n",
    "  \"tweet_date\" DATE NOT NULL,\n",
    "  \"tweet_count\" INTEGER,\n",
    "  \"mean_sentiment\" FLOAT,\n",
    "  CONSTRAINT tweet_pk PRIMARY KEY (tweet_date)\n",
    ")\n",
    "''')\n",
    "\n",
    "cur.execute('''INSERT INTO tweet_list\n",
    "SELECT * FROM tweet_list_df''')\n",
    "\n",
    "cur.execute('''\n",
    "DROP TABLE IF EXISTS tweet_list_df;\n",
    "''')"
   ]
  },
  {
   "cell_type": "code",
   "execution_count": 43,
   "id": "8cf2f598",
   "metadata": {
    "scrolled": true
   },
   "outputs": [
    {
     "data": {
      "text/plain": [
       "<sqlite3.Cursor at 0x7fca4355b500>"
      ]
     },
     "execution_count": 43,
     "metadata": {},
     "output_type": "execute_result"
    }
   ],
   "source": [
    "cur.execute('''\n",
    "DROP TABLE IF EXISTS wonder_data''')\n",
    "\n",
    "cur.execute('''\n",
    "CREATE TABLE wonder_data\n",
    "(\n",
    "  \"row_count\" INTEGER,\n",
    "  \"wonder_date\" DATE NOT NULL,\n",
    "  \"death_count\" INTEGER,\n",
    "  FOREIGN KEY ( wonder_date ) REFERENCES [tweet_list] ( tweet_date ) ON UPDATE  NO ACTION  ON DELETE  CASCADE\n",
    ")\n",
    "''')\n",
    "\n",
    "cur.execute('''\n",
    "            INSERT INTO wonder_data\n",
    "            SELECT * FROM wonder_date''')\n",
    "\n",
    "cur.execute('''\n",
    "DROP TABLE IF EXISTS wonder_date;\n",
    "''')"
   ]
  },
  {
   "cell_type": "code",
   "execution_count": 44,
   "id": "1b8e8e1f",
   "metadata": {},
   "outputs": [
    {
     "data": {
      "text/plain": [
       "<sqlite3.Cursor at 0x7fca4355b500>"
      ]
     },
     "execution_count": 44,
     "metadata": {},
     "output_type": "execute_result"
    }
   ],
   "source": [
    "cur.execute('''\n",
    "DROP TABLE IF EXISTS shootings_data;''')\n",
    "\n",
    "cur.execute('''\n",
    "CREATE TABLE shootings_data\n",
    "(\n",
    "  \"row_count\" INTEGER,\n",
    "  \"shooting_date\" DATE NOT NULL,\n",
    "  \"fatalities\" INTEGER,\n",
    "  \"injured\" INTEGER,\n",
    "  \"total_victims\" INTEGER,\n",
    "  CONSTRAINT gun_injuries_pk PRIMARY KEY (shooting_date) \n",
    "  FOREIGN KEY ( shooting_date ) REFERENCES [tweet_list] ( tweet_date ) ON UPDATE  NO ACTION  ON DELETE  CASCADE\n",
    ")\n",
    "''')\n",
    "\n",
    "cur.execute('''\n",
    "            INSERT INTO shootings_data\n",
    "            SELECT * FROM mass_shootings_date''')\n",
    "\n",
    "cur.execute('''\n",
    "DROP TABLE IF EXISTS mass_shootings_date;\n",
    "''')"
   ]
  },
  {
   "cell_type": "code",
   "execution_count": 45,
   "id": "94fb834e",
   "metadata": {},
   "outputs": [],
   "source": [
    "combined_data = pd.read_sql_query('''\n",
    "                                 SELECT \n",
    "                                     shootings_data.shooting_date,\n",
    "                                     shootings_data.fatalities AS shooting_fatalities,\n",
    "                                     wonder_data.death_count AS wonder_death_count,\n",
    "                                     tweet_list.tweet_count,\n",
    "                                     tweet_list.mean_sentiment\n",
    "                                 FROM wonder_data \n",
    "                                     LEFT JOIN shootings_data ON wonder_date = shooting_date\n",
    "                                     LEFT JOIN tweet_list ON wonder_date = tweet_date''', connection)"
   ]
  },
  {
   "cell_type": "markdown",
   "id": "6fe35ad3",
   "metadata": {},
   "source": [
    "## Create Graph"
   ]
  },
  {
   "cell_type": "code",
   "execution_count": 46,
   "id": "411f0601",
   "metadata": {
    "scrolled": true
   },
   "outputs": [],
   "source": [
    "combined_data.sort_values(\"shooting_date\")\n",
    "combined_data = combined_data.fillna('')"
   ]
  },
  {
   "cell_type": "code",
   "execution_count": 47,
   "id": "5b84ef8c",
   "metadata": {},
   "outputs": [],
   "source": [
    "#fill in missing dates\n",
    "i = 19\n",
    "year = 2018\n",
    "while i < 22:\n",
    "    combined_data.shooting_date[i] = int(year)\n",
    "    i += 1\n",
    "    year += 1"
   ]
  },
  {
   "cell_type": "code",
   "execution_count": 48,
   "id": "83d84200",
   "metadata": {},
   "outputs": [],
   "source": [
    "combined_data.shooting_date = combined_data.shooting_date.astype(int)"
   ]
  },
  {
   "cell_type": "code",
   "execution_count": 49,
   "id": "2bcbd440",
   "metadata": {},
   "outputs": [],
   "source": [
    "combined_data_dict = combined_data.set_index(\"shooting_date\").agg(list, axis=1).to_dict()"
   ]
  },
  {
   "cell_type": "code",
   "execution_count": 50,
   "id": "0ecd6529",
   "metadata": {},
   "outputs": [],
   "source": [
    "G = nx.Graph()"
   ]
  },
  {
   "cell_type": "code",
   "execution_count": 51,
   "id": "ee649a65",
   "metadata": {},
   "outputs": [],
   "source": [
    "for dict_key in combined_data_dict:\n",
    "    G.add_nodes_from([(dict_key, \n",
    "                       {\"fatalities\": combined_data_dict[dict_key][0],\n",
    "                        \"death_count\": combined_data_dict[dict_key][1],\n",
    "                        \"tweet_count\": combined_data_dict[dict_key][2],\n",
    "                        \"sentiment\": combined_data_dict[dict_key][3]}),])"
   ]
  },
  {
   "cell_type": "code",
   "execution_count": 52,
   "id": "e3dbcfe3",
   "metadata": {},
   "outputs": [],
   "source": [
    "#add edges\n",
    "for i in range(len(combined_data_dict.keys())):\n",
    "    if i != len(combined_data_dict.keys()) - 1:\n",
    "        G.add_edge(combined_data.shooting_date[i], combined_data.shooting_date[i+1])"
   ]
  },
  {
   "cell_type": "code",
   "execution_count": 53,
   "id": "1103cfa7",
   "metadata": {},
   "outputs": [],
   "source": [
    "#export to json\n",
    "from networkx.readwrite import json_graph\n",
    "\n",
    "class NpEncoder(json.JSONEncoder):\n",
    "    def default(self, obj):\n",
    "        if isinstance(obj, np.integer):\n",
    "            return int(obj)\n",
    "        if isinstance(obj, np.floating):\n",
    "            return float(obj)\n",
    "        if isinstance(obj, np.ndarray):\n",
    "            return obj.tolist()\n",
    "        return super(NpEncoder, self).default(obj)\n",
    "\n",
    "with open('./graph_structure.json', 'w') as f:\n",
    "    json.dump(json_graph.node_link_data(G), f, cls=NpEncoder)"
   ]
  },
  {
   "cell_type": "markdown",
   "id": "b49eb6dd",
   "metadata": {},
   "source": [
    "## User Interaction"
   ]
  },
  {
   "cell_type": "code",
   "execution_count": 54,
   "id": "7d37c327",
   "metadata": {},
   "outputs": [],
   "source": [
    "valid_years =[\"1999\", \"2000\", \"2001\", \"2002\", \"2003\",\n",
    "                \"2004\", \"2005\", \"2006\", \"2007\", \"2008\",\n",
    "                \"2009\", \"2010\", \"2011\", \"2012\", \"2013\",\n",
    "                \"2014\", \"2015\", \"2016\", \"2017\", \"2018\", \"2019\", \"2020\"]\n",
    "\n",
    "year1 = input(\"Please enter the starting year between 1999-2020. \")\n",
    "if year1 == \"exit\":\n",
    "    print(\"User requested to exit the program\")\n",
    "    sys.exit()\n",
    "\n",
    "year2 = input(\"Please enter the ending year between 1999-2020. \")\n",
    "if year2 == \"exit\":\n",
    "    print(\"User requested to exit the program\")\n",
    "    sys.exit()\n",
    "\n",
    "if (year1 not in valid_years) | (year2 not in valid_years) | (int(year1) > int(year2)):\n",
    "    print(\"Invalid date range\")\n",
    "    sys.exit()\n",
    "\n",
    "year1 = datetime.strptime(\"1/1/\" + year1, '%d/%M/%Y').strftime('%m/%d/%Y')\n",
    "year2 = datetime.strptime(\"12/31/\" + year2, '%d/%M/%Y').strftime('%m/%d/%Y')\n",
    "\n",
    "year1 = year1[-4:]\n",
    "year2 = year2[-4:]"
   ]
  },
  {
   "cell_type": "code",
   "execution_count": 55,
   "id": "fa0ec13e",
   "metadata": {},
   "outputs": [
    {
     "name": "stdout",
     "output_type": "stream",
     "text": [
      "In the year 2012, there were 165.0 fatalities due to mass shootings\n",
      "There were a total of 9669 individuals dead due to firearm related injuries\n",
      "During that time there were 9.0 tweets on guns and gun regulations with a mean sentiment score of -0.05\n",
      "\n",
      "In the year 2013, there were 111.0 fatalities due to mass shootings\n",
      "There were a total of 9329 individuals dead due to firearm related injuries\n",
      "During that time there were 30.0 tweets on guns and gun regulations with a mean sentiment score of -0.24\n",
      "\n",
      "In the year 2014, there were 61.0 fatalities due to mass shootings\n",
      "There were a total of 9107 individuals dead due to firearm related injuries\n",
      "During that time there were 20.0 tweets on guns and gun regulations with a mean sentiment score of -0.09\n",
      "\n",
      "In the year 2015, there were 255.0 fatalities due to mass shootings\n",
      "There were a total of 10760 individuals dead due to firearm related injuries\n",
      "During that time there were 8.0 tweets on guns and gun regulations with a mean sentiment score of -0.15\n",
      "\n",
      "In the year 2016, there were 220.0 fatalities due to mass shootings\n",
      "There were a total of 12039 individuals dead due to firearm related injuries\n",
      "During that time there were 21.0 tweets on guns and gun regulations with a mean sentiment score of -0.05\n",
      "\n",
      "In the year 2017, there were 80.0 fatalities due to mass shootings\n",
      "There were a total of 12015 individuals dead due to firearm related injuries\n",
      "During that time there were 12.0 tweets on guns and gun regulations with a mean sentiment score of -0.15\n",
      "\n"
     ]
    }
   ],
   "source": [
    "try:\n",
    "    if year1 == year2:\n",
    "        year1 = int(year1)\n",
    "        if int(year1) <= 2017:\n",
    "            print(f'''In the year {year1}, there were {G.nodes[year1][\"fatalities\"]} fatalities due to mass shootings.\n",
    "    There were a total of {G.nodes[year1][\"death_count\"]} individuals dead due to firearm related injuries.\n",
    "    During that time there were {G.nodes[year1][\"tweet_count\"]} tweets on guns and gun regulations with a mean sentiment score of {str(round(G.nodes[year1][\"sentiment\"], 2))}\n",
    "    ''')\n",
    "        else:\n",
    "            print(f'''In the year {year1}, there were a total of {G.nodes[year1][\"death_count\"]} individuals dead due to firearm related injuries.\n",
    "    During that time there were {G.nodes[year1][\"tweet_count\"]} tweets on guns and gun regulations with a mean sentiment score of {str(round(G.nodes[year1][\"sentiment\"], 2))}\n",
    "    ''')\n",
    "    else:\n",
    "        for path in nx.all_simple_paths(G, source= int(year1), target= int(year2)):\n",
    "            for node in path:\n",
    "                if node <= 2017:\n",
    "                    print(f\"In the year {node}, there were {G.nodes[node]['fatalities']} fatalities due to mass shootings\")\n",
    "                print(f\"There were a total of {G.nodes[node]['death_count']} individuals dead due to firearm related injuries\")\n",
    "                if node >= 2011:\n",
    "                    print(f\"During that time there were {G.nodes[node]['tweet_count']} tweets on guns and gun regulations with a mean sentiment score of {str(round(G.nodes[node]['sentiment'], 2))}\\n\")\n",
    "                else:\n",
    "                    print(\"\\n\")\n",
    "\n",
    "except:\n",
    "    raise ValueError(\"Please input valid numbers\")"
   ]
  },
  {
   "cell_type": "code",
   "execution_count": 56,
   "id": "17e7d7cc",
   "metadata": {},
   "outputs": [],
   "source": [
    "year2 = str(int(year2) + 1)"
   ]
  },
  {
   "cell_type": "code",
   "execution_count": 57,
   "id": "5a9a65a0",
   "metadata": {},
   "outputs": [
    {
     "name": "stdout",
     "output_type": "stream",
     "text": [
      "These are the mass shootings that happened between 2012 and 2017: \n",
      "\n",
      "0: Las Vegas Strip mass shooting in Las Vegas, NV on 10/01/2017.\n",
      "    Summary: None\n",
      "    There were 58 fatalities and 515 people injured for a total of 573 total_victims.\n",
      "    The race of the shooter is None and their gender is None.\n",
      "\n",
      "\n",
      "1: San Francisco UPS shooting in San Francisco, CA on 06/14/2017.\n",
      "    Summary: Jimmy Lam, 38, fatally shot three coworkers and wounded two others inside a UPS facility in San Francisco. Lam killed himself as law enforcement officers responded to the scene.\n",
      "    There were 3 fatalities and 2 people injured for a total of 5 total_victims.\n",
      "    The race of the shooter is Asian and their gender is M.\n",
      "\n",
      "\n",
      "2: Pennsylvania supermarket shooting in Tunkhannock, PA on 06/07/2017.\n",
      "    Summary: Randy Stair, a 24-year-old worker at Weis grocery fatally shot three of his fellow employees. He reportedly fired 59 rounds with a pair of shotguns before turning the gun on himself as another co-worker fled the scene for help and law enforcement responded.\n",
      "    There were 3 fatalities and 0 people injured for a total of 3 total_victims.\n",
      "    The race of the shooter is White and their gender is M.\n",
      "\n",
      "\n",
      "3: Florida awning manufacturer shooting in Orlando, Florida on 06/05/2017.\n",
      "    Summary: John Robert Neumann, Jr., 45, a former employee of manufacturer Fiamma Inc. fatally shot five workers at the company, and then killed himself on the scene. He'd been fired from the company in April. The attack took place a week before the one-year anniversary of the Orlando nightclub massacre.\n",
      "    There were 5 fatalities and 0 people injured for a total of 5 total_victims.\n",
      "    The race of the shooter is None and their gender is M.\n",
      "\n",
      "\n",
      "4: Rural Ohio nursing home shooting in Kirkersville, Ohio on 05/12/2017.\n",
      "    Summary: Thomas Hartless, 43, shot and killed a former girlfriend and another employee of a nursing home, and then fatally shot the Kirkersville police chief responding to the scene. Hartless' former girlfriend had recently obtained a court protection order against Hartless. Investigators later found more than 60 firearms in the home of Hartless, who was also found dead at the scene of the attack.\n",
      "    There were 3 fatalities and 0 people injured for a total of 3 total_victims.\n",
      "    The race of the shooter is White and their gender is M.\n",
      "\n",
      "\n",
      "5: Fresno downtown shooting in Fresno, California on 04/18/2017.\n",
      "    Summary: Kori Ali Muhammad, 39, opened fire along a street in downtown Fresno, killing three people randomly in an alleged hate crime prior to being apprehended by police. Muhammad, who is black, killed three white victims and later described his attack as being racially motivated; he also reportedly yelled 'Allahu Akbar' at the time he was arrested, but authorities indicated they found no links to Islamist terrorism.\n",
      "    There were 3 fatalities and 0 people injured for a total of 3 total_victims.\n",
      "    The race of the shooter is Black and their gender is M.\n",
      "\n",
      "\n",
      "6: Fort Lauderdale airport shooting in Fort Lauderdale, Florida on 01/06/2017.\n",
      "    Summary: Esteban Santiago, 26, flew from Alaska to Fort Lauderdale, where he opened fire in the baggage claim area of the airport, killing five and wounding six before police aprehended him. \n",
      "    There were 5 fatalities and 6 people injured for a total of 11 total_victims.\n",
      "    The race of the shooter is Latino and their gender is M.\n",
      "\n",
      "\n",
      "7: Cascade Mall shooting in Burlington, WA on 09/23/2016.\n",
      "    Summary: Arcan Cetin, 20, killed a teen girl and three women in the cosmetics section of a Macyâs department store at the Cascade Mall. A man was critically wounded in the shooting and taken to Harborview Medical Center in Seattle, where he died. Cetin was apprehended by police a few hours after the shooting while driving a car near his residence. \n",
      "    There were 5 fatalities and 0 people injured for a total of 5 total_victims.\n",
      "    The race of the shooter is None and their gender is M.\n",
      "\n",
      "\n",
      "8: Baton Rouge police shooting in Baton Rouge, LA on 07/17/2016.\n",
      "    Summary: Gavin Long, a former Marine who served in Iraq, killed three police offers responding to a 911 call, and wounded three others. He was killed in a shoot-out with other officers responding to the scene. Prior to the attack, Long posted prolifically on social media, where he expressed admiration for the cop killer in Dallas 10 days prior.\n",
      "    There were 3 fatalities and 3 people injured for a total of 6 total_victims.\n",
      "    The race of the shooter is Black and their gender is M.\n",
      "\n",
      "\n",
      "9: Dallas police shooting in Dallas, Texas on 07/07/2016.\n",
      "    Summary: Micah Xavier Johnson, a 25-year-old Army veteran, targeted police at a peaceful Black Lives Matter protest, killing five officers and injuring nine others as well as two civilians. After a prolonged standoff in a downtown building, law enforcement killed Johnson using a robot-delivered bomb.\n",
      "    There were 5 fatalities and 11 people injured for a total of 16 total_victims.\n",
      "    The race of the shooter is Black and their gender is M.\n",
      "\n",
      "\n",
      "10: Orlando nightclub massacre in Orlando, Florida on 06/12/2016.\n",
      "    Summary: Omar Mateen, 29, attacked the Pulse nighclub in Orlando in the early morning hours of June 12. He was killed by law enforcement who raided the club after a prolonged standoff.\n",
      "    There were 49 fatalities and 53 people injured for a total of 102 total_victims.\n",
      "    The race of the shooter is Other and their gender is M.\n",
      "\n",
      "\n",
      "11: Ferguson, MO Drive by in Ferguson, Missouri on 04/29/2016.\n",
      "    Summary: A group of 15 to 20 people was gathered for a memorial for a family member when two cars drove by and opened fire. Four people were injured. No suspects or specific motive or targets.\n",
      "    There were 0 fatalities and 4 people injured for a total of 4 total_victims.\n",
      "    The race of the shooter is Unknown and their gender is Unknown.\n",
      "\n",
      "\n",
      "12: Forestville, Maryland Drive-by in 42486,  on 04/26/2016.\n",
      "    Summary: Shooter shot from his car at people standing on the street at 1:30 AM. Police don't believe the woman who died was the target, and do not believe the shooting was random.\n",
      "    There were 1 fatalities and 4 people injured for a total of 5 total_victims.\n",
      "    The race of the shooter is Unknown and their gender is Unknown.\n",
      "\n",
      "\n",
      "13: Halifax County, VA in 42484,  on 04/24/2016.\n",
      "    Summary: Male shooter fired into crown when a deputy police tried, unsuccessfully to stop him. The deputy fired on the shooter and inured him.\n",
      "    There were 0 fatalities and 6 people injured for a total of 6 total_victims.\n",
      "    The race of the shooter is Black American or African American and their gender is Male.\n",
      "\n",
      "\n",
      "14: Tire-Slashing revenge escalation in 42481,  on 04/21/2016.\n",
      "    Summary: Shooter was angry over fact that rival families had been slashing each other's cars. Shooter fired into a block party and injured four.\n",
      "    There were 0 fatalities and 4 people injured for a total of 4 total_victims.\n",
      "    The race of the shooter is Black American or African American and their gender is Male.\n",
      "\n",
      "\n",
      "15: Chicago Rap video Shootout in 42479,  on 04/19/2016.\n",
      "    Summary: Group of young men were in a park at 2 in the morning when a male walked up and shot them. One fatality. Four injuries. Shooter is unknown.\n",
      "    There were 1 fatalities and 4 people injured for a total of 5 total_victims.\n",
      "    The race of the shooter is Unknown and their gender is Unknown.\n",
      "\n",
      "\n",
      "16: Texas family murder-suicide in 42479,  on 04/19/2016.\n",
      "    Summary: Man killed his wife and two young children before committing suicide. No explanation has been offered\n",
      "    There were 4 fatalities and 0 people injured for a total of 4 total_victims.\n",
      "    The race of the shooter is White American or European American and their gender is Male.\n",
      "\n",
      "\n",
      "17: Alabama highway random shooting in 42479,  on 04/19/2016.\n",
      "    Summary: Shooter fired from his car at two different locations along a highway in rural Alabama. He didn't injure any at the first shootout, but injured four at the second. He was killed by police.\n",
      "    There were 1 fatalities and 4 people injured for a total of 4 total_victims.\n",
      "    The race of the shooter is White American or European American and their gender is Male.\n",
      "\n",
      "\n",
      "18: Long Beach Street murder in 42478,  on 04/18/2016.\n",
      "    Summary: Group of men were standing at a street corner when someone came up and fired upon them. One man died, 3 injured. Nothing is known about the shooter.\n",
      "    There were 0 fatalities and 3 people injured for a total of 4 total_victims.\n",
      "    The race of the shooter is Unknown and their gender is Unknown.\n",
      "\n",
      "\n",
      "19: Albuquerque, NM House party shooting in 42469,  on 04/09/2016.\n",
      "    Summary: A Man shot four uninvited party guests who would not leave the party hosted by the shooter. He started firing when they broke windows and started kicking in the door.\n",
      "    There were 0 fatalities and 4 people injured for a total of 4 total_victims.\n",
      "    The race of the shooter is White American or European American and their gender is Male.\n",
      "\n",
      "\n",
      "20: Memphis, TN gas station shooting in 42469,  on 04/09/2016.\n",
      "    Summary: Four people were shot below the waist at a gas station after an altercation broke out at a gas station.\n",
      "    There were 0 fatalities and 4 people injured for a total of 4 total_victims.\n",
      "    The race of the shooter is Unknown and their gender is Unknown.\n",
      "\n",
      "\n",
      "21: Chicago Birthday Party Bus Shooting in 42467,  on 04/07/2016.\n",
      "    Summary: Birthday party bus was dropping off party goers in South Shore Chicago when someone on the street started shooting at them. The bus driver drove off quickly protecting the targets. Unknown motivation. No suspects. \n",
      "    There were 0 fatalities and 5 people injured for a total of 5 total_victims.\n",
      "    The race of the shooter is Unknown and their gender is Unknown.\n",
      "\n",
      "\n",
      "22: Albuquerque, NM Family restaurant shooting in 42461,  on 04/01/2016.\n",
      "    Summary: The shooter killed two of his nephews at the restaurant they owned. He shot and injured his brother. Then killed himself.\n",
      "    There were 3 fatalities and 1 people injured for a total of 3 total_victims.\n",
      "    The race of the shooter is Asian American and their gender is Male.\n",
      "\n",
      "\n",
      "23: Richmond, Virginia in Richmond, Virginia on 03/31/2016.\n",
      "    Summary: A man fatally shot a Virginia state trooper at a Greyhound bus station before the gunman was killed by other troopers. The trooper had been participating with about a dozen other troopers in a training exercise at the bus station when a brief encounter with the gunman quickly turned violent. The shooter had been sitting in the restaurant at the bus station and went to his luggage near the front entrance. He began to walk away from his bags. The trooper approached the suspect. Shortly after the two talked for a few seconds, with the suspect to the troopers immediate right, the shooter pulled a gun from his waistband and shot the trooper from just inches away.\n",
      "    There were 2 fatalities and 2 people injured for a total of 3 total_victims.\n",
      "    The race of the shooter is Black American or African American and their gender is Male.\n",
      "\n",
      "\n",
      "24: Louisburg, North Carolina in Louisburg, North Carolina on 03/26/2016.\n",
      "    Summary: Three people were killed in a shooting at a home. The shooter was on probation after being released from prison about two weeks ago. He was required to wear an ankle bracelet that monitored his whereabouts, but removed the device on Friday  the day before the shootings.\n",
      "    There were 3 fatalities and 0 people injured for a total of 3 total_victims.\n",
      "    The race of the shooter is Black American or African American and their gender is Male.\n",
      "\n",
      "\n",
      "25: Lawrenceburg, Tennessee in Lawrenceburg, Tennessee on 03/25/2016.\n",
      "    Summary: The man was suspected of shooting his wife and two sons on Friday morning at the familys home. All three victims were initially shot inside the residence with a shotgun.\n",
      "    There were 2 fatalities and 2 people injured for a total of 3 total_victims.\n",
      "    The race of the shooter is Unknown and their gender is Male.\n",
      "\n",
      "\n",
      "26: Greenhill, AL Family murder-suicide in 42454,  on 03/25/2016.\n",
      "    Summary: Husband murders his wife and injures his two sons at their home in rural Alabama, then commits suicide\n",
      "    There were 2 fatalities and 2 people injured for a total of 3 total_victims.\n",
      "    The race of the shooter is White American or European American and their gender is Male.\n",
      "\n",
      "\n",
      "27: Sherman, Texas in Sherman, Texas on 03/21/2016.\n",
      "    Summary: A man shot and killed his wife and two boys, then he turned the gun on himself.\n",
      "    There were 4 fatalities and 0 people injured for a total of 3 total_victims.\n",
      "    The race of the shooter is Unknown and their gender is Male.\n",
      "\n",
      "\n",
      "28: Sherman, TX Family murder-suicide in 42450,  on 03/21/2016.\n",
      "    Summary: Husband murders his wife and two young children in Sherman, TX, then commits suicide\n",
      "    There were 4 fatalities and 0 people injured for a total of 3 total_victims.\n",
      "    The race of the shooter is White American or European American and their gender is Male.\n",
      "\n",
      "\n",
      "29: Louisville, Kentucky in Louisville, Kentucky on 03/20/2016.\n",
      "    Summary: A former soldier who fatally shot his wife and two children and set their house on fire before killing himself suffered from post-traumatic stress disorder following a military career that included a stint in Iraq.\n",
      "    There were 4 fatalities and 0 people injured for a total of 3 total_victims.\n",
      "    The race of the shooter is White American or European American and their gender is Male.\n",
      "\n",
      "\n",
      "30: Louisville, KY Family Murder-Suicide in 42449,  on 03/20/2016.\n",
      "    Summary: Husband murders his wife and two children before committing suicide at their Kentucky home\n",
      "    There were 4 fatalities and 0 people injured for a total of 3 total_victims.\n",
      "    The race of the shooter is White American or European American and their gender is Male.\n",
      "\n",
      "\n",
      "31: Plantation, Florida in Plantation, Florida on 03/19/2016.\n",
      "    Summary: A Spring Break party in a house packed with 400 people ended in gunfire that killed one man and wounded four others.\n",
      "    There were 1 fatalities and 4 people injured for a total of 5 total_victims.\n",
      "    The race of the shooter is Unknown and their gender is Unknown.\n",
      "\n",
      "\n",
      "32: Wetumpka Drive-by in 42448,  on 03/19/2016.\n",
      "    Summary: Shooter fired 12 rounds from a semi-automatic handgun that left two dead and two critically injured in a Saturday afternoon drive-by in Wetumpka, Alabama.\n",
      "    There were 2 fatalities and 2 people injured for a total of 4 total_victims.\n",
      "    The race of the shooter is Black American or African American and their gender is Male.\n",
      "\n",
      "\n",
      "33: Spring Break Party shooting in 42448,  on 03/19/2016.\n",
      "    Summary: Shooter fired into crowd at a spring break house party with over 400 people, killing one, and injuring four. No one provided any information about the shooter, who escaped.\n",
      "    There were 1 fatalities and 4 people injured for a total of 5 total_victims.\n",
      "    The race of the shooter is Unknown and their gender is Unknown.\n",
      "\n",
      "\n",
      "34: Atlanta Nightclub shooting in 42444,  on 03/15/2016.\n",
      "    Summary: Two groups of people were asked to leave a nightclub when they started arguing. They were outside the club when they started shooting. Five people were injured. \n",
      "    There were 0 fatalities and 4 people injured for a total of 4 total_victims.\n",
      "    The race of the shooter is Unknown and their gender is Unknown.\n",
      "\n",
      "\n",
      "35: Florida Family celebration ends in shooting in 42442,  on 03/13/2016.\n",
      "    Summary: Family was celebrating a birthday party when a group of 12 arrived. Fight broke out, four people shot.\n",
      "    There were 0 fatalities and 4 people injured for a total of 4 total_victims.\n",
      "    The race of the shooter is Unknown and their gender is Unknown.\n",
      "\n",
      "\n",
      "36: Elberton, Georgia murder-suicide in 42441,  on 03/12/2016.\n",
      "    Summary: Domestic dispute led a man to shoot his girlfriend, kill her daughter, and injure a bystander who was trying to help the girlfriend\n",
      "    There were 2 fatalities and 2 people injured for a total of 3 total_victims.\n",
      "    The race of the shooter is Unknown and their gender is Male.\n",
      "\n",
      "\n",
      "37: Trenton, NJ sidewalk shooting in 42440,  on 03/11/2016.\n",
      "    Summary: A group of women were arguing on a sidewalk outside of an apartment complex in Trenton, NJ when a black Acura pulled up. Two men got out. And one shot at the women, injuring five. \n",
      "    There were 0 fatalities and 5 people injured for a total of 5 total_victims.\n",
      "    The race of the shooter is Unknown and their gender is Unknown.\n",
      "\n",
      "\n",
      "38: Detroit Drive-by in 42440,  on 03/11/2016.\n",
      "    Summary: Four men were sitting on a porch when a black SUV with three passengers drove by and opened fire in broad daylight. Two of the men died and two were injured. The SUV got away and there are no suspects\n",
      "    There were 2 fatalities and 2 people injured for a total of 4 total_victims.\n",
      "    The race of the shooter is Unknown and their gender is Unknown.\n",
      "\n",
      "\n",
      "39: Pittsburgh, Pennsylvania in Pittsburgh, Pennsylvania on 03/09/2016.\n",
      "    Summary: Two gunmen working as a team fatally shot five people including a pregnant woman and critically wounded two others at a backyard cookout, with one attacker using a high-velocity rifle to shoot all the victims in the head as they were driven his direction. Authorities later ruled the death of the womans 8-month-old fetus a homicide and raised the number of fatalities to six.\n",
      "    There were 6 fatalities and 3 people injured for a total of 9 total_victims.\n",
      "    The race of the shooter is Unknown and their gender is Male.\n",
      "\n",
      "\n",
      "40: Wilkinsburg BBQ cookout shootout in 42438,  on 03/09/2016.\n",
      "    Summary: A family was having a cookout in the backyard of a house when two gunmen came and started shooting. There is one suspected target, but 5 people were killed, including one pregnant woman. The two gunmen fled the scene and have not been identified.\n",
      "    There were 5 fatalities and 3 people injured for a total of 8 total_victims.\n",
      "    The race of the shooter is Unknown and their gender is Male.\n",
      "\n",
      "\n",
      "41: Kansas City, Kansas in Kansas City, Kansas on 03/07/2016.\n",
      "    Summary: Four people were found dead Monday night in a home in Kansas City, Kansas. A fifth man was shot to death Tuesday in Missouri. The shooter lives in a house next door to the home where four people were found shot Monday night. The shooter and the neighbors are all familiar with each other.\n",
      "    There were 5 fatalities and 0 people injured for a total of 5 total_victims.\n",
      "    The race of the shooter is Some other race and their gender is Male.\n",
      "\n",
      "\n",
      "42: Lafayette, LA drive by in 42436,  on 03/07/2016.\n",
      "    Summary: Four people shot with non-life-threatening injuries during a drive-by on MLK boulevard in Lafayette, LA. There were multiple shooters in the Ford f-150 truck, truck fled the scene. No leads. \n",
      "    There were 0 fatalities and 4 people injured for a total of 4 total_victims.\n",
      "    The race of the shooter is Unknown and their gender is Unknown.\n",
      "\n",
      "\n",
      "43: Kansas City Home Invasion in 42436,  on 03/07/2016.\n",
      "    Summary: Shooter killed four people at his next door neighbors house. He fled the scene, but was captured the next day, hiding in a ditch. It is seen as a random act.\n",
      "    There were 4 fatalities and 0 people injured for a total of 4 total_victims.\n",
      "    The race of the shooter is Some other race and their gender is Male.\n",
      "\n",
      "\n",
      "44: Chelsea, Massachusetts in Chelsea, Massachusetts on 03/06/2016.\n",
      "    Summary: The shooting happened early Sunday morning during a party in a vacant apartment. The shooter pened fire with one gun at a party of about 50 people in an vacant, three-room apartment. A 19-year-old Chelsea resident was was killed in a shooting that wounded five other teens and a 22-year-old.\n",
      "    There were 1 fatalities and 6 people injured for a total of 7 total_victims.\n",
      "    The race of the shooter is Unknown and their gender is Male.\n",
      "\n",
      "\n",
      "45: Chelsea, MA empty apartment party shooting in 42435,  on 03/06/2016.\n",
      "    Summary: Shooter fired upon party of ~50 people at an empty apartment in Chelsea, MA. 1 dead. 6 wounded. Shooters step brother was among those shot\n",
      "    There were 1 fatalities and 6 people injured for a total of 7 total_victims.\n",
      "    The race of the shooter is Some other race and their gender is Male.\n",
      "\n",
      "\n",
      "46: Roswell, GA Hookah shootout in 42435,  on 03/06/2016.\n",
      "    Summary: Altercation in a hookah bar led a group of seven people to leave in a mini-van. They were followed. When the car stopped, the shooter fired upon the car. Four of the seven sustained non-life-threatening injuries. \n",
      "    There were 0 fatalities and 4 people injured for a total of 4 total_victims.\n",
      "    The race of the shooter is Black American or African American and their gender is Male.\n",
      "\n",
      "\n",
      "47: Wichita Nightclub shooting in 42434,  on 03/05/2016.\n",
      "    Summary: Altercation led to group of people getting kicked out of a club. Shooting took place around 1am outside the club. Four injured. \n",
      "    There were 0 fatalities and 4 people injured for a total of 4 total_victims.\n",
      "    The race of the shooter is Unknown and their gender is Unknown.\n",
      "\n",
      "\n",
      "48: Detroit Strip Club Shootout in 42428,  on 02/28/2016.\n",
      "    Summary: Man apparently inappropriately touched a stripper. He was asked to leave. He waited outside, then shot the stripper and four other people.\n",
      "    There were 0 fatalities and 5 people injured for a total of 5 total_victims.\n",
      "    The race of the shooter is Black American or African American and their gender is Male.\n",
      "\n",
      "\n",
      "49: Riverside restaurant shooting in 42428,  on 02/28/2016.\n",
      "    Summary: Shooter fired upon group of people in a restaurant parking lot\n",
      "    There were 1 fatalities and 3 people injured for a total of 4 total_victims.\n",
      "    The race of the shooter is Some other race and their gender is Male.\n",
      "\n",
      "\n",
      "50: Woodbridge, Virginia in Woodbridge,  Virginia on 02/27/2016.\n",
      "    Summary: On Saturday of February 27th, three officers arrived to investigate a domestic dispute call, the shooter fired a rifle from the front door of his home, striking all three. Inside the house, police found his wife dead in a bedroom.\n",
      "    There were 2 fatalities and 2 people injured for a total of 4 total_victims.\n",
      "    The race of the shooter is Black American or African American and their gender is Male.\n",
      "\n",
      "\n",
      "51: Belfair, Washington in Belfair, Washington on 02/26/2016.\n",
      "    Summary: At around 9am on Friday morning, a man phoned an officer with the Mason County Sheriff's Office to say that he had shot his family and was going to kill himself next. The man was flushed out of his house when the SWAT team fired tear gas inside. He walked outside and shot himself in front of the officers who were gathered in front of the property. The shooter killed his wife, her two teenage sons and a neighbor.\n",
      "    There were 5 fatalities and 0 people injured for a total of 4 total_victims.\n",
      "    The race of the shooter is White American or European American and their gender is Male.\n",
      "\n",
      "\n",
      "52: Excel Industries mass shooting in Hesston, Kansas on 02/25/2016.\n",
      "    Summary: Cedric L. Ford, who worked as a painter at a manufacturing company, shot victims from his car and at his workplace before being killed by police at the scene. Shortly before the rampage he had been served with a restraining order.\n",
      "    There were 3 fatalities and 14 people injured for a total of 17 total_victims.\n",
      "    The race of the shooter is Black and their gender is M.\n",
      "\n",
      "\n",
      "53: Hesston, Kansas in Hesston, Kansas on 02/25/2016.\n",
      "    Summary: On Friday, 90 minutes after receiving a court order over domestic violence, the man returned to the factory for the shooting spree.The man who wounded three people before storming into the central Kansas the lawn mower factory where he worked and shooting 14 others, killing three of them, had just been served a protection from abuse order that likely triggered the attack. Police say they believe the man fired at random while he was returning to his workplace.\n",
      "    There were 4 fatalities and 14 people injured for a total of 17 total_victims.\n",
      "    The race of the shooter is Black American or African American and their gender is Male.\n",
      "\n",
      "\n",
      "54: Belfair, WA Family murder-suicide in 42425,  on 02/25/2016.\n",
      "    Summary: Man killed wife, two kids, and neighbor before calling the cops to tell them he did something bad. They fired tear gas to get him outside. He came out and shot himself in the head.\n",
      "    There were 5 fatalities and 0 people injured for a total of 4 total_victims.\n",
      "    The race of the shooter is White American or European American and their gender is Male.\n",
      "\n",
      "\n",
      "55: Glendale, Arizona in Glendale, Arizona on 02/23/2016.\n",
      "    Summary: Five family members are dead after the son opened fire at their house on Tuesday morning. The shooter killed his father, his mother, his 18-year-old sister, and his 6-year-old sister. Police fatally shot the  shooter after a confrontation inside the home.\n",
      "    There were 5 fatalities and 0 people injured for a total of 4 total_victims.\n",
      "    The race of the shooter is Two or more races and their gender is Male.\n",
      "\n",
      "\n",
      "56: Arizona Family Murder in 42423,  on 02/23/2016.\n",
      "    Summary: Son shot his parents and two sisters in their Phoenix home. Police arrive because the house was on fire. Police shot and killed the shooter.\n",
      "    There were 5 fatalities and 0 people injured for a total of 4 total_victims.\n",
      "    The race of the shooter is White American or European American and their gender is Male.\n",
      "\n",
      "\n",
      "57: Missouri Highway shooting in 42421,  on 02/21/2016.\n",
      "    Summary: Car was fired upon from a stolen Mercedes on the interstate in Hazelwood, MO. One woman died. 3 Injured.\n",
      "    There were 1 fatalities and 3 people injured for a total of 4 total_victims.\n",
      "    The race of the shooter is Black American or African American and their gender is Male.\n",
      "\n",
      "\n",
      "58: Houston Drive-by in 42421,  on 02/21/2016.\n",
      "    Summary: Group of people was fired upon by an unknown number of people in a dark SUV and a white Ford Truck. Five people, including a baby, were injured.\n",
      "    There were 0 fatalities and 5 people injured for a total of 5 total_victims.\n",
      "    The race of the shooter is Unknown and their gender is Unknown.\n",
      "\n",
      "\n",
      "59: Kalamazoo shooting spree in Kalamazoo County, Michigan on 02/20/2016.\n",
      "    Summary: Jason B. Dalton, a driver for Uber, apparently selected his victims randomly as he went on a rampage over several hours in three different locations, including five people he shot in the parking lot of a Cracker Barrel restaurant. He was \"arrested without incident\" at a downtown Kalamazoo bar about six hours after the rampage began.\n",
      "    There were 6 fatalities and 2 people injured for a total of 8 total_victims.\n",
      "    The race of the shooter is White and their gender is M.\n",
      "\n",
      "\n",
      "60: Iuka, Mississippi in Iuka, Mississippi on 02/20/2016.\n",
      "    Summary: Law enforcement officers in northeastern Mississippi stormed a house Saturday after an hours-long standoff with a gunman holed up inside, leading to a shootout that left one officer dead and three others wounded.The standoff started Friday afternoon when authorities responded to a domestic dispute call at the home near Iuka. But the man, holed up in his home with his wife and 10-year-old daughter, refused to come out, sparking the standoff with officers outside. The man suspected of firing on the officers was also killed.\n",
      "    There were 2 fatalities and 3 people injured for a total of 4 total_victims.\n",
      "    The race of the shooter is White American or European American and their gender is Male.\n",
      "\n",
      "\n",
      "61: Kalamazoo, Michigan in Kalamazoo, Michigan on 02/20/2016.\n",
      "    Summary: On Saturday evening of February 20, 2016, the gunman shot eight people in three different parts of the county. For nearly five hours Saturday, the shooter drove from one target to another, gunning down victims at random. And in between the shootings, he apparently picked up passengers for Uber.\n",
      "    There were 6 fatalities and 2 people injured for a total of 8 total_victims.\n",
      "    The race of the shooter is White American or European American and their gender is Male.\n",
      "\n",
      "\n",
      "62: Florida Hookah Bar Shooting in 42420,  on 02/20/2016.\n",
      "    Summary: Argument led to gun shots in the parking lot outside of a hookah bar in Tampa, Florida\n",
      "    There were 1 fatalities and 3 people injured for a total of 4 total_victims.\n",
      "    The race of the shooter is Unknown and their gender is Unknown.\n",
      "\n",
      "\n",
      "63: Kalamazoo Uber Driver Spree Killing in 42420,  on 02/20/2016.\n",
      "    Summary: An Uber driver fired upon people in three locations over the course of about 6 hours.\n",
      "    There were 6 fatalities and 2 people injured for a total of 8 total_victims.\n",
      "    The race of the shooter is White American or European American and their gender is Male.\n",
      "\n",
      "\n",
      "64: Vallejo, CA car shooting in 42419,  on 02/19/2016.\n",
      "    Summary: Two suspects shot at a car and killed one person outright, and the second victim died in the hospital. Two others injured. No leads on suspects.\n",
      "    There were 2 fatalities and 2 people injured for a total of 4 total_victims.\n",
      "    The race of the shooter is Unknown and their gender is Unknown.\n",
      "\n",
      "\n",
      "65: Michigan school shooting in 42409,  on 02/09/2016.\n",
      "    Summary: Shooter was a part of a fight outside of a high school gym. He fired at a crowd, injuring three. He fled the scene and was confronted by a police officer. When he wouldn't drop his weapon, the police officer shot and injured him.\n",
      "    There were 0 fatalities and 3 people injured for a total of 3 total_victims.\n",
      "    The race of the shooter is Black American or African American and their gender is Male.\n",
      "\n",
      "\n",
      "66: Orlando, Florida in Orlando, Florida on 02/07/2016.\n",
      "    Summary: Two people were killed and several others were hurt in a mass shooting inside an Orlando nightclub early Sunday morning.\n",
      "    There were 2 fatalities and 10 people injured for a total of 12 total_victims.\n",
      "    The race of the shooter is Some other race and their gender is Male.\n",
      "\n",
      "\n",
      "67: Nightclub fight turns into shootout in 42407,  on 02/07/2016.\n",
      "    Summary: Two groups of people fired at each other after a fight broke out outside of the Mexican Village Nightclub in Rochester, NY\n",
      "    There were 1 fatalities and 7 people injured for a total of 8 total_victims.\n",
      "    The race of the shooter is Unknown and their gender is Unknown.\n",
      "\n",
      "\n",
      "68: Tampa, FL Strip club shooting in 42406,  on 02/06/2016.\n",
      "    Summary: Fighting broke out in a strip club when an unknown shooter starting firing. One person died on the scene, and one died later. Six were injured.\n",
      "    There were 2 fatalities and 6 people injured for a total of 8 total_victims.\n",
      "    The race of the shooter is Unknown and their gender is Unknown.\n",
      "\n",
      "\n",
      "69: Los Angeles, CA street shooting in 42406,  on 02/06/2016.\n",
      "    Summary: Police were called to a street to investigate an assault case. One hispanic man lay dead on the street. Two other adult males, and a young female were injured.\n",
      "    There were 1 fatalities and 3 people injured for a total of 4 total_victims.\n",
      "    The race of the shooter is Unknown and their gender is Unknown.\n",
      "\n",
      "\n",
      "70: Texas teen commits family murder suicide in 42406,  on 02/06/2016.\n",
      "    Summary: 19-year-old male kills his mother and two neighbors before killing himself. Motive is unclear.\n",
      "    There were 4 fatalities and 0 people injured for a total of 3 total_victims.\n",
      "    The race of the shooter is White American or European American and their gender is Male.\n",
      "\n",
      "\n",
      "71: New Orleans gas station shoot-out in 42400,  on 01/31/2016.\n",
      "    Summary: Altercation broke out at a gas station in New Orleans, when the shooter shot and injured 3 people. One of the victims returned fire and injured the instigator.\n",
      "    There were 0 fatalities and 3 people injured for a total of 3 total_victims.\n",
      "    The race of the shooter is Black American or African American and their gender is Male.\n",
      "\n",
      "\n",
      "72: Glendale, AZ House Party shooting in 42399,  on 01/30/2016.\n",
      "    Summary: Altercation broke out at a house party. A group of five hispanics were asked to leave. They got in a car, and as they drove away, opened fire on the house.\n",
      "    There were 3 fatalities and 5 people injured for a total of 8 total_victims.\n",
      "    The race of the shooter is Unknown and their gender is Male.\n",
      "\n",
      "\n",
      "73: Caroline County, VA Family Murder Suicide in 42398,  on 01/29/2016.\n",
      "    Summary: 42-year-old husband murders wife, shoots two young family members, then shoots himself in the head.\n",
      "    There were 2 fatalities and 2 people injured for a total of 3 total_victims.\n",
      "    The race of the shooter is Unknown and their gender is Male.\n",
      "\n",
      "\n",
      "74: Chesapeake, Virginia in Chesapeake, Virginia on 01/27/2016.\n",
      "    Summary: A Virginia man shot his brother dead in their family home, then killed four other relatives in a nearby house before turning the gun on himself Wednesday. He killed his brother in their house around 3:35 p.m. He then went to the house belonging to his grandmother and murdered more relatives ? father, mother, sister, and an unidentified female.\n",
      "    There were 6 fatalities and 0 people injured for a total of 5 total_victims.\n",
      "    The race of the shooter is White American or European American and their gender is Male.\n",
      "\n",
      "\n",
      "75: Chesapeake, VA Family Murder Suicide in 42396,  on 01/27/2016.\n",
      "    Summary: 26-year-old killed his Mother, Father, Grandmother, brother, and sister before killing himself in the home of his Grandmother.\n",
      "    There were 6 fatalities and 0 people injured for a total of 5 total_victims.\n",
      "    The race of the shooter is White American or European American and their gender is Male.\n",
      "\n",
      "\n",
      "76: Perris, CA Mexican restaurant shooting in 42394,  on 01/25/2016.\n",
      "    Summary: Very little is known about the case. Cops were called to a Mexican restaurant. 1 person was pronounced dead at the scene. 4 others were taken to a hospital.\n",
      "    There were 1 fatalities and 4 people injured for a total of 5 total_victims.\n",
      "    The race of the shooter is Unknown and their gender is Male.\n",
      "\n",
      "\n",
      "77: Florida family murder in 42392,  on 01/23/2016.\n",
      "    Summary: A young man shot his mother, step-father, and his ex-girlfriend's boyfriend\n",
      "    There were 3 fatalities and 0 people injured for a total of 3 total_victims.\n",
      "    The race of the shooter is White American or European American and their gender is Male.\n",
      "\n",
      "\n",
      "78: Los Angeles Drive-by in 42392,  on 01/23/2016.\n",
      "    Summary: Group of people was standing outside of a Liquor store on Avalon boulevard in South Los Angeles. A car drove by and fired an AK-47, killing 1 and wounding 3.\n",
      "    There were 2 fatalities and 2 people injured for a total of 4 total_victims.\n",
      "    The race of the shooter is Unknown and their gender is Unknown.\n",
      "\n",
      "\n",
      "79: Gloucester County, VA, House Party in 42386,  on 01/17/2016.\n",
      "    Summary: A young woman threw a house party for her birthday. It got very crowded. The shooter came and shot four people, killing one. There is some disagreement about his relation to the rest of the people at the party\n",
      "    There were 1 fatalities and 3 people injured for a total of 4 total_victims.\n",
      "    The race of the shooter is Black American or African American and their gender is Male.\n",
      "\n",
      "\n",
      "80: Wilmington, DE robbery in 42380,  on 01/11/2016.\n",
      "    Summary: Two men forcefully entered a house, and started shooting the people inside. One of the robbers was killed. Four other people injured.\n",
      "    There were 1 fatalities and 4 people injured for a total of 5 total_victims.\n",
      "    The race of the shooter is Black American or African American and their gender is Male.\n",
      "\n",
      "\n",
      "81: Roadside in Memphis, Tennessee in 42376,  on 01/07/2016.\n",
      "    Summary: A woman flagged down a car to help her with her car troubles at the side of the road. An 18-year-old got out to help. The two suspects got out of another car and fired on the scene.\n",
      "    There were 1 fatalities and 3 people injured for a total of 4 total_victims.\n",
      "    The race of the shooter is Unknown and their gender is Unknown.\n",
      "\n",
      "\n",
      "82: Residence in Lakeland, Florida in 42375,  on 01/06/2016.\n",
      "    Summary: Two men arrived at the house of a drug dealer and killed three people and critically injured one more.\n",
      "    There were 3 fatalities and 1 people injured for a total of 4 total_victims.\n",
      "    The race of the shooter is Black American or African American and their gender is Male.\n",
      "\n",
      "\n",
      "83: Omaha, Nebraska in Omaha, Nebraska on 12/06/2015.\n",
      "    Summary: A woman and her two year old daughter were shot and killed Sunday. Three other women are still fighting for their lives following the shooting.  The suspect turned himself into police on Tuesday morning.\n",
      "    There were 2 fatalities and 3 people injured for a total of 5 total_victims.\n",
      "    The race of the shooter is Black American or African American and their gender is Male.\n",
      "\n",
      "\n",
      "84: San Bernardino mass shooting in San Bernardino, California on 12/02/2015.\n",
      "    Summary: Syed Rizwan Farook left a Christmas party held at Inland Regional Center, later returning with Tashfeen Malik and the two opened fire, killing 14 and wounding 21, ten critically. The two were later killed by police as they fled in an SUV.\n",
      "    There were 14 fatalities and 21 people injured for a total of 35 total_victims.\n",
      "    The race of the shooter is Other and their gender is M/F.\n",
      "\n",
      "\n",
      "85: San Bernardino, California in San Bernardino, California on 12/02/2015.\n",
      "    Summary: On Wednesday of December 2, 2015, two gunmen entered a conference room on the Inland Regional Center property, killing 14 people, and injuring 21 people. The facility was rented by the San Bernardino County Department of Public Health for a holiday party. The shooter was at the party but left abruptly before the shooting. He seemed angry, witnesses told police. He returned and along with his wife, he went into the building and began firing. The man was an inspector with the county health department that hosted the party. \n",
      "    There were 16 fatalities and 21 people injured for a total of 35 total_victims.\n",
      "    The race of the shooter is Asian American and their gender is Male/Female.\n",
      "\n",
      "\n",
      "86: Planned Parenthood clinic in Colorado Springs, Colorado on 11/27/2015.\n",
      "    Summary: Robert Lewis Dear, 57, shot and killed a police officer and two citizens when he opened fire at a Planned Parenthood health clinic in Colorado Springs, Colorado. Nine others were wounded. Dear was arrested after an hours-long standoff with police.\n",
      "    There were 3 fatalities and 9 people injured for a total of 12 total_victims.\n",
      "    The race of the shooter is White and their gender is M.\n",
      "\n",
      "\n",
      "87: Colorado Springs, Colorado in Colorado Springs, Colorado on 11/27/2015.\n",
      "    Summary: On Friday of November 27, 2015, the shooter opened fire inside a Planned Parenthood clinic in Colorado Springs. Three people were killed and nine others were hurt. The shooter surrendered to officers after a five-hour ordeal Friday in which he fired randomly at people in the clinic and roamed the halls shooting through walls with an assault-style rifle.\n",
      "    There were 3 fatalities and 9 people injured for a total of 12 total_victims.\n",
      "    The race of the shooter is White American or European American and their gender is Male.\n",
      "\n",
      "\n",
      "88: Columbus, Ohio in Columbus, Ohio on 11/23/2015.\n",
      "    Summary: On Monday of November 23, 2015, three of four members of a family were shot and killed and a 12-year-old girl wounded at their home. The suspect died after being shot by police. The shooter was a once friendly neighbor of the victims.\n",
      "    There were 4 fatalities and 1 people injured for a total of 4 total_victims.\n",
      "    The race of the shooter is White American or European American and their gender is Male.\n",
      "\n",
      "\n",
      "89: Minneapolis, Minnesota in Minneapolis, Minnesota on 11/23/2015.\n",
      "    Summary: Five protesters were shot late Monday night near the Black Lives Matter encampment. A group of white supremacists showed up at the protest, and when about a dozen protesters attempted to herd the group away from the area, they opened fire on the protesters. Protesters have been camping out in front of the 4th Precinct since Nov. 15\n",
      "    There were 0 fatalities and 5 people injured for a total of 5 total_victims.\n",
      "    The race of the shooter is White American or European American and their gender is Male.\n",
      "\n",
      "\n",
      "90: Tennessee Colony, Texas in Tennessee Colony, Texas on 11/15/2015.\n",
      "    Summary: On Sunday of November 15, 2015, six people are dead after a weekend homicide at a private campsite. The bodies of a man and woman were found in a travel trailer. The bodies of four males, who were initially considered missing, were later recovered about 1:15 p.m. Monday in a pond on the suspect's residence. \n",
      "    There were 6 fatalities and 0 people injured for a total of 6 total_victims.\n",
      "    The race of the shooter is White American or European American and their gender is Male.\n",
      "\n",
      "\n",
      "91: Jacksonville, Florida in Jacksonville, Florida on 11/13/2015.\n",
      "    Summary: On Friday of November 13, 2015,The former military member walked into his Northside, Florida, home and shot his girlfriend, their twin babies, and girlfriend's father before shooting himself. The shooter had a history of domestic violence.\n",
      "    There were 4 fatalities and 1 people injured for a total of 4 total_victims.\n",
      "    The race of the shooter is Black American or African American and their gender is Male.\n",
      "\n",
      "\n",
      "92: Waycross, GA in Waycross, Georgia on 11/07/2015.\n",
      "    Summary: On Saturday of November 7, 2015,a pregnant mother of two was killed in a violent rampage early Saturday along with her unborn child. Both of her toddlers were also shot. The shooter is the father of one of the small children.\n",
      "    There were 1 fatalities and 2 people injured for a total of 3 total_victims.\n",
      "    The race of the shooter is Black American or African American and their gender is Male.\n",
      "\n",
      "\n",
      "93: Oakland, Maine in Oakland, Maine on 11/04/2015.\n",
      "    Summary: A gunman shot his girlfriend,  his girlfriend's sister and her boyfriend to death in a Central Maine apartment building, leaving a young girl unharmed on the first floor before turning the weapon on himself. They all shared the brown clapboard home, which was divided into two apartments. The gunman and his girlfriend lived in the upstairs room of the apartment while the two other victims (his girlfriend's sister and her boyfriend) lived in the downstairs with their 3 year old daughter. All three victims were found on first floor.\n",
      "    There were 4 fatalities and 0 people injured for a total of 3 total_victims.\n",
      "    The race of the shooter is Unknown and their gender is Male.\n",
      "\n",
      "\n",
      "94: Colorado Springs shooting rampage in Colorado Springs, Colorado on 10/31/2015.\n",
      "    Summary: Noah Harpham, 33, shot three people before dead in Colorado Springs before police killed him in a shootout.\n",
      "    There were 3 fatalities and 0 people injured for a total of 3 total_victims.\n",
      "    The race of the shooter is White  and their gender is M.\n",
      "\n",
      "\n",
      "95: Colorado Springs in Colorado Springs, Colorado on 10/31/2015.\n",
      "    Summary: In the morning of October 31, 2015, three victims were shot and killed on the streets and sidewalks of the neighborhood.The gunman died in a shootout with police. A witness described he was walking in the street with two guns, walking calmly. The shooter killed a bicyclist and two women at a nearby location.\n",
      "    There were 4 fatalities and 0 people injured for a total of 3 total_victims.\n",
      "    The race of the shooter is White American or European American and their gender is Male.\n",
      "\n",
      "\n",
      "96: Colerain Township, Ohio in Colerain Township, Ohio on 10/21/2015.\n",
      "    Summary: A man killed his two teenage sisters and injured another teen in Colerain Township, Ohio, in the early hours of Tuesday, Oct. 21, 2015.\n",
      "    There were 2 fatalities and 1 people injured for a total of 3 total_victims.\n",
      "    The race of the shooter is White American or European American and their gender is Male.\n",
      "\n",
      "\n",
      "97: Northern Arizona University at Flagstaff Campus in Flagstaff, Arizona on 10/09/2015.\n",
      "    Summary: On Friday of October 9, 2015, one person is dead and three are wounded after an early morning shooting on Northern Arizona University's campus. An overnight confrontation between two groups of students escalated into gunfire. The shooter is a freshman of Northern Arizona University.\n",
      "    There were 1 fatalities and 3 people injured for a total of 4 total_victims.\n",
      "    The race of the shooter is White American or European American and their gender is Male.\n",
      "\n",
      "\n",
      "98: Umpqua Community College shooting in Roseburg, Oregon on 10/01/2015.\n",
      "    Summary:  26-year-old Chris Harper Mercer opened fire at Umpqua Community College in southwest Oregon. The gunman shot himself to death after being wounded in a shootout with police.\n",
      "    There were 9 fatalities and 9 people injured for a total of 18 total_victims.\n",
      "    The race of the shooter is Other and their gender is Male.\n",
      "\n",
      "\n",
      "99: Umpqua Community College in Roseburg, Oregon on 10/01/2015.\n",
      "    Summary: On Monday of October 1, 2015, a gunman opened fire at a rural Oregon community college Thursday. 9 people were dead and seven wounded, three critically, before dying in a shootout with police. First, a shot came through the window and hit the teacher in the head  in a freshman writing class. The gunman then entered the Snyder Hall classroom and told people to get on the floor. He told people to stand up and state their religion before opening fire.\n",
      "    There were 10 fatalities and 7 people injured for a total of 16 total_victims.\n",
      "    The race of the shooter is Two or more races and their gender is Male.\n",
      "\n",
      "\n",
      "100: Inglis, Florida in Inglis, Florida on 10/01/2015.\n",
      "    Summary: A man 57-year-old man shot and killed his wife, injured her boyfriend, and killed a Good Samaritan 68-year-old man as he rushed to protect children who were playing near the town hall before taking his life. The shooter's couple had been married for 35 years when they separated, and the shooter's wife had left her husband for her new boyfriend.\n",
      "    There were 3 fatalities and 1 people injured for a total of 3 total_victims.\n",
      "    The race of the shooter is White American or European American and their gender is Male.\n",
      "\n",
      "\n",
      "101: Hill Haven Event Center (Formerly Club CJ's) in Greenville, Georgia on 09/27/2015.\n",
      "    Summary: A shooting at a club in Meriwether Co. early Sunday injured 10 people after witnesses say gun fire was exchanged that stemmed from alleged illegal gambling.\n",
      "    There were 0 fatalities and 10 people injured for a total of 10 total_victims.\n",
      "    The race of the shooter is Black American or African American and their gender is Male.\n",
      "\n",
      "\n",
      "102: Platte, South Dakota in Platte, South Dakota on 09/17/2015.\n",
      "    Summary: The six members of a South Dakota family found dead in the ruins of their burned home were fatally shot, with one death believed to be a suicide. All six members of the shooter's family died of shotgun wounds.\n",
      "    There were 6 fatalities and 0 people injured for a total of 5 total_victims.\n",
      "    The race of the shooter is White American or European American and their gender is Male.\n",
      "\n",
      "\n",
      "103: Clearbrook (Greenwood), Minnesota in Clearbrook (Greenwood), Minnesota on 09/10/2015.\n",
      "    Summary: Five family members - two adults and three children - were found dead in a home on Thursday, September 10 in an apparent murder-suicide. The shooter, a nurse, founded the website AllNurses.com, which provides information and resources for and about the nursing profession.\n",
      "    There were 5 fatalities and 0 people injured for a total of 4 total_victims.\n",
      "    The race of the shooter is White American or European American and their gender is Male.\n",
      "\n",
      "\n",
      "104: Bristol, Tennessee in Bristol, Tennessee on 08/29/2015.\n",
      "    Summary: The shooter shot and killed his mother, stepfather, and grandmother in a matter of seconds on Saturday night.\n",
      "    There were 3 fatalities and 1 people injured for a total of 4 total_victims.\n",
      "    The race of the shooter is White American or European American and their gender is Male.\n",
      "\n",
      "\n",
      "105: Virginia WDBJ live TV interview shooting in Roanoke, Virginia on 08/26/2015.\n",
      "    Summary: Wednesday morning on August 26, 2015, a former employee of a Virginia TV news station waited until two of his former colleagues were live on air presenting a local tourism story at an outdoor shopping mall, then filmed himself raising a gun and shooting them both dead. A third victim survived the attack. He uploaded the videos to Twitter before committing suicide.\n",
      "    There were 3 fatalities and 1 people injured for a total of 3 total_victims.\n",
      "    The race of the shooter is Black American or African American and their gender is Male.\n",
      "\n",
      "\n",
      "106: Parking lot near Boys and Girls Club in Rochester, New York on 08/19/2015.\n",
      "    Summary: Around 11:20 p.m. Wednesday on Genesee Street, a gunman shot into a crowd that gathered outside the Rochester Boys and Girls Club after a basketball game, killing three people and wounding four others. \n",
      "Drive-by, Gang involvement\n",
      "    There were 3 fatalities and 4 people injured for a total of 7 total_victims.\n",
      "    The race of the shooter is Black American or African American and their gender is Male.\n",
      "\n",
      "\n",
      "107: Houston, Texas in Houston, Texas on 08/08/2015.\n",
      "    Summary: A family of six children and two parents were handcuffed and fatally shot in the head at a Houston home by a man with a violent criminal history who had previously been in a relationship with the mother and had a dispute with her.\n",
      "    There were 8 fatalities and 0 people injured for a total of 8 total_victims.\n",
      "    The race of the shooter is Black American or African American and their gender is Male.\n",
      "\n",
      "\n",
      "108: Grand 16 Theatre, Louisiana in Lafayette, Louisiana on 07/23/2015.\n",
      "    Summary: On July 23, 2015, a shooting occurred at The Grand 16 Theater movie theater in Lafayette, Louisiana. The shooter opened fire during a showing of the film Trainwreck, killing two people and injuring nine others before he committed suicide.\n",
      "    There were 3 fatalities and 9 people injured for a total of 11 total_victims.\n",
      "    The race of the shooter is White American or European American and their gender is Male.\n",
      "\n",
      "\n",
      "109: Suwanee in Suwanee, Georgia on 07/22/2015.\n",
      "    Summary: A gunman killed his wife and her two young children inside a suburban Georgia home early Wednesday before fatally shooting himself.\n",
      "    There were 4 fatalities and 1 people injured for a total of 4 total_victims.\n",
      "    The race of the shooter is White American or European American and their gender is Male.\n",
      "\n",
      "\n",
      "110: Chattanooga military recruitment center in Chattanooga, Tennessee on 07/16/2015.\n",
      "    Summary: Kuwaiti-born Mohammod Youssuf Abdulazeez, 24, a naturalized US citizen, opened fire at a Naval reserve center, and then drove to a military recruitment office where he shot and killed four Marines and a Navy service member, and wounded a police officer and another military service member. He was then fatally shot in an exchange of gunfire with law enforcement officers responding to the attack.\n",
      "    There were 5 fatalities and 2 people injured for a total of 7 total_victims.\n",
      "    The race of the shooter is Other and their gender is Male.\n",
      "\n",
      "\n",
      "111: Amnicola Training Center, Chattanooga in Chattanooga, Tennessee on 07/16/2015.\n",
      "    Summary: Four Marines were shot dead Thursday after a gunman brazenly opened fire on two  military facilities in Chattanooga, Tennessee. The shooter was also killed and three people including a police officer were injured.\n",
      "    There were 5 fatalities and 3 people injured for a total of 7 total_victims.\n",
      "    The race of the shooter is White American or European American and their gender is Male.\n",
      "\n",
      "\n",
      "112: River Forest in River Forest, Illinois on 07/12/2015.\n",
      "    Summary: Two people including the shooter are dead and three others were wounded following what began as a domestic violence incident in River Forest on Sunday morning. Two police officers were among those wounded by gunfire in the incident.\n",
      "    There were 2 fatalities and 3 people injured for a total of 4 total_victims.\n",
      "    The race of the shooter is Unknown and their gender is Male.\n",
      "\n",
      "\n",
      "113: Boom Boom Room in Morven, North Carolina on 06/20/2015.\n",
      "    Summary: Two men were arguing in a club called the Boom Boom Room Saturday morning around 2:45. When they started shooting at each other, four bystanders were caught in the crossfire. One of shooters was arrested later, and the other turned himself in on Tuesday, June 23, 2015.\n",
      "    There were 0 fatalities and 4 people injured for a total of 4 total_victims.\n",
      "    The race of the shooter is Black American or African American/Unknown and their gender is Male.\n",
      "\n",
      "\n",
      "114: Charleston Church Shooting in Charleston, South Carolina on 06/17/2015.\n",
      "    Summary: Dylann Storm Roof, 21, shot and killed 9 people after opening fire at the Emanuel AME Church in Charleston, South Carolina. According to a roommate, he had allegedly been âplanning something like that for six months.\"\n",
      "    There were 9 fatalities and 1 people injured for a total of 10 total_victims.\n",
      "    The race of the shooter is White and their gender is Male.\n",
      "\n",
      "\n",
      "115: Mother Emanuel AME Church in Charleston, South Carolina on 06/17/2015.\n",
      "    Summary: Nine people ? three men and six women including the church's pastor ? were shot and killed during a prayer meeting at a church in Charleston, South Carolina.\n",
      "    There were 9 fatalities and 0 people injured for a total of 9 total_victims.\n",
      "    The race of the shooter is White American or European American and their gender is Male.\n",
      "\n",
      "\n",
      "116: Miami Gardens in Miami Gardens, Florida on 06/16/2015.\n",
      "    Summary: The shooter opened fire when fight broke out during birthday party around 5:30 p.m. The man pulled out a gun and opened fire, hitting four people.\n",
      "    There were 0 fatalities and 4 people injured for a total of 4 total_victims.\n",
      "    The race of the shooter is Black American or African American and their gender is Male.\n",
      "\n",
      "\n",
      "117: Trestle Trail bridge shooting in Menasha, Wisconsin on 06/11/2015.\n",
      "    Summary: Sergio Valencia del Toro, 27, in what officials say was a random act, shot and killed three people including an 11-year-old girl before turning the gun on himself.\n",
      "    There were 3 fatalities and 1 people injured for a total of 4 total_victims.\n",
      "    The race of the shooter is Latino and their gender is M.\n",
      "\n",
      "\n",
      "118: Deer Lodge in Deer Lodge, Montana on 06/07/2015.\n",
      "    Summary: The man shot and killed his wife and three children, set a fire in the family's remote cabin and then killed himself.\n",
      "    There were 5 fatalities and 0 people injured for a total of 4 total_victims.\n",
      "    The race of the shooter is White American or European American and their gender is Male.\n",
      "\n",
      "\n",
      "119: Cleveland in Cleveland, Ohio on 05/31/2015.\n",
      "    Summary: On May 31, 2015, the shooter entered his ex-girlfriend's home and found his ex-girlfriend and her grandfather upstairs, shooting and killing both. He then took his own life.\n",
      "    There were 3 fatalities and 1 people injured for a total of 3 total_victims.\n",
      "    The race of the shooter is Unknown and their gender is Male.\n",
      "\n",
      "\n",
      "120: Conyers in Conyers, Georgia on 05/31/2015.\n",
      "    Summary: On May 31, 2015, the shooter entered the business just before 5 pm and open fire. He appeared to randomly shoot at anyone in his path but turns and leaves the building when an armed citizen off-camera returns fire. After the shooter left the liquor store, he  returned to his parents' home and shot and wounded them both. \n",
      "    There were 3 fatalities and 2 people injured for a total of 4 total_victims.\n",
      "    The race of the shooter is White American or European American and their gender is Male.\n",
      "\n",
      "\n",
      "121: Club Maxey's in Decatur, Illinois on 05/25/2015.\n",
      "    Summary: On May 25, 2015, the shooter was attending a rap concert at a venue called Club Maxey Monday when he and the victim got into an altercation.  The four other people were wounded.\n",
      "    There were 1 fatalities and 4 people injured for a total of 5 total_victims.\n",
      "    The race of the shooter is Black American or African American and their gender is Male.\n",
      "\n",
      "\n",
      "122: Tucson in Tucson, Arizona on 05/12/2015.\n",
      "    Summary: On May 12, 2015, the man gunned down four of his family members, including his 17-year-old niece, before fatally shooting himself in a murder-suicide.\n",
      "    There were 5 fatalities and 0 people injured for a total of 4 total_victims.\n",
      "    The race of the shooter is Unknown and their gender is Male.\n",
      "\n",
      "\n",
      "123: Annual motorcycle event in Newark in Newark, New Jersey on 05/10/2015.\n",
      "    Summary: The shooting occurred during an annual event marking the opening of the motorcycle season. More than 2,000 people were in attendance when gunfire erupted at South 16th Street and 19th Avenue just before 8 p.m. Sunday. High school football star Al-Shakeem Woodson was shot and killed and three other people were wounded in the shooting.\n",
      "The shooting was a result of a long-running feud between two other against the shooter and the 16-year-old.\n",
      "    There were 1 fatalities and 3 people injured for a total of 4 total_victims.\n",
      "    The race of the shooter is Black American or African American and their gender is Male.\n",
      "\n",
      "\n",
      "124: Fox Cities Trestle Trail bridge over Little Lake Butte des Morts in Menasha, Wisconsin on 05/03/2015.\n",
      "    Summary: On May 3, 2015, an argument with his ex-fiance likely motivated a university student to randomly shoot four people  on a bridge at a park Sunday night, three fatally. Then  the gunman also shot and killed himself.\n",
      "    There were 4 fatalities and 1 people injured for a total of 4 total_victims.\n",
      "    The race of the shooter is Unknown and their gender is Male.\n",
      "\n",
      "\n",
      "125: Milwaukee in Milwaukee, Wisconsin on 05/01/2015.\n",
      "    Summary: On May 1, 2015, a suspect shot five people during an altercation in the street that stemmed from a family dispute shortly before 1 a.m. Five people were shot, two people from the same family were killed during a fight early Friday morning. \n",
      "    There were 2 fatalities and 3 people injured for a total of 5 total_victims.\n",
      "    The race of the shooter is Unknown and their gender is Male.\n",
      "\n",
      "\n",
      "126: Gates Pub in Gates, New York on 04/25/2015.\n",
      "    Summary: On early Saturday morning of April 25, the man opened fire inside the Gates Pub. Seven people were shot, one of them was killed.\n",
      "    There were 1 fatalities and 6 people injured for a total of 7 total_victims.\n",
      "    The race of the shooter is Black American or African American and their gender is Male.\n",
      "\n",
      "\n",
      "127: Killeen in Killeen, Texas on 04/21/2015.\n",
      "    Summary: On April 21, 2015, the man fatally shot two women and wounded three others at the Village West Apartments. \n",
      "    There were 2 fatalities and 3 people injured for a total of 5 total_victims.\n",
      "    The race of the shooter is Black American or African American and their gender is Male.\n",
      "\n",
      "\n",
      "128: Phoenix in Phoenix, Arizona on 04/16/2015.\n",
      "    Summary: On April 16, 2015, a man who had been in a business dispute with his two brothers shot and killed them with his mother and one of their wives before taking his own life.\n",
      "    There were 5 fatalities and 0 people injured for a total of 4 total_victims.\n",
      "    The race of the shooter is Some other race and their gender is Male.\n",
      "\n",
      "\n",
      "129: Rome in Rome, Georgia on 04/07/2015.\n",
      "    Summary: On April 7, 2015, the man entered 20 Copeland St. about 11:10 p.m. Tuesday and demanded cash from one of victim. The man then fired a handgun at the victim, killing him. Police said at least two men intended to rob people at the Copeland Street home.\n",
      "    There were 1 fatalities and 3 people injured for a total of 4 total_victims.\n",
      "    The race of the shooter is Black American or African American and their gender is Male.\n",
      "\n",
      "\n",
      "130: Indianapolis in Indianapolis, Indiana on 04/05/2015.\n",
      "    Summary: On Sunday  evening of April 5, three suspects entered the apartment, fired multiple shots, and then fled the scene. Five people were injured, three of them were children. One of three suspects was arrested.\n",
      "    There were 0 fatalities and 5 people injured for a total of 5 total_victims.\n",
      "    The race of the shooter is Unknown and their gender is Male.\n",
      "\n",
      "\n",
      "131: Daytona Beach in Daytona Beach, Florida on 04/03/2015.\n",
      "    Summary: On April 3, 2015, four people were shot early Friday morning at a house party near Bethune-Cookman University in Daytona Beach. Four Bethune-Cookman University students were shot after the alleged gunman was kicked out of a house party about four blocks from the campus in Daytona Beach. The escaped suspect surrendered on April 6, 2015.\n",
      "    There were 0 fatalities and 4 people injured for a total of 4 total_victims.\n",
      "    The race of the shooter is Black American or African American and their gender is Male.\n",
      "\n",
      "\n",
      "132: Tulsa in Tulsa, Oklahoma on 03/30/2015.\n",
      "    Summary: On March 30, 2015, police discovered four bodies of a family, including two young boys, inside a home in Tulsa, Oklahoma on Wednesday in what appeared to be a murder-suicide. Officers discovered the bodies Wednesday afternoon as they conducted a welfare check requested by the mother's employer who was concerned after the woman failed to show up for work or call in sick for two days. A handgun was found near the father's body. \n",
      "    There were 4 fatalities and 0 people injured for a total of 3 total_victims.\n",
      "    The race of the shooter is Asian American and their gender is Male.\n",
      "\n",
      "\n",
      "133: Panama City Beach in Panama City Beach, Florida on 03/28/2015.\n",
      "    Summary: On March 28, 2015, seven people were wounded, several critically, in a shooting at a Spring Break house party early Saturday. The shooter was arrested after the shooting.\n",
      "    There were 0 fatalities and 7 people injured for a total of 7 total_victims.\n",
      "    The race of the shooter is Black American or African American and their gender is Male.\n",
      "\n",
      "\n",
      "134: Little Water in Little Water, New Mexico on 03/19/2015.\n",
      "    Summary: On March 19, 2015, police officer was shot and killed after responding to a domestic violence situation. The shooter was holding his family hostage and allegedly pistol-whipped his wife and mother. The suspect led police on a 40-mile chase from New Mexico to Arizona before he was shot and killed.\n",
      "    There were 2 fatalities and 2 people injured for a total of 3 total_victims.\n",
      "    The race of the shooter is Unknown and their gender is Male.\n",
      "\n",
      "\n",
      "135: Mesa in Mesa, Arizona on 03/18/2015.\n",
      "    Summary: On March 18, 2015, the shootings started with an argument inside a motel room that spilled outside, one man dead and two women wounded. The gunman then shot another man who was working at a nearby restaurant. The gunman got away from the restaurant by carjacking the school instructor's car. The man then went to an apartment complex about 2 miles away, and shot another man. Another man was found in a neighboring apartment building with multiple gunshot wounds.\n",
      "    There were 1 fatalities and 5 people injured for a total of 6 total_victims.\n",
      "    The race of the shooter is White American or European American and their gender is Male.\n",
      "\n",
      "\n",
      "136: Cottonwood in Cottonwood, Alabama on 03/15/2015.\n",
      "    Summary: On Sunday night of March 15, the man broke into a house and killed two people including his wife and shot another person before turning the gun on himself.\n",
      "    There were 3 fatalities and 1 people injured for a total of 3 total_victims.\n",
      "    The race of the shooter is White American or European American and their gender is Male.\n",
      "\n",
      "\n",
      "137: Brookhaven in Brookhaven, Mississippi on 03/13/2015.\n",
      "    Summary: On early Friday morning of March 13, the man accused of shooting  the owners of a house, killing the two and critically injuring the other three. The man rented a room in the house. The man and the house owner had argued about something, and the man pulled out a gun and started shooting. He was found dead on Saturday, May 31, 2015 in his cell.\n",
      "    There were 2 fatalities and 3 people injured for a total of 5 total_victims.\n",
      "    The race of the shooter is Black American or African American and their gender is Male.\n",
      "\n",
      "\n",
      "138: Tarboro in Tarboro, North Carolina on 02/28/2015.\n",
      "    Summary: On Saturday afternoon of February 28, 2015, one of the fatal shootings happened at the Master's Touch barber shop around 1 p.m. Another shooting  happened at a nearby mobile home park. A woman and man were shot in that encounter. Police later shot and killed the suspected gunman after they tracked down the suspect. \n",
      "    There were 4 fatalities and 0 people injured for a total of 3 total_victims.\n",
      "    The race of the shooter is Black American or African American and their gender is Male.\n",
      "\n",
      "\n",
      "139: Birmingham's Washington Park in Birmingham, Alabama on 02/27/2015.\n",
      "    Summary: On February 27, 2015, the online Facebook brawl between two groups of friends spilled out into the streets with a planned videotaped fight.  After the melee ensued, two teenage males pulled out guns and started shooting at the girls. The shots killed 14-year-old girl and wounded two others.\n",
      "    There were 1 fatalities and 2 people injured for a total of 3 total_victims.\n",
      "    The race of the shooter is Black American or African American and their gender is Male.\n",
      "\n",
      "\n",
      "140: Tyrone in Tyrone, Missouri on 02/26/2015.\n",
      "    Summary: Late night on February 26, a man entered the home of two of his cousins and shot them. Their daughter escaped the home and called the police. The shooter proceeded to four other nearby residences, killing two more of his cousins and three other acquaintances. The shooter then drove to another county and killed himself in his car. The shooter's mother, who lived with the shooter, was found dead from lung cancer in her home.\n",
      "    There were 8 fatalities and 1 people injured for a total of 8 total_victims.\n",
      "    The race of the shooter is White American or European American and their gender is Male.\n",
      "\n",
      "\n",
      "141: Charlotte in Charlotte, North Carolina on 02/24/2015.\n",
      "    Summary: On February 24, 2015, \"America's Next Top Model\" contestant was killed in a triple homicide at her boyfriend's home.\n",
      "    There were 3 fatalities and 0 people injured for a total of 3 total_victims.\n",
      "    The race of the shooter is Some other race and their gender is Male.\n",
      "\n",
      "\n",
      "142: Clarkesville in Clarkesville, Georgia on 02/22/2015.\n",
      "    Summary: On February 22, 2015, A former police officer fatally shot his ex-wife and her friend, then wounded a local sheriff and a deputy at his ex-wife's home on Sunday before he was killed by the return fire from law enforcement.\n",
      "    There were 3 fatalities and 2 people injured for a total of 4 total_victims.\n",
      "    The race of the shooter is White American or European American and their gender is Male.\n",
      "\n",
      "\n",
      "143: Killeen in Killeen, Texas on 02/22/2015.\n",
      "    Summary: On Sunday night of February 22, Fort Hood soldier opened fire on three people, killing two and injuring one before forcing his wife into another home, where he killed her and then himself. \n",
      "    There were 4 fatalities and 1 people injured for a total of 4 total_victims.\n",
      "    The race of the shooter is Black American or African American and their gender is Male.\n",
      "\n",
      "\n",
      "144: Chapel Hill in Chapel Hill, North Carolina on 02/10/2015.\n",
      "    Summary: On the evening of Feb. 10, 2015, a man entered the apartment of three Muslim students with whom he had an ongoing dispute about parking space. The man was a fellow resident of the apartment complex. He shot all three people in the head, killing them. \n",
      "    There were 3 fatalities and 0 people injured for a total of 3 total_victims.\n",
      "    The race of the shooter is White American or European American and their gender is Male.\n",
      "\n",
      "\n",
      "145: Moon Lake in New Port Richey, Florida on 02/09/2015.\n",
      "    Summary: Early morning on Feb. 9, 2015 two shooters with significant criminal records entered a house Moon Lake and shot the four residents of the house. Three of the victims were killed and the fourth was injured and escaped the house after the shooters left. The shooters escaped and were arrested a week later.\n",
      "    There were 3 fatalities and 1 people injured for a total of 4 total_victims.\n",
      "    The race of the shooter is White American or European American/Some other Race and their gender is Male/Female.\n",
      "\n",
      "\n",
      "146: Monroeville Macy's in Monroeville, Pennsylvania on 02/07/2015.\n",
      "    Summary: On the evening of Feb. 7, 2015, a teenager entered Macy's at the Monroeville Mall, approached a man and spoke briefly with him. Then he shot him and two bystanders. The shooter left the scene, but was arrested the next morning.\n",
      "    There were 0 fatalities and 3 people injured for a total of 3 total_victims.\n",
      "    The race of the shooter is Black American or African American and their gender is Male.\n",
      "\n",
      "\n",
      "147: Douglasville in Douglasville, Georgia on 02/07/2015.\n",
      "    Summary: On February 7, 2015, a man entered the house of his ex-wife and shot her, two of their children, her boyfriend, and wounded two of her children. He then went onto the street and shot himself.\n",
      "    There were 5 fatalities and 2 people injured for a total of 6 total_victims.\n",
      "    The race of the shooter is Black American or African American and their gender is Male.\n",
      "\n",
      "\n",
      "148: King, North Carolina in King, North Carolina on 02/04/2015.\n",
      "    Summary: A Couple and their sons were found shot to death in their mobile home on Wednesday, February 4. 2015. All four family members were found shot in the head. The shooter shot his wife and two boys before killing himself.\n",
      "    There were 4 fatalities and 0 people injured for a total of 3 total_victims.\n",
      "    The race of the shooter is White American or European American and their gender is Male.\n",
      "\n",
      "\n",
      "149: McAvan's Pub in Syracuse, New York on 02/01/2015.\n",
      "    Summary: Shortly after midnight on February 1, 2015, a man forced his ex-girlfriend at gunpoint to bring him to McAvan's Pub, where a birthday party with her relatives was taking place. The woman's brother attempted to separate her from her companion, at which point the man opened fire, injuring six people including his ex-girlfriend's brother.\n",
      "    There were 0 fatalities and 6 people injured for a total of 6 total_victims.\n",
      "    The race of the shooter is Black American or African American and their gender is Male.\n",
      "\n",
      "\n",
      "150: LaGrange in LaGrange, Georgia on 01/28/2015.\n",
      "    Summary: On January 28, 2015, in a Georgia home, a man shot three family members and one friend, and strangled his daughter in law. All five died. He left town with the family's dog, and police arrested him several days later.\n",
      "    There were 5 fatalities and 0 people injured for a total of 5 total_victims.\n",
      "    The race of the shooter is White American or European American and their gender is Male.\n",
      "\n",
      "\n",
      "151: Queens in New York City, New York on 01/24/2015.\n",
      "    Summary: Early in the morning of January 24, 2015, a man shot his two daughters, wife, and mother-in-law, killing all but one of his daughters. The shooter  then went to his car and shot himself.\n",
      "    There were 4 fatalities and 1 people injured for a total of 4 total_victims.\n",
      "    The race of the shooter is Black American or African American and their gender is Male.\n",
      "\n",
      "\n",
      "152: Omaha in Omaha, Nebraska on 01/24/2015.\n",
      "    Summary: On the morning of January 24, 2015, two shooters opened fire at a party outside a home in Omaha. Three were killed and five others were injured. One of the suspected shooters was arrested, but the other has not been identified. Possibly gang-related.\n",
      "    There were 3 fatalities and 5 people injured for a total of 8 total_victims.\n",
      "    The race of the shooter is Black American or African American and their gender is Male.\n",
      "\n",
      "\n",
      "153: Moscow in Moscow, Idaho on 01/10/2015.\n",
      "    Summary: On Friday, January 10, 2015, a man shot his adoptive mother in her house, walked to his landlord's nearby office and shot and killed him and injured another person in the office. He then drove to an Arby's that his parents frequented, asked to see the manager, and shot and killed her. \n",
      "    There were 3 fatalities and 1 people injured for a total of 4 total_victims.\n",
      "    The race of the shooter is Asian American and their gender is Male.\n",
      "\n",
      "\n",
      "154: Memphis in Memphis, Tennessee on 01/01/2015.\n",
      "    Summary: On Jan. 1, 2015, 25 people were on a party bus that was shot at by people in two vehicles that followed the bus. At least one of these men had been in a verbal argument with one of the bus' passengers at a club where the party bus had stopped just before the shooting.\n",
      "    There were 0 fatalities and 5 people injured for a total of 5 total_victims.\n",
      "    The race of the shooter is Black American or African American and their gender is Male.\n",
      "\n",
      "\n",
      "155: Pennsburg, Souderton, Lansdale, Harleysville in Pennsburg, Souderton, Lansdale, Harleysville, Pennsylvania on 12/15/2014.\n",
      "    Summary: Early in the morning on December 15, 2014, a man entered the Souderton home of his ex-wife's sister and killed her, her husband, and her two children. He then went to a Lansdale residence and shot his ex-wife's mother and grandmother. He proceeded to his ex-wife's home in Lower Salford where he fatally shot her and took their two daughters to another location. Nearly two days later the was found dead from a drug overdose.\n",
      "    There were 7 fatalities and 1 people injured for a total of 7 total_victims.\n",
      "    The race of the shooter is White American or European American and their gender is Male.\n",
      "\n",
      "\n",
      "156: Morgantown in Morgantown, West Virginia on 12/01/2014.\n",
      "    Summary: On December 1, 2014, a man entered the home of his ex-girlfriend and shot and killed her and her new boyfriend. He then proceeded to the home of a business rival, whom he killed, and the home of another man with whom his ex-girlfriend had been involved, whom he also killed. The shooter then drove to another county and shot himself.\n",
      "    There were 5 fatalities and 0 people injured for a total of 4 total_victims.\n",
      "    The race of the shooter is White American or European American and their gender is Male.\n",
      "\n",
      "\n",
      "157: Florida State University in Tallahassee, Florida on 11/19/2014.\n",
      "    Summary: On November 19 just after midnight,  a graduate of Florida State University went to a library on campus which was full of people. He opened fire, injuring three people. Police arrived and told the shooter to drop the weapon, but he refused. Police then fired at the shooter, killing him.\n",
      "    There were 1 fatalities and 3 people injured for a total of 3 total_victims.\n",
      "    The race of the shooter is Black American or African American and their gender is Male.\n",
      "\n",
      "\n",
      "158: Marysville-Pilchuck High School shooting in Marysville, Washington on 10/24/2014.\n",
      "    Summary: Jaylen Fryberg, 15, using a .40-caliber Berretta, shot five \n",
      "students at Marysville High School, including two of his cousins and three friends, killing all but one. Fryberg arranged to meet them for lunch in the school cafeteria by text. Fryberg was reportedly well-liked at the school and there was not believed to be any ill-will between him and his victims. He committed suicide at the scene.\n",
      "    There were 5 fatalities and 1 people injured for a total of 6 total_victims.\n",
      "    The race of the shooter is Native American and their gender is Male.\n",
      "\n",
      "\n",
      "159: Marysville-Pilchuck High School in Marysville, Washington on 10/24/2014.\n",
      "    Summary: On October 24, 2014, a freshman at Marysville-Pilchuck High School approached a table of his friends in the school cafeteria and a verbal fight ensued. The student then pulled out a handgun and fired at the students at the table. He injured five students, killed 1 girl, and then committed suicide by shooting himself in the head. Three of the four injured students died in the hospital in the following days. \n",
      "    There were 5 fatalities and 1 people injured for a total of 5 total_victims.\n",
      "    The race of the shooter is Native American or Alaska Native and their gender is Male.\n",
      "\n",
      "\n",
      "160: Albuquerque Auto Shop in Albuquerque, New Mexico on 08/08/2014.\n",
      "    Summary: The shooter pulled up to an auto shop and saw his ex-girlfriend talking with her current boyfriend. He crashed his car into the car the couple was standing next to. This knocked the current boyfriend to the ground. The shooter then fired fatal shots at his ex-girlfriend, and shot and injured three other women who had entered the shop.\n",
      "    There were 2 fatalities and 3 people injured for a total of 4 total_victims.\n",
      "    The race of the shooter is Some other race and their gender is Male.\n",
      "\n",
      "\n",
      "161: Bourbon Street New Orleans in New Orleans, Louisiana on 06/29/2014.\n",
      "    Summary: On June 29, 2014, two men were having an argument on Bourbon Street, which escalated into a gunfight. Many shots were fired into the surrounding crowd, killing one and injuring nine.\n",
      "    There were 1 fatalities and 9 people injured for a total of 10 total_victims.\n",
      "    The race of the shooter is Two or more races and their gender is Male.\n",
      "\n",
      "\n",
      "162: Nellis Plaza in Las Vegas, Nevada on 06/08/2014.\n",
      "    Summary: On the afternoon of June 8, 2014, a man and his wife approached two police officers having lunch in Las Vegas and began shooting, killing them both. The couple then fled to Walmart, where they killed an armed civilian attempting to stop the shooters. The man was killed by police and the woman killed herself at the Walmart.\n",
      "    There were 5 fatalities and 0 people injured for a total of 3 total_victims.\n",
      "    The race of the shooter is White American or European American and their gender is Male/Female.\n",
      "\n",
      "\n",
      "163: Seattle Pacific University in Seattle, Washington on 06/05/2014.\n",
      "    Summary: On June 5, 2014, a 26-year-old man entered a hall on the campus of Seattle Pacific University and began shooting at students. The shooter killed one student and injured two others before a student tackled and stopped the shooter as he was reloading.\n",
      "    There were 1 fatalities and 2 people injured for a total of 3 total_victims.\n",
      "    The race of the shooter is Some other race and their gender is Male.\n",
      "\n",
      "\n",
      "164: Isla Vista mass murder in Santa Barbara, California on 05/23/2014.\n",
      "    Summary: Elliot Rodger, 22, shot three people to death in the college town of Isla Vista near the University of California, Santa Barbara. He also shot others as he drove around town, and injured others by striking them with is vehicle. He committed suicide by shooting himself in his car as police closed in. Prior to the rampage, Rodger stabbed three people to death at his apartment.\n",
      "    There were 6 fatalities and 13 people injured for a total of 19 total_victims.\n",
      "    The race of the shooter is White and their gender is M.\n",
      "\n",
      "\n",
      "165: Isla Vista in Isla Vista, California on 05/23/2014.\n",
      "    Summary: On the evening of May 23, 2014, a 22-year-old student and resident of Isla Vista stabbed two roommates and their friend to death in his apartment. He then drove to a sorority house in Isla Vista and attempted to enter the premises to no avail, and began shooting at a neighboring sorority's members, killing two and wounding another. He continued shooting between altercations with police throughout Isla Vista, killing another male student and wounding six more before committing suicide. \n",
      "    There were 7 fatalities and 7 people injured for a total of 10 total_victims.\n",
      "    The race of the shooter is White American or European American and their gender is Male.\n",
      "\n",
      "\n",
      "166: Kennesaw FedEx in Kennesaw, Georgia on 04/29/2014.\n",
      "    Summary: On the morning of April 29, 2014, a 19 year-old package handler at the FedEx in Kennesaw, Georgia arrived at his place of work and began shooting. He wounded six of his coworkers before committing suicide.\n",
      "    There were 1 fatalities and 6 people injured for a total of 6 total_victims.\n",
      "    The race of the shooter is White American or European American and their gender is Male.\n",
      "\n",
      "\n",
      "167: Fort Hood shooting 2 in Fort Hood, Texas on 04/03/2014.\n",
      "    Summary: Army Specialist Ivan Lopez, 34, opened fire at the Fort Hood Army Post in Texas, killing three and wounding at least 12 others before shooting himself in the head after engaging with military police. Lt. Gen. Mark A. Milley told reporters that Lopez \"had behavioral health and mental health\" issues.\n",
      "    There were 3 fatalities and 12 people injured for a total of 15 total_victims.\n",
      "    The race of the shooter is Latino and their gender is M.\n",
      "\n",
      "\n",
      "168: Fort Hood in Killeen, Texas on 04/02/2014.\n",
      "    Summary: On April 2, 2014, a 34-year-old Army Specialist began shooting at Fort Hood where he was stationed. He killed 3 military personnel and wounded 16 others before committing suicide. \n",
      "    There were 4 fatalities and 16 people injured for a total of 19 total_victims.\n",
      "    The race of the shooter is Some other race and their gender is Male.\n",
      "\n",
      "\n",
      "169: San Francisco Tenderloin in San Francisco, CA on 03/23/2014.\n",
      "    Summary: On the evening of March 23, 2014, the shooters were arguing with a crowd outside of a club, which prompted them to retrieve arms from their car for the attack. Eight people were wounded by the attack, and there were no fatalities. The shooters were later apprehended.\n",
      "    There were 0 fatalities and 8 people injured for a total of 8 total_victims.\n",
      "    The race of the shooter is Black American or African American and their gender is Male.\n",
      "\n",
      "\n",
      "170: Alturas tribal shooting in Alturas, California on 02/20/2014.\n",
      "    Summary: Cherie Lash Rhoades, 44, opened fire at the Cedarville Rancheria Tribal Office and Community Center, killing four and wounding two. After running out of ammunition, Rhoades grabbed a butcher knife and stabbed another person.\n",
      "    There were 4 fatalities and 2 people injured for a total of 6 total_victims.\n",
      "    The race of the shooter is Native American and their gender is Female.\n",
      "\n",
      "\n",
      "171: Cedarville Rancheria Tribe in Alturas, California on 02/20/2014.\n",
      "    Summary: On February 20, 2014, a 44-year old woman went to a tribe eviction meeting where she killed three family members and a worker. After running out of ammunition, the shooter grabbed a butcher knife and stabbed another person.\n",
      "    There were 4 fatalities and 2 people injured for a total of 6 total_victims.\n",
      "    The race of the shooter is Native American or Alaska Native and their gender is Female.\n",
      "\n",
      "\n",
      "172: Centennial Hill Bar & Grill in Montgomery, Alabama on 12/28/2013.\n",
      "    Summary: Early morning on December 28, 2013, a rapper had a confrontation with an acquaintance before going onstage. Soon after, the acquaintance left and re-entered the building and fired at the rapper. He and another shooter injured 5 and killed 3, including the rapper.\n",
      "    There were 3 fatalities and 5 people injured for a total of 8 total_victims.\n",
      "    The race of the shooter is Black American or African American and their gender is Male.\n",
      "\n",
      "\n",
      "173: Los Angeles International Airport (LAX) in Los Angeles, California on 11/01/2013.\n",
      "    Summary: On November 1, 2013, an unemployed 23-year old man entered Terminal 3 at Los Angeles International Airport (LAX) in California, and pulled a rifle from his bag, killing one TSA officer and wounding two other officers and a passenger before he was wounded and captured. Witnesses said that the shooter was calmly asking people: \"Hey, are you TSA?\". If they said no, the shooter moved on.\n",
      "    There were 1 fatalities and 3 people injured for a total of 4 total_victims.\n",
      "    The race of the shooter is White American or European American and their gender is Male.\n",
      "\n",
      "\n",
      "174: Sparks Middle School in Sparks, Nevada on 10/21/2013.\n",
      "    Summary: On October 21, 2013, a 12-year old student at Sparks Middle School in Nevada, shot and injured two students and killed a teacher before killing himself. \n",
      "    There were 2 fatalities and 2 people injured for a total of 3 total_victims.\n",
      "    The race of the shooter is Some other race and their gender is Male.\n",
      "\n",
      "\n",
      "175: Washington Navy Yard shooting in Washington, D.C. on 09/16/2013.\n",
      "    Summary: Aaron Alexis, 34, a military veteran and contractor from Texas, opened fire in the Navy installation, killing 12 people and wounding 8 before being shot dead by police.\n",
      "    There were 12 fatalities and 8 people injured for a total of 20 total_victims.\n",
      "    The race of the shooter is Black and their gender is Male.\n",
      "\n",
      "\n",
      "176: Washington Navy Yard in Washington D.C. on 09/16/2013.\n",
      "    Summary: On September 16, 2013, a 34-yearl old contractor for the Navy Yard in Washington D.C, entered the building shooting randomly, killing twelve people and injuring three surviving victims before he was shot and killed by law enforcement officers.  Five other people were injured during the incident while trying to escape.\n",
      "    There were 13 fatalities and 3 people injured for a total of 15 total_victims.\n",
      "    The race of the shooter is Black American or African American and their gender is Male.\n",
      "\n",
      "\n",
      "177: Oklahoma City Residence in Oklahoma City, Oklahoma on 08/14/2013.\n",
      "    Summary: On August 14, 2013, a 40-year old man obsessed with actress Selena Gomez, fatally shot his mother, sister, niece and infant nephew. He was later arrested and told police he had to getaway from his family because they were preventing him from being with his one true love.\n",
      "    There were 4 fatalities and 0 people injured for a total of 4 total_victims.\n",
      "    The race of the shooter is White American or European American and their gender is Male.\n",
      "\n",
      "\n",
      "178: Homes in Desoto and Dallas in Dallas, Texas on 08/07/2013.\n",
      "    Summary: On August 7, 2013, a 44-year old former special education teacher allegedly went on a murder spree in the Dallas area, killing four people, including his ex-wife and estranged girlfriend, and wounding four others. Once police arrived at the second home, the shooter after running out of ammunition, reportedly pretended he was one of the victims and appeared catatonic.\n",
      "    There were 4 fatalities and 4 people injured for a total of 8 total_victims.\n",
      "    The race of the shooter is Black American or African American and their gender is Male.\n",
      "\n",
      "\n",
      "179: Ross Township Supervisor Council Meeting in Salisbury , Pennsylvania on 08/05/2013.\n",
      "    Summary: On August 5, 2013, an unemployed 59-year old man went to Ross Township's monthly meeting in Salisbury, Pennsylvania, killing three people and injuring four more. The shooter was later restrained and shot in the leg by civilians at the scene. He had been forced to vacate his property of 20 years and had been living out of his car and in abandoned buildings ever since.\n",
      "    There were 3 fatalities and 3 people injured for a total of 6 total_victims.\n",
      "    The race of the shooter is White American or European American and their gender is Male.\n",
      "\n",
      "\n",
      "180: Hialeah apartment shooting in Hialeah, Florida on 07/26/2013.\n",
      "    Summary: Pedro Vargas, 42, set fire to his apartment, killed six people in the complex, and held another two hostages at gunpoint before a SWAT team stormed the building and fatally shot him.\n",
      "    There were 7 fatalities and 0 people injured for a total of 7 total_victims.\n",
      "    The race of the shooter is Latino and their gender is Male.\n",
      "\n",
      "\n",
      "181: Hialeah Apartments in Hialeah, Florida on 07/26/2013.\n",
      "    Summary: On July 26, 2013, a 42-year old man set fire to his apartment in Hialeah, Florida, and opened fire from his balcony and inside the apartment complex. Then he held two neighbors hostage during a stand-off with police until he was fatally shot by a SWAT team.\n",
      "    There were 7 fatalities and 0 people injured for a total of 6 total_victims.\n",
      "    The race of the shooter is Some other race and their gender is Male.\n",
      "\n",
      "\n",
      "182: Santa Monica rampage in Santa Monica, California on 06/07/2013.\n",
      "    Summary: John Zawahri, 23, armed with a homemade assault rifle and high-capacity magazines, killed his brother and father at home and then headed to Santa Monica College, where he was eventually killed by police.\n",
      "    There were 6 fatalities and 3 people injured for a total of 9 total_victims.\n",
      "    The race of the shooter is White and their gender is Male.\n",
      "\n",
      "\n",
      "183: Santa Monica College in Santa Monica, California on 06/07/2013.\n",
      "    Summary: On June 7, 2013, a 23-year old killed his father and brother at their family home and then set the home on fire in Santa Monica, California. He then forced a motorist to drive him to the Santa Monica College campus. On his way there he fired at commuters. During a 13-minute shooting spree spanning roughly 1.5 miles he killed three other people and three others wounded by gun shot. The shooter was killed by the police in the Santa Monica College library.\n",
      "    There were 6 fatalities and 3 people injured for a total of 8 total_victims.\n",
      "    The race of the shooter is White American or European American and their gender is Male.\n",
      "\n",
      "\n",
      "184: Village of Manchester in Illinois in Manchester, Illinois on 04/24/2013.\n",
      "    Summary: On April 24, 2013, a 43-year old man traveled to the home of his former partner's family in Manchester, Illinois. He shot and killed three adults (one  of them pregnant), a boy, and an infant, all members of the same family. There was a third child who, after shooting her, the shooter took to a neighbor's house; she survived the incident. The shooter was then chased by the police by car. The car chase resulted in a shootout between the two. The shooter was shot and killed by the police.\n",
      "    There were 7 fatalities and 1 people injured for a total of 7 total_victims.\n",
      "    The race of the shooter is White American or European American and their gender is Male.\n",
      "\n",
      "\n",
      "185: Pinewood Village Apartment shooting in Federal Way, Washington on 04/21/2013.\n",
      "    Summary: Dennis Clark III, 27, shot and killed his girlfriend in their shared apartment, and then shot two witnesses in the building's parking lot and a third victim in another apartment, before being killed by police.\n",
      "    There were 5 fatalities and 0 people injured for a total of 5 total_victims.\n",
      "    The race of the shooter is Black and their gender is Male.\n",
      "\n",
      "\n",
      "186: Pinewood Village Apartments in Federal Way, Washington on 04/21/2013.\n",
      "    Summary: On April 21, 2013, a 27-year old man shot and killed his girlfriend at their apartment in Federal Way, Washington. He then shot two neighbors in the building's parking lot and a third victim in another apartment who had come out to see what was happening. It seems the shooter wanted to kill any witness after shooting his girlfriend. He was later killed by police.\n",
      "    There were 5 fatalities and 0 people injured for a total of 4 total_victims.\n",
      "    The race of the shooter is Black American or African American and their gender is Male.\n",
      "\n",
      "\n",
      "187: Mohawk Valley shootings in Herkimer County, New York on 03/13/2013.\n",
      "    Summary: Kurt Myers, 64, shot six people in neighboring towns, killing two in a barbershop and two at a car care business, before being killed by officers in a shootout after a nearly 19-hour standoff.\n",
      "    There were 5 fatalities and 2 people injured for a total of 7 total_victims.\n",
      "    The race of the shooter is White and their gender is Male.\n",
      "\n",
      "\n",
      "188: Mohawk and Herkimer Villages in New York in Mohawk, New York on 03/13/2013.\n",
      "    Summary: On March 13, 2013, an unemployed 64-year old man set his apartment on fire in Mohawk village, New York, before he went into a local barbershop and shot four people, killing two and wounding two others. Afterwards, the shooter drove to Herkimer village, where he shot and killed to other people at a local car servicing business. After the rampage, he holed up in an abandoned building where he had a standoff with police for 18 hours until he was shot and killed.\n",
      "    There were 5 fatalities and 2 people injured for a total of 6 total_victims.\n",
      "    The race of the shooter is White American or European American and their gender is Male.\n",
      "\n",
      "\n",
      "189: Ladera Ranch, Santa Ana, Tustin and Orange in Ladera Ranch, California on 02/19/2013.\n",
      "    Summary: On February 19, 2013, a 20-year old unemployed, part-time student killed a 20-year old woman at his parent's house. The shooter's parents called 911 when they heard the noise. He drove off in his parents car and went on a killing spree carjacking several cars and shooting at commuters, drivers, and construction workers. He committed suicide when police were approaching. The shooter had left a suicide note that he wrote within an hour of the 911 call his parents made.\n",
      "    There were 4 fatalities and 3 people injured for a total of 6 total_victims.\n",
      "    The race of the shooter is White American or European American and their gender is Male.\n",
      "\n",
      "\n",
      "190: Los Angeles Police Department in Irvine, California on 02/03/2013.\n",
      "    Summary: On February 3, 2013, a 33-year old former LAPD police officer shot and killed the daughter of a former LAPD captain and her fiance in a parking garage in Irvine, California. The shooter fled the scene and a large manhunt followed until February 12, 2013, during a stand-off  with police at a cabin in the San Bernardino Mountains. The shooter killed one police officer and injured another one before he committed suicide. It is not clear if he took his life before or after the police started to burn down the cabin where he was holed up. \n",
      "    There were 4 fatalities and 2 people injured for a total of 7 total_victims.\n",
      "    The race of the shooter is Black American or African American and their gender is Male.\n",
      "\n",
      "\n",
      "191: Phoenix Law Firm in Phoenix, Arizona on 01/30/2013.\n",
      "    Summary: On January 30, 2013, a 70-year old man attended a mediation session at a law firm in Phoenix, Arizona. At the end of the session he shot three people at the entrance of the building, killing the two man involved in the session with him and wounding a third person. The shooter fled the scene, firing at a man who followed him. He later died from a self-inflicted gunshot wound.\n",
      "    There were 3 fatalities and 1 people injured for a total of 3 total_victims.\n",
      "    The race of the shooter is White American or European American and their gender is Male.\n",
      "\n",
      "\n",
      "192: South Valley Residence in South Valley, Albuquerque, New Mexico on 01/19/2013.\n",
      "    Summary: On January 19, 2013, a 15-year old homeschooled student shot and killed his mother and three younger siblings in their residential home in South Valley, New Mexico. The shooter then waited up five hours for his father, a former pastor, to arrive home. When the father got home, the son shot him several times and killed him. Apparently, he was planning to go on a killing spree afterwards. Instead he went to church and was later arrested.\n",
      "    There were 5 fatalities and 0 people injured for a total of 5 total_victims.\n",
      "    The race of the shooter is Some other race and their gender is Male.\n",
      "\n",
      "\n",
      "193: Newtown school shooting in Newtown, Connecticut on 12/14/2012.\n",
      "    Summary: Adam Lanza, 20, shot his mother dead at their home then drove to Sandy Hook Elementary school. He forced his way inside and opened fire, killing 20 children and six adults before committing suicide.\n",
      "    There were 28 fatalities and 2 people injured for a total of 30 total_victims.\n",
      "    The race of the shooter is white and their gender is Male.\n",
      "\n",
      "\n",
      "194: Sandy Hook Elementary School in Newtown, Connecticut on 12/14/2012.\n",
      "    Summary: On December 14, 2012, a 20-year old shot and killed his mother at their home in Newtown, Connecticut. He then travelled to Sandy Hook Elementary School killing twenty children and six adult staff members and injuring two others before killing himself. Court documents showed that the school shooting had occurred in the space of less than five munities with 156 shots fired.\n",
      "    There were 28 fatalities and 2 people injured for a total of 29 total_victims.\n",
      "    The race of the shooter is White American or European American and their gender is Male.\n",
      "\n",
      "\n",
      "195: Clackamas Town Center in Happy Valley, Oregon on 12/11/2012.\n",
      "    Summary: On December 11, 2012, an unemployed 22-year old run into Clackamas Town Center, a shopping center outside the City of Portland, Oregon. The gunman opened fire on shoppers and employees killing two people and seriously wounding a third person before committing suicide.\n",
      "    There were 3 fatalities and 1 people injured for a total of 3 total_victims.\n",
      "    The race of the shooter is Some other race and their gender is Male.\n",
      "\n",
      "\n",
      "196: Azana Spa in Brookfield in Brookfield, Wisconsin on 10/21/2012.\n",
      "    Summary: On October 21, 2012, a 45-year old man went to Azana Spa in Brookfield, Wisconsin, where his estranged wife worked. He shot and killed his ex-wife and two of her co-workers and injured four others before committing suicide.\n",
      "    There were 4 fatalities and 4 people injured for a total of 7 total_victims.\n",
      "    The race of the shooter is Black American or African American and their gender is Male.\n",
      "\n",
      "\n",
      "197: The Spot Nightclub in Miami, Florida on 09/28/2012.\n",
      "    Summary: On September 28, shots were fired into a large crowd gathered at The Spot, an all-ages club at which many young teens were present. Fifteen people were injured.\n",
      "    There were 0 fatalities and 15 people injured for a total of 15 total_victims.\n",
      "    The race of the shooter is Black American or African American and their gender is Male.\n",
      "\n",
      "\n",
      "198: Accent Signage Systems shooting in Minneapolis, Minnesota on 09/27/2012.\n",
      "    Summary: Andrew Engeldinger, 36, upon learning he was being fired, went on a shooting rampage, killing the business owner, three fellow employees, and a UPS driver. He then killed himself.\n",
      "    There were 7 fatalities and 1 people injured for a total of 8 total_victims.\n",
      "    The race of the shooter is white and their gender is Male.\n",
      "\n",
      "\n",
      "199: Accent Signage Systems in Minneapolis in Minneapolis, Minnesota on 09/27/2012.\n",
      "    Summary: On September 27, 2012, a 36-year old man recently fired at Accent Signage Systems in Minneapolis, went into the firm's building killing six people and injuring two others. The gunman then turned the gun on himself.\n",
      "    There were 7 fatalities and 2 people injured for a total of 8 total_victims.\n",
      "    The race of the shooter is White American or European American and their gender is Male.\n",
      "\n",
      "\n",
      "200: Sikh temple shooting in Oak Creek, Wisconsin on 08/05/2012.\n",
      "    Summary: U.S. Army veteran Wade Michael Page, 40, opened fire in a Sikh gurdwara before he died from a self-inflicted gunshot would during a shootout with police.\n",
      "    There were 7 fatalities and 3 people injured for a total of 10 total_victims.\n",
      "    The race of the shooter is white and their gender is Male.\n",
      "\n",
      "\n",
      "201: Sikh Temple in Wisconsin in Oak Creek, Wisconsin on 08/05/2012.\n",
      "    Summary: On August 5, 2012, a 40-year old US Army veteran and white supremacist opened fire in a Sikh Temple in Oak Creek, Wisconsin fatally shooting six people and wounded four others. The shooter took his life by shooting himself after he was shot in the stomach by a responding police officer. His girlfriend had broken up with him very recently.\n",
      "    There were 7 fatalities and 4 people injured for a total of 10 total_victims.\n",
      "    The race of the shooter is White American or European American and their gender is Male.\n",
      "\n",
      "\n",
      "202: Aurora theater shooting in Aurora, Colorado on 07/20/2012.\n",
      "    Summary: James Holmes, 24, opened fire in a movie theater during the opening night of \"The Dark Night Rises\" and was later arrested outside.\n",
      "    There were 12 fatalities and 70 people injured for a total of 82 total_victims.\n",
      "    The race of the shooter is white and their gender is Male.\n",
      "\n",
      "\n",
      "203: Movie Theater in Aurora in Denver, Colorado on 07/20/2012.\n",
      "    Summary: On July 20, 2012, a 24-year old student set off several gas or smoke canisters at a movie theater in Aurora, and then opened fire on the theater audience, killing twelve people and wounding fifty-eight. Moments after the shooting, police arrested the shooter next to his car behind the theater. Once apprehended, the shooter told the police that he had booby-trapped his apartment with explosive devices before heading to the theater.\n",
      "    There were 12 fatalities and 58 people injured for a total of 70 total_victims.\n",
      "    The race of the shooter is White American or European American and their gender is Male.\n",
      "\n",
      "\n",
      "204: University Heights Apartments in Auburn in Auburn, Alabama on 06/09/2012.\n",
      "    Summary: On June 9, 2012, a 22-year old man went to a party in an off-campus apartment complex in Auburn, Alabama. Three people, including two former Auburn University football players, were killed and three others were wounded. The shooter fled the scene and turned himself in a few days later.\n",
      "    There were 3 fatalities and 3 people injured for a total of 6 total_victims.\n",
      "    The race of the shooter is Black American or African American and their gender is Male.\n",
      "\n",
      "\n",
      "205: Cafe in Seattle in Seattle, Washington on 05/30/2012.\n",
      "    Summary: On May 30, 2012, a 40-year old man went to a coffee shop in Seattle, Washington, where he was asked to leave due to his belligerent behaviour the previous week. The man opened fire and killed four people and injured another one. He then fled and later killed a female motorist, taking off with her SUV. Five hours later, while he was being confronted by police, he killed himself with a gunshot.\n",
      "    There were 6 fatalities and 1 people injured for a total of 6 total_victims.\n",
      "    The race of the shooter is White American or European American and their gender is Male.\n",
      "\n",
      "\n",
      "206: Seattle cafe shooting in Seattle, Washington on 05/20/2012.\n",
      "    Summary: Ian Stawicki, 40, gunned down four patrons at a cafe, and another person during a carjacking nearby, then shot himself as police closed in. (He died later that day in a Seattle hospital.)\n",
      "    There were 6 fatalities and 1 people injured for a total of 7 total_victims.\n",
      "    The race of the shooter is white and their gender is Male.\n",
      "\n",
      "\n",
      "207: North Tulsa, Oklahoma in Tulsa, Oklahoma on 04/06/2012.\n",
      "    Summary: On April 6, 2012, a 19-year old and a 32-year old man went on a deadly shooting spree in Tulsa, Oklahoma, shooting black men at random in an apparently racially motivated attack. Three men died and two were wounded. The victims were chosen at random.\n",
      "    There were 3 fatalities and 2 people injured for a total of 5 total_victims.\n",
      "    The race of the shooter is White American or European American and their gender is Male.\n",
      "\n",
      "\n",
      "208: Oikos University killings in Oakland, California on 04/02/2012.\n",
      "    Summary: One L. Goh, 43, a former student, opened fire in a nursing classroom. He fled the scene by car and was arrested nearby a few hours later.\n",
      "    There were 7 fatalities and 3 people injured for a total of 10 total_victims.\n",
      "    The race of the shooter is Asian and their gender is Male.\n",
      "\n",
      "\n",
      "209: Oikos University in Oakland, California on 04/02/2012.\n",
      "    Summary: On April 2, 2012, a 43-year old former student at Oikos University, a Korean Christian college in Oakland, California, opened fired in a classroom killing seven people and injuring other three. The attacker continued to fire shots as he fled the campus, driving away in a car belonging to one of his victims. Hours later he surrendered to authorities.\n",
      "    There were 7 fatalities and 3 people injured for a total of 10 total_victims.\n",
      "    The race of the shooter is Asian American and their gender is Male.\n",
      "\n",
      "\n",
      "210: Chardon High School in Chardon, Ohio on 02/27/2012.\n",
      "    Summary: On February 27, 2012, a 17-year old student entered Chardon High School in Chardon, Ohio, shooting  students in the cafeteria and in the hallway, leaving three students dead and three injured. He then was chased out of the school by a teacher and was arrested outside the school.\n",
      "    There were 3 fatalities and 3 people injured for a total of 6 total_victims.\n",
      "    The race of the shooter is White American or European American and their gender is Male.\n",
      "\n",
      "\n",
      "211: Su Jung Health Sauna shooting in Norcross, Georgia on 02/22/2012.\n",
      "    Summary: Jeong Soo Paek, 59, returned to a Korean spa from which he'd been kicked out after an altercation. He gunned down two of his sisters and their husbands before committing suicide.\n",
      "    There were 5 fatalities and 0 people injured for a total of 5 total_victims.\n",
      "    The race of the shooter is Asian and their gender is Male.\n",
      "\n",
      "\n",
      "212: Su Jung Health Sauna in Norcross, Georgia on 02/22/2012.\n",
      "    Summary: On February 22, 2012, a 59-year old man hours before the shooting unfolded, police said Paek was asked to leave the spa because he was being disruptive. Burst into a spa his family owned in Norcross, near Atlanta, Georgia. He killed four relatives before turning the gun on himself.\n",
      "    There were 5 fatalities and 0 people injured for a total of 4 total_victims.\n",
      "    The race of the shooter is Asian American and their gender is Male.\n",
      "\n",
      "\n",
      "213: Ensley Birmingham in Birmingham, Alabama on 01/29/2012.\n",
      "    Summary: Three teenagers attempted to rob a house in the early morning of January 29, 2012. Five people were in the house playing cards, and each was shot to death in the back of the head; four of their bodies were found naked in bedroom, and one had been shot 12 times.\n",
      "    There were 5 fatalities and 0 people injured for a total of 5 total_victims.\n",
      "    The race of the shooter is Black American or African American and their gender is Male.\n",
      "\n",
      "\n"
     ]
    }
   ],
   "source": [
    "while True:\n",
    "    shootings_output = input(\"Would you like to see written descriptions of the mass shootings that occurred in your selected timeframe? Y/N \")\n",
    "    if shootings_output in [\"Y\", \"y\", \"N\", \"n\"]:\n",
    "        break\n",
    "if shootings_output in [\"Y\", \"y\", \"Yes\", \"YES\", \"yes\"]:\n",
    "    shootings_data = pd.read_sql_query('''\n",
    "                                SELECT\n",
    "                                    *\n",
    "                                FROM mass_shootings_df''', connection)\n",
    "\n",
    "    shootings_data[\"date\"] = shootings_data[\"date\"].apply(lambda x: datetime.strptime(x, '%m/%d/%Y'))\n",
    "    shootings_data[\"year\"] = shootings_data[\"date\"].apply(lambda x: x.strftime('%Y'))\n",
    "\n",
    "    if year1 == int(year2)-1:\n",
    "        queried_shootings_data = shootings_data[(shootings_data[\"year\"] == str(year1))].reset_index()\n",
    "    else:\n",
    "        queried_shootings_data = shootings_data[(shootings_data[\"year\"] >= year1) & (shootings_data[\"year\"] < year2)].reset_index()\n",
    "\n",
    "    if not queried_shootings_data.empty:\n",
    "        print(f'''These are the mass shootings that happened between {year1} and {str(int(year2) -1)}: \\n''')\n",
    "        for index, row in queried_shootings_data.iterrows():\n",
    "            print(f'''{index}: {row['title']} in {row['location']} on {row['date'].strftime('%m/%d/%Y')}.\n",
    "    Summary: {row['summary']}\n",
    "    There were {row['fatalities']} fatalities and {row['injured']} people injured for a total of {row['total_victims']} total_victims.\n",
    "    The race of the shooter is {row['race']} and their gender is {row['gender']}.\\n\\n''')\n",
    "\n",
    "    else:\n",
    "        if year1 == int(year2)-1:\n",
    "            print(f\"There were no mass shootings that happened in {year1}\")\n",
    "        else:\n",
    "            print(f\"There were no mass shootings that happened between {year1} and {str(int(year2) -1)}\")"
   ]
  },
  {
   "cell_type": "code",
   "execution_count": 58,
   "id": "3aff49fb",
   "metadata": {},
   "outputs": [
    {
     "name": "stdout",
     "output_type": "stream",
     "text": [
      "The race of the individuals who were victims of firearm related injuries is as follows:\n"
     ]
    },
    {
     "data": {
      "application/vnd.plotly.v1+json": {
       "config": {
        "plotlyServerURL": "https://plot.ly"
       },
       "data": [
        {
         "alignmentgroup": "True",
         "hovertemplate": "x=%{x}<br>y=%{y}<extra></extra>",
         "legendgroup": "",
         "marker": {
          "color": "#636efa",
          "pattern": {
           "shape": ""
          }
         },
         "name": "",
         "offsetgroup": "",
         "orientation": "v",
         "showlegend": false,
         "textposition": "auto",
         "type": "bar",
         "x": [
          "American Indian or Alaska Native",
          "Asian or Pacific Islander",
          "Black or African American",
          "White"
         ],
         "xaxis": "x",
         "y": [
          729,
          859,
          39081,
          22516
         ],
         "yaxis": "y"
        }
       ],
       "layout": {
        "barmode": "relative",
        "legend": {
         "tracegroupgap": 0
        },
        "margin": {
         "t": 60
        },
        "template": {
         "data": {
          "bar": [
           {
            "error_x": {
             "color": "#2a3f5f"
            },
            "error_y": {
             "color": "#2a3f5f"
            },
            "marker": {
             "line": {
              "color": "#E5ECF6",
              "width": 0.5
             },
             "pattern": {
              "fillmode": "overlay",
              "size": 10,
              "solidity": 0.2
             }
            },
            "type": "bar"
           }
          ],
          "barpolar": [
           {
            "marker": {
             "line": {
              "color": "#E5ECF6",
              "width": 0.5
             },
             "pattern": {
              "fillmode": "overlay",
              "size": 10,
              "solidity": 0.2
             }
            },
            "type": "barpolar"
           }
          ],
          "carpet": [
           {
            "aaxis": {
             "endlinecolor": "#2a3f5f",
             "gridcolor": "white",
             "linecolor": "white",
             "minorgridcolor": "white",
             "startlinecolor": "#2a3f5f"
            },
            "baxis": {
             "endlinecolor": "#2a3f5f",
             "gridcolor": "white",
             "linecolor": "white",
             "minorgridcolor": "white",
             "startlinecolor": "#2a3f5f"
            },
            "type": "carpet"
           }
          ],
          "choropleth": [
           {
            "colorbar": {
             "outlinewidth": 0,
             "ticks": ""
            },
            "type": "choropleth"
           }
          ],
          "contour": [
           {
            "colorbar": {
             "outlinewidth": 0,
             "ticks": ""
            },
            "colorscale": [
             [
              0,
              "#0d0887"
             ],
             [
              0.1111111111111111,
              "#46039f"
             ],
             [
              0.2222222222222222,
              "#7201a8"
             ],
             [
              0.3333333333333333,
              "#9c179e"
             ],
             [
              0.4444444444444444,
              "#bd3786"
             ],
             [
              0.5555555555555556,
              "#d8576b"
             ],
             [
              0.6666666666666666,
              "#ed7953"
             ],
             [
              0.7777777777777778,
              "#fb9f3a"
             ],
             [
              0.8888888888888888,
              "#fdca26"
             ],
             [
              1,
              "#f0f921"
             ]
            ],
            "type": "contour"
           }
          ],
          "contourcarpet": [
           {
            "colorbar": {
             "outlinewidth": 0,
             "ticks": ""
            },
            "type": "contourcarpet"
           }
          ],
          "heatmap": [
           {
            "colorbar": {
             "outlinewidth": 0,
             "ticks": ""
            },
            "colorscale": [
             [
              0,
              "#0d0887"
             ],
             [
              0.1111111111111111,
              "#46039f"
             ],
             [
              0.2222222222222222,
              "#7201a8"
             ],
             [
              0.3333333333333333,
              "#9c179e"
             ],
             [
              0.4444444444444444,
              "#bd3786"
             ],
             [
              0.5555555555555556,
              "#d8576b"
             ],
             [
              0.6666666666666666,
              "#ed7953"
             ],
             [
              0.7777777777777778,
              "#fb9f3a"
             ],
             [
              0.8888888888888888,
              "#fdca26"
             ],
             [
              1,
              "#f0f921"
             ]
            ],
            "type": "heatmap"
           }
          ],
          "heatmapgl": [
           {
            "colorbar": {
             "outlinewidth": 0,
             "ticks": ""
            },
            "colorscale": [
             [
              0,
              "#0d0887"
             ],
             [
              0.1111111111111111,
              "#46039f"
             ],
             [
              0.2222222222222222,
              "#7201a8"
             ],
             [
              0.3333333333333333,
              "#9c179e"
             ],
             [
              0.4444444444444444,
              "#bd3786"
             ],
             [
              0.5555555555555556,
              "#d8576b"
             ],
             [
              0.6666666666666666,
              "#ed7953"
             ],
             [
              0.7777777777777778,
              "#fb9f3a"
             ],
             [
              0.8888888888888888,
              "#fdca26"
             ],
             [
              1,
              "#f0f921"
             ]
            ],
            "type": "heatmapgl"
           }
          ],
          "histogram": [
           {
            "marker": {
             "pattern": {
              "fillmode": "overlay",
              "size": 10,
              "solidity": 0.2
             }
            },
            "type": "histogram"
           }
          ],
          "histogram2d": [
           {
            "colorbar": {
             "outlinewidth": 0,
             "ticks": ""
            },
            "colorscale": [
             [
              0,
              "#0d0887"
             ],
             [
              0.1111111111111111,
              "#46039f"
             ],
             [
              0.2222222222222222,
              "#7201a8"
             ],
             [
              0.3333333333333333,
              "#9c179e"
             ],
             [
              0.4444444444444444,
              "#bd3786"
             ],
             [
              0.5555555555555556,
              "#d8576b"
             ],
             [
              0.6666666666666666,
              "#ed7953"
             ],
             [
              0.7777777777777778,
              "#fb9f3a"
             ],
             [
              0.8888888888888888,
              "#fdca26"
             ],
             [
              1,
              "#f0f921"
             ]
            ],
            "type": "histogram2d"
           }
          ],
          "histogram2dcontour": [
           {
            "colorbar": {
             "outlinewidth": 0,
             "ticks": ""
            },
            "colorscale": [
             [
              0,
              "#0d0887"
             ],
             [
              0.1111111111111111,
              "#46039f"
             ],
             [
              0.2222222222222222,
              "#7201a8"
             ],
             [
              0.3333333333333333,
              "#9c179e"
             ],
             [
              0.4444444444444444,
              "#bd3786"
             ],
             [
              0.5555555555555556,
              "#d8576b"
             ],
             [
              0.6666666666666666,
              "#ed7953"
             ],
             [
              0.7777777777777778,
              "#fb9f3a"
             ],
             [
              0.8888888888888888,
              "#fdca26"
             ],
             [
              1,
              "#f0f921"
             ]
            ],
            "type": "histogram2dcontour"
           }
          ],
          "mesh3d": [
           {
            "colorbar": {
             "outlinewidth": 0,
             "ticks": ""
            },
            "type": "mesh3d"
           }
          ],
          "parcoords": [
           {
            "line": {
             "colorbar": {
              "outlinewidth": 0,
              "ticks": ""
             }
            },
            "type": "parcoords"
           }
          ],
          "pie": [
           {
            "automargin": true,
            "type": "pie"
           }
          ],
          "scatter": [
           {
            "fillpattern": {
             "fillmode": "overlay",
             "size": 10,
             "solidity": 0.2
            },
            "type": "scatter"
           }
          ],
          "scatter3d": [
           {
            "line": {
             "colorbar": {
              "outlinewidth": 0,
              "ticks": ""
             }
            },
            "marker": {
             "colorbar": {
              "outlinewidth": 0,
              "ticks": ""
             }
            },
            "type": "scatter3d"
           }
          ],
          "scattercarpet": [
           {
            "marker": {
             "colorbar": {
              "outlinewidth": 0,
              "ticks": ""
             }
            },
            "type": "scattercarpet"
           }
          ],
          "scattergeo": [
           {
            "marker": {
             "colorbar": {
              "outlinewidth": 0,
              "ticks": ""
             }
            },
            "type": "scattergeo"
           }
          ],
          "scattergl": [
           {
            "marker": {
             "colorbar": {
              "outlinewidth": 0,
              "ticks": ""
             }
            },
            "type": "scattergl"
           }
          ],
          "scattermapbox": [
           {
            "marker": {
             "colorbar": {
              "outlinewidth": 0,
              "ticks": ""
             }
            },
            "type": "scattermapbox"
           }
          ],
          "scatterpolar": [
           {
            "marker": {
             "colorbar": {
              "outlinewidth": 0,
              "ticks": ""
             }
            },
            "type": "scatterpolar"
           }
          ],
          "scatterpolargl": [
           {
            "marker": {
             "colorbar": {
              "outlinewidth": 0,
              "ticks": ""
             }
            },
            "type": "scatterpolargl"
           }
          ],
          "scatterternary": [
           {
            "marker": {
             "colorbar": {
              "outlinewidth": 0,
              "ticks": ""
             }
            },
            "type": "scatterternary"
           }
          ],
          "surface": [
           {
            "colorbar": {
             "outlinewidth": 0,
             "ticks": ""
            },
            "colorscale": [
             [
              0,
              "#0d0887"
             ],
             [
              0.1111111111111111,
              "#46039f"
             ],
             [
              0.2222222222222222,
              "#7201a8"
             ],
             [
              0.3333333333333333,
              "#9c179e"
             ],
             [
              0.4444444444444444,
              "#bd3786"
             ],
             [
              0.5555555555555556,
              "#d8576b"
             ],
             [
              0.6666666666666666,
              "#ed7953"
             ],
             [
              0.7777777777777778,
              "#fb9f3a"
             ],
             [
              0.8888888888888888,
              "#fdca26"
             ],
             [
              1,
              "#f0f921"
             ]
            ],
            "type": "surface"
           }
          ],
          "table": [
           {
            "cells": {
             "fill": {
              "color": "#EBF0F8"
             },
             "line": {
              "color": "white"
             }
            },
            "header": {
             "fill": {
              "color": "#C8D4E3"
             },
             "line": {
              "color": "white"
             }
            },
            "type": "table"
           }
          ]
         },
         "layout": {
          "annotationdefaults": {
           "arrowcolor": "#2a3f5f",
           "arrowhead": 0,
           "arrowwidth": 1
          },
          "autotypenumbers": "strict",
          "coloraxis": {
           "colorbar": {
            "outlinewidth": 0,
            "ticks": ""
           }
          },
          "colorscale": {
           "diverging": [
            [
             0,
             "#8e0152"
            ],
            [
             0.1,
             "#c51b7d"
            ],
            [
             0.2,
             "#de77ae"
            ],
            [
             0.3,
             "#f1b6da"
            ],
            [
             0.4,
             "#fde0ef"
            ],
            [
             0.5,
             "#f7f7f7"
            ],
            [
             0.6,
             "#e6f5d0"
            ],
            [
             0.7,
             "#b8e186"
            ],
            [
             0.8,
             "#7fbc41"
            ],
            [
             0.9,
             "#4d9221"
            ],
            [
             1,
             "#276419"
            ]
           ],
           "sequential": [
            [
             0,
             "#0d0887"
            ],
            [
             0.1111111111111111,
             "#46039f"
            ],
            [
             0.2222222222222222,
             "#7201a8"
            ],
            [
             0.3333333333333333,
             "#9c179e"
            ],
            [
             0.4444444444444444,
             "#bd3786"
            ],
            [
             0.5555555555555556,
             "#d8576b"
            ],
            [
             0.6666666666666666,
             "#ed7953"
            ],
            [
             0.7777777777777778,
             "#fb9f3a"
            ],
            [
             0.8888888888888888,
             "#fdca26"
            ],
            [
             1,
             "#f0f921"
            ]
           ],
           "sequentialminus": [
            [
             0,
             "#0d0887"
            ],
            [
             0.1111111111111111,
             "#46039f"
            ],
            [
             0.2222222222222222,
             "#7201a8"
            ],
            [
             0.3333333333333333,
             "#9c179e"
            ],
            [
             0.4444444444444444,
             "#bd3786"
            ],
            [
             0.5555555555555556,
             "#d8576b"
            ],
            [
             0.6666666666666666,
             "#ed7953"
            ],
            [
             0.7777777777777778,
             "#fb9f3a"
            ],
            [
             0.8888888888888888,
             "#fdca26"
            ],
            [
             1,
             "#f0f921"
            ]
           ]
          },
          "colorway": [
           "#636efa",
           "#EF553B",
           "#00cc96",
           "#ab63fa",
           "#FFA15A",
           "#19d3f3",
           "#FF6692",
           "#B6E880",
           "#FF97FF",
           "#FECB52"
          ],
          "font": {
           "color": "#2a3f5f"
          },
          "geo": {
           "bgcolor": "white",
           "lakecolor": "white",
           "landcolor": "#E5ECF6",
           "showlakes": true,
           "showland": true,
           "subunitcolor": "white"
          },
          "hoverlabel": {
           "align": "left"
          },
          "hovermode": "closest",
          "mapbox": {
           "style": "light"
          },
          "paper_bgcolor": "white",
          "plot_bgcolor": "#E5ECF6",
          "polar": {
           "angularaxis": {
            "gridcolor": "white",
            "linecolor": "white",
            "ticks": ""
           },
           "bgcolor": "#E5ECF6",
           "radialaxis": {
            "gridcolor": "white",
            "linecolor": "white",
            "ticks": ""
           }
          },
          "scene": {
           "xaxis": {
            "backgroundcolor": "#E5ECF6",
            "gridcolor": "white",
            "gridwidth": 2,
            "linecolor": "white",
            "showbackground": true,
            "ticks": "",
            "zerolinecolor": "white"
           },
           "yaxis": {
            "backgroundcolor": "#E5ECF6",
            "gridcolor": "white",
            "gridwidth": 2,
            "linecolor": "white",
            "showbackground": true,
            "ticks": "",
            "zerolinecolor": "white"
           },
           "zaxis": {
            "backgroundcolor": "#E5ECF6",
            "gridcolor": "white",
            "gridwidth": 2,
            "linecolor": "white",
            "showbackground": true,
            "ticks": "",
            "zerolinecolor": "white"
           }
          },
          "shapedefaults": {
           "line": {
            "color": "#2a3f5f"
           }
          },
          "ternary": {
           "aaxis": {
            "gridcolor": "white",
            "linecolor": "white",
            "ticks": ""
           },
           "baxis": {
            "gridcolor": "white",
            "linecolor": "white",
            "ticks": ""
           },
           "bgcolor": "#E5ECF6",
           "caxis": {
            "gridcolor": "white",
            "linecolor": "white",
            "ticks": ""
           }
          },
          "title": {
           "x": 0.05
          },
          "xaxis": {
           "automargin": true,
           "gridcolor": "white",
           "linecolor": "white",
           "ticks": "",
           "title": {
            "standoff": 15
           },
           "zerolinecolor": "white",
           "zerolinewidth": 2
          },
          "yaxis": {
           "automargin": true,
           "gridcolor": "white",
           "linecolor": "white",
           "ticks": "",
           "title": {
            "standoff": 15
           },
           "zerolinecolor": "white",
           "zerolinewidth": 2
          }
         }
        },
        "xaxis": {
         "anchor": "y",
         "domain": [
          0,
          1
         ],
         "title": {
          "text": "x"
         }
        },
        "yaxis": {
         "anchor": "x",
         "domain": [
          0,
          1
         ],
         "title": {
          "text": "y"
         }
        }
       }
      }
     },
     "metadata": {},
     "output_type": "display_data"
    }
   ],
   "source": [
    "queried_wonder_data = wonder_df[(wonder_df[\"Month\"] > year1) & (wonder_df[\"Month\"] <= year2)].reset_index()\n",
    "\n",
    "queried_wonder_data_race = queried_wonder_data[[\"Race\", \"Deaths\"]].groupby(\"Race\").agg(sum).reset_index()\n",
    "\n",
    "while True:\n",
    "    race_output = input(\"Would you like to see information on the race of victims of firearm related injuries? Y/N \")\n",
    "    if shootings_output in [\"Y\", \"y\", \"N\", \"n\"]:\n",
    "        break\n",
    "\n",
    "if race_output in [\"Y\", \"y\"]:\n",
    "    race = px.bar(x = queried_wonder_data_race.Race, y = queried_wonder_data_race.Deaths)\n",
    "    print(f\"The race of the individuals who were victims of firearm related injuries is as follows:\")\n",
    "    race.show()"
   ]
  },
  {
   "cell_type": "code",
   "execution_count": 59,
   "id": "52d1b299",
   "metadata": {},
   "outputs": [
    {
     "name": "stdout",
     "output_type": "stream",
     "text": [
      "The type of death of individuals who were victims of firearm related injuries is as follows:\n"
     ]
    },
    {
     "data": {
      "application/vnd.plotly.v1+json": {
       "config": {
        "plotlyServerURL": "https://plot.ly"
       },
       "data": [
        {
         "alignmentgroup": "True",
         "hovertemplate": "x=%{x}<br>y=%{y}<extra></extra>",
         "legendgroup": "",
         "marker": {
          "color": "#636efa",
          "pattern": {
           "shape": ""
          }
         },
         "name": "",
         "offsetgroup": "",
         "orientation": "v",
         "showlegend": false,
         "textposition": "auto",
         "type": "bar",
         "x": [
          "Assault by handgun discharge",
          "Assault by other and unspecified firearm discharge",
          "Assault by rifle, shotgun and larger firearm discharge",
          "Discharge from other and unspecified firearms",
          "Handgun discharge",
          "Handgun discharge, undetermined intent",
          "Other and unspecified firearm discharge, undetermined intent",
          "Rifle, shotgun and larger firearm discharge",
          "Rifle, shotgun and larger firearm discharge, undetermined intent",
          "Terrorism involving firearms"
         ],
         "xaxis": "x",
         "y": [
          4329,
          54477,
          1845,
          1076,
          287,
          137,
          824,
          139,
          65,
          6
         ],
         "yaxis": "y"
        }
       ],
       "layout": {
        "barmode": "relative",
        "legend": {
         "tracegroupgap": 0
        },
        "margin": {
         "t": 60
        },
        "template": {
         "data": {
          "bar": [
           {
            "error_x": {
             "color": "#2a3f5f"
            },
            "error_y": {
             "color": "#2a3f5f"
            },
            "marker": {
             "line": {
              "color": "#E5ECF6",
              "width": 0.5
             },
             "pattern": {
              "fillmode": "overlay",
              "size": 10,
              "solidity": 0.2
             }
            },
            "type": "bar"
           }
          ],
          "barpolar": [
           {
            "marker": {
             "line": {
              "color": "#E5ECF6",
              "width": 0.5
             },
             "pattern": {
              "fillmode": "overlay",
              "size": 10,
              "solidity": 0.2
             }
            },
            "type": "barpolar"
           }
          ],
          "carpet": [
           {
            "aaxis": {
             "endlinecolor": "#2a3f5f",
             "gridcolor": "white",
             "linecolor": "white",
             "minorgridcolor": "white",
             "startlinecolor": "#2a3f5f"
            },
            "baxis": {
             "endlinecolor": "#2a3f5f",
             "gridcolor": "white",
             "linecolor": "white",
             "minorgridcolor": "white",
             "startlinecolor": "#2a3f5f"
            },
            "type": "carpet"
           }
          ],
          "choropleth": [
           {
            "colorbar": {
             "outlinewidth": 0,
             "ticks": ""
            },
            "type": "choropleth"
           }
          ],
          "contour": [
           {
            "colorbar": {
             "outlinewidth": 0,
             "ticks": ""
            },
            "colorscale": [
             [
              0,
              "#0d0887"
             ],
             [
              0.1111111111111111,
              "#46039f"
             ],
             [
              0.2222222222222222,
              "#7201a8"
             ],
             [
              0.3333333333333333,
              "#9c179e"
             ],
             [
              0.4444444444444444,
              "#bd3786"
             ],
             [
              0.5555555555555556,
              "#d8576b"
             ],
             [
              0.6666666666666666,
              "#ed7953"
             ],
             [
              0.7777777777777778,
              "#fb9f3a"
             ],
             [
              0.8888888888888888,
              "#fdca26"
             ],
             [
              1,
              "#f0f921"
             ]
            ],
            "type": "contour"
           }
          ],
          "contourcarpet": [
           {
            "colorbar": {
             "outlinewidth": 0,
             "ticks": ""
            },
            "type": "contourcarpet"
           }
          ],
          "heatmap": [
           {
            "colorbar": {
             "outlinewidth": 0,
             "ticks": ""
            },
            "colorscale": [
             [
              0,
              "#0d0887"
             ],
             [
              0.1111111111111111,
              "#46039f"
             ],
             [
              0.2222222222222222,
              "#7201a8"
             ],
             [
              0.3333333333333333,
              "#9c179e"
             ],
             [
              0.4444444444444444,
              "#bd3786"
             ],
             [
              0.5555555555555556,
              "#d8576b"
             ],
             [
              0.6666666666666666,
              "#ed7953"
             ],
             [
              0.7777777777777778,
              "#fb9f3a"
             ],
             [
              0.8888888888888888,
              "#fdca26"
             ],
             [
              1,
              "#f0f921"
             ]
            ],
            "type": "heatmap"
           }
          ],
          "heatmapgl": [
           {
            "colorbar": {
             "outlinewidth": 0,
             "ticks": ""
            },
            "colorscale": [
             [
              0,
              "#0d0887"
             ],
             [
              0.1111111111111111,
              "#46039f"
             ],
             [
              0.2222222222222222,
              "#7201a8"
             ],
             [
              0.3333333333333333,
              "#9c179e"
             ],
             [
              0.4444444444444444,
              "#bd3786"
             ],
             [
              0.5555555555555556,
              "#d8576b"
             ],
             [
              0.6666666666666666,
              "#ed7953"
             ],
             [
              0.7777777777777778,
              "#fb9f3a"
             ],
             [
              0.8888888888888888,
              "#fdca26"
             ],
             [
              1,
              "#f0f921"
             ]
            ],
            "type": "heatmapgl"
           }
          ],
          "histogram": [
           {
            "marker": {
             "pattern": {
              "fillmode": "overlay",
              "size": 10,
              "solidity": 0.2
             }
            },
            "type": "histogram"
           }
          ],
          "histogram2d": [
           {
            "colorbar": {
             "outlinewidth": 0,
             "ticks": ""
            },
            "colorscale": [
             [
              0,
              "#0d0887"
             ],
             [
              0.1111111111111111,
              "#46039f"
             ],
             [
              0.2222222222222222,
              "#7201a8"
             ],
             [
              0.3333333333333333,
              "#9c179e"
             ],
             [
              0.4444444444444444,
              "#bd3786"
             ],
             [
              0.5555555555555556,
              "#d8576b"
             ],
             [
              0.6666666666666666,
              "#ed7953"
             ],
             [
              0.7777777777777778,
              "#fb9f3a"
             ],
             [
              0.8888888888888888,
              "#fdca26"
             ],
             [
              1,
              "#f0f921"
             ]
            ],
            "type": "histogram2d"
           }
          ],
          "histogram2dcontour": [
           {
            "colorbar": {
             "outlinewidth": 0,
             "ticks": ""
            },
            "colorscale": [
             [
              0,
              "#0d0887"
             ],
             [
              0.1111111111111111,
              "#46039f"
             ],
             [
              0.2222222222222222,
              "#7201a8"
             ],
             [
              0.3333333333333333,
              "#9c179e"
             ],
             [
              0.4444444444444444,
              "#bd3786"
             ],
             [
              0.5555555555555556,
              "#d8576b"
             ],
             [
              0.6666666666666666,
              "#ed7953"
             ],
             [
              0.7777777777777778,
              "#fb9f3a"
             ],
             [
              0.8888888888888888,
              "#fdca26"
             ],
             [
              1,
              "#f0f921"
             ]
            ],
            "type": "histogram2dcontour"
           }
          ],
          "mesh3d": [
           {
            "colorbar": {
             "outlinewidth": 0,
             "ticks": ""
            },
            "type": "mesh3d"
           }
          ],
          "parcoords": [
           {
            "line": {
             "colorbar": {
              "outlinewidth": 0,
              "ticks": ""
             }
            },
            "type": "parcoords"
           }
          ],
          "pie": [
           {
            "automargin": true,
            "type": "pie"
           }
          ],
          "scatter": [
           {
            "fillpattern": {
             "fillmode": "overlay",
             "size": 10,
             "solidity": 0.2
            },
            "type": "scatter"
           }
          ],
          "scatter3d": [
           {
            "line": {
             "colorbar": {
              "outlinewidth": 0,
              "ticks": ""
             }
            },
            "marker": {
             "colorbar": {
              "outlinewidth": 0,
              "ticks": ""
             }
            },
            "type": "scatter3d"
           }
          ],
          "scattercarpet": [
           {
            "marker": {
             "colorbar": {
              "outlinewidth": 0,
              "ticks": ""
             }
            },
            "type": "scattercarpet"
           }
          ],
          "scattergeo": [
           {
            "marker": {
             "colorbar": {
              "outlinewidth": 0,
              "ticks": ""
             }
            },
            "type": "scattergeo"
           }
          ],
          "scattergl": [
           {
            "marker": {
             "colorbar": {
              "outlinewidth": 0,
              "ticks": ""
             }
            },
            "type": "scattergl"
           }
          ],
          "scattermapbox": [
           {
            "marker": {
             "colorbar": {
              "outlinewidth": 0,
              "ticks": ""
             }
            },
            "type": "scattermapbox"
           }
          ],
          "scatterpolar": [
           {
            "marker": {
             "colorbar": {
              "outlinewidth": 0,
              "ticks": ""
             }
            },
            "type": "scatterpolar"
           }
          ],
          "scatterpolargl": [
           {
            "marker": {
             "colorbar": {
              "outlinewidth": 0,
              "ticks": ""
             }
            },
            "type": "scatterpolargl"
           }
          ],
          "scatterternary": [
           {
            "marker": {
             "colorbar": {
              "outlinewidth": 0,
              "ticks": ""
             }
            },
            "type": "scatterternary"
           }
          ],
          "surface": [
           {
            "colorbar": {
             "outlinewidth": 0,
             "ticks": ""
            },
            "colorscale": [
             [
              0,
              "#0d0887"
             ],
             [
              0.1111111111111111,
              "#46039f"
             ],
             [
              0.2222222222222222,
              "#7201a8"
             ],
             [
              0.3333333333333333,
              "#9c179e"
             ],
             [
              0.4444444444444444,
              "#bd3786"
             ],
             [
              0.5555555555555556,
              "#d8576b"
             ],
             [
              0.6666666666666666,
              "#ed7953"
             ],
             [
              0.7777777777777778,
              "#fb9f3a"
             ],
             [
              0.8888888888888888,
              "#fdca26"
             ],
             [
              1,
              "#f0f921"
             ]
            ],
            "type": "surface"
           }
          ],
          "table": [
           {
            "cells": {
             "fill": {
              "color": "#EBF0F8"
             },
             "line": {
              "color": "white"
             }
            },
            "header": {
             "fill": {
              "color": "#C8D4E3"
             },
             "line": {
              "color": "white"
             }
            },
            "type": "table"
           }
          ]
         },
         "layout": {
          "annotationdefaults": {
           "arrowcolor": "#2a3f5f",
           "arrowhead": 0,
           "arrowwidth": 1
          },
          "autotypenumbers": "strict",
          "coloraxis": {
           "colorbar": {
            "outlinewidth": 0,
            "ticks": ""
           }
          },
          "colorscale": {
           "diverging": [
            [
             0,
             "#8e0152"
            ],
            [
             0.1,
             "#c51b7d"
            ],
            [
             0.2,
             "#de77ae"
            ],
            [
             0.3,
             "#f1b6da"
            ],
            [
             0.4,
             "#fde0ef"
            ],
            [
             0.5,
             "#f7f7f7"
            ],
            [
             0.6,
             "#e6f5d0"
            ],
            [
             0.7,
             "#b8e186"
            ],
            [
             0.8,
             "#7fbc41"
            ],
            [
             0.9,
             "#4d9221"
            ],
            [
             1,
             "#276419"
            ]
           ],
           "sequential": [
            [
             0,
             "#0d0887"
            ],
            [
             0.1111111111111111,
             "#46039f"
            ],
            [
             0.2222222222222222,
             "#7201a8"
            ],
            [
             0.3333333333333333,
             "#9c179e"
            ],
            [
             0.4444444444444444,
             "#bd3786"
            ],
            [
             0.5555555555555556,
             "#d8576b"
            ],
            [
             0.6666666666666666,
             "#ed7953"
            ],
            [
             0.7777777777777778,
             "#fb9f3a"
            ],
            [
             0.8888888888888888,
             "#fdca26"
            ],
            [
             1,
             "#f0f921"
            ]
           ],
           "sequentialminus": [
            [
             0,
             "#0d0887"
            ],
            [
             0.1111111111111111,
             "#46039f"
            ],
            [
             0.2222222222222222,
             "#7201a8"
            ],
            [
             0.3333333333333333,
             "#9c179e"
            ],
            [
             0.4444444444444444,
             "#bd3786"
            ],
            [
             0.5555555555555556,
             "#d8576b"
            ],
            [
             0.6666666666666666,
             "#ed7953"
            ],
            [
             0.7777777777777778,
             "#fb9f3a"
            ],
            [
             0.8888888888888888,
             "#fdca26"
            ],
            [
             1,
             "#f0f921"
            ]
           ]
          },
          "colorway": [
           "#636efa",
           "#EF553B",
           "#00cc96",
           "#ab63fa",
           "#FFA15A",
           "#19d3f3",
           "#FF6692",
           "#B6E880",
           "#FF97FF",
           "#FECB52"
          ],
          "font": {
           "color": "#2a3f5f"
          },
          "geo": {
           "bgcolor": "white",
           "lakecolor": "white",
           "landcolor": "#E5ECF6",
           "showlakes": true,
           "showland": true,
           "subunitcolor": "white"
          },
          "hoverlabel": {
           "align": "left"
          },
          "hovermode": "closest",
          "mapbox": {
           "style": "light"
          },
          "paper_bgcolor": "white",
          "plot_bgcolor": "#E5ECF6",
          "polar": {
           "angularaxis": {
            "gridcolor": "white",
            "linecolor": "white",
            "ticks": ""
           },
           "bgcolor": "#E5ECF6",
           "radialaxis": {
            "gridcolor": "white",
            "linecolor": "white",
            "ticks": ""
           }
          },
          "scene": {
           "xaxis": {
            "backgroundcolor": "#E5ECF6",
            "gridcolor": "white",
            "gridwidth": 2,
            "linecolor": "white",
            "showbackground": true,
            "ticks": "",
            "zerolinecolor": "white"
           },
           "yaxis": {
            "backgroundcolor": "#E5ECF6",
            "gridcolor": "white",
            "gridwidth": 2,
            "linecolor": "white",
            "showbackground": true,
            "ticks": "",
            "zerolinecolor": "white"
           },
           "zaxis": {
            "backgroundcolor": "#E5ECF6",
            "gridcolor": "white",
            "gridwidth": 2,
            "linecolor": "white",
            "showbackground": true,
            "ticks": "",
            "zerolinecolor": "white"
           }
          },
          "shapedefaults": {
           "line": {
            "color": "#2a3f5f"
           }
          },
          "ternary": {
           "aaxis": {
            "gridcolor": "white",
            "linecolor": "white",
            "ticks": ""
           },
           "baxis": {
            "gridcolor": "white",
            "linecolor": "white",
            "ticks": ""
           },
           "bgcolor": "#E5ECF6",
           "caxis": {
            "gridcolor": "white",
            "linecolor": "white",
            "ticks": ""
           }
          },
          "title": {
           "x": 0.05
          },
          "xaxis": {
           "automargin": true,
           "gridcolor": "white",
           "linecolor": "white",
           "ticks": "",
           "title": {
            "standoff": 15
           },
           "zerolinecolor": "white",
           "zerolinewidth": 2
          },
          "yaxis": {
           "automargin": true,
           "gridcolor": "white",
           "linecolor": "white",
           "ticks": "",
           "title": {
            "standoff": 15
           },
           "zerolinecolor": "white",
           "zerolinewidth": 2
          }
         }
        },
        "xaxis": {
         "anchor": "y",
         "domain": [
          0,
          1
         ],
         "title": {
          "text": "x"
         }
        },
        "yaxis": {
         "anchor": "x",
         "domain": [
          0,
          1
         ],
         "title": {
          "text": "y"
         }
        }
       }
      }
     },
     "metadata": {},
     "output_type": "display_data"
    }
   ],
   "source": [
    "while True:\n",
    "    death_type_output = input(\"Would you like to see information on the type of deaths of victims of firearm related deaths? Y/N \")\n",
    "    if death_type_output in [\"Y\", \"y\", \"N\", \"n\"]:\n",
    "        break\n",
    "\n",
    "if death_type_output in [\"Y\", \"y\"]:\n",
    "    queried_wonder_data_type = queried_wonder_data[[\"Death-Type\", \"Deaths\"]].groupby(\"Death-Type\").agg(sum).reset_index()\n",
    "    death_type = px.bar(x = queried_wonder_data_type[\"Death-Type\"], y = queried_wonder_data_type.Deaths)\n",
    "    print(f\"The type of death of individuals who were victims of firearm related injuries is as follows:\")\n",
    "    death_type.show()"
   ]
  },
  {
   "cell_type": "code",
   "execution_count": 60,
   "id": "3e6bf8ca",
   "metadata": {},
   "outputs": [
    {
     "name": "stdout",
     "output_type": "stream",
     "text": [
      "The # of deaths of individuals who were victims of firearm related injuries is as follows:\n"
     ]
    },
    {
     "data": {
      "application/vnd.plotly.v1+json": {
       "config": {
        "plotlyServerURL": "https://plot.ly"
       },
       "data": [
        {
         "hovertemplate": "x=%{x}<br>y=%{y}<extra></extra>",
         "legendgroup": "",
         "line": {
          "color": "#636efa",
          "dash": "solid"
         },
         "marker": {
          "symbol": "circle"
         },
         "mode": "lines",
         "name": "",
         "orientation": "v",
         "showlegend": false,
         "type": "scatter",
         "x": [
          "2012-02-01T00:00:00",
          "2012-03-01T00:00:00",
          "2012-04-01T00:00:00",
          "2012-05-01T00:00:00",
          "2012-06-01T00:00:00",
          "2012-07-01T00:00:00",
          "2012-08-01T00:00:00",
          "2012-09-01T00:00:00",
          "2012-10-01T00:00:00",
          "2012-11-01T00:00:00",
          "2012-12-01T00:00:00",
          "2013-01-01T00:00:00",
          "2013-02-01T00:00:00",
          "2013-03-01T00:00:00",
          "2013-04-01T00:00:00",
          "2013-05-01T00:00:00",
          "2013-06-01T00:00:00",
          "2013-07-01T00:00:00",
          "2013-08-01T00:00:00",
          "2013-09-01T00:00:00",
          "2013-10-01T00:00:00",
          "2013-11-01T00:00:00",
          "2013-12-01T00:00:00",
          "2014-01-01T00:00:00",
          "2014-02-01T00:00:00",
          "2014-03-01T00:00:00",
          "2014-04-01T00:00:00",
          "2014-05-01T00:00:00",
          "2014-06-01T00:00:00",
          "2014-07-01T00:00:00",
          "2014-08-01T00:00:00",
          "2014-09-01T00:00:00",
          "2014-10-01T00:00:00",
          "2014-11-01T00:00:00",
          "2014-12-01T00:00:00",
          "2015-01-01T00:00:00",
          "2015-02-01T00:00:00",
          "2015-03-01T00:00:00",
          "2015-04-01T00:00:00",
          "2015-05-01T00:00:00",
          "2015-06-01T00:00:00",
          "2015-07-01T00:00:00",
          "2015-08-01T00:00:00",
          "2015-09-01T00:00:00",
          "2015-10-01T00:00:00",
          "2015-11-01T00:00:00",
          "2015-12-01T00:00:00",
          "2016-01-01T00:00:00",
          "2016-02-01T00:00:00",
          "2016-03-01T00:00:00",
          "2016-04-01T00:00:00",
          "2016-05-01T00:00:00",
          "2016-06-01T00:00:00",
          "2016-07-01T00:00:00",
          "2016-08-01T00:00:00",
          "2016-09-01T00:00:00",
          "2016-10-01T00:00:00",
          "2016-11-01T00:00:00",
          "2016-12-01T00:00:00",
          "2017-01-01T00:00:00",
          "2017-02-01T00:00:00",
          "2017-03-01T00:00:00",
          "2017-04-01T00:00:00",
          "2017-05-01T00:00:00",
          "2017-06-01T00:00:00",
          "2017-07-01T00:00:00",
          "2017-08-01T00:00:00",
          "2017-09-01T00:00:00",
          "2017-10-01T00:00:00",
          "2017-11-01T00:00:00",
          "2017-12-01T00:00:00",
          "2018-01-01T00:00:00"
         ],
         "xaxis": "x",
         "y": [
          576,
          799,
          786,
          810,
          851,
          944,
          856,
          860,
          776,
          789,
          847,
          803,
          573,
          719,
          738,
          738,
          844,
          928,
          812,
          747,
          797,
          785,
          845,
          695,
          564,
          704,
          713,
          829,
          813,
          758,
          800,
          754,
          795,
          789,
          893,
          869,
          627,
          812,
          788,
          931,
          894,
          1076,
          994,
          963,
          903,
          938,
          965,
          943,
          750,
          931,
          938,
          1025,
          1066,
          1105,
          1124,
          1038,
          1061,
          1047,
          1011,
          1112,
          859,
          873,
          952,
          1061,
          1063,
          1060,
          1009,
          953,
          1050,
          1040,
          983,
          1041
         ],
         "yaxis": "y"
        }
       ],
       "layout": {
        "legend": {
         "tracegroupgap": 0
        },
        "margin": {
         "t": 60
        },
        "template": {
         "data": {
          "bar": [
           {
            "error_x": {
             "color": "#2a3f5f"
            },
            "error_y": {
             "color": "#2a3f5f"
            },
            "marker": {
             "line": {
              "color": "#E5ECF6",
              "width": 0.5
             },
             "pattern": {
              "fillmode": "overlay",
              "size": 10,
              "solidity": 0.2
             }
            },
            "type": "bar"
           }
          ],
          "barpolar": [
           {
            "marker": {
             "line": {
              "color": "#E5ECF6",
              "width": 0.5
             },
             "pattern": {
              "fillmode": "overlay",
              "size": 10,
              "solidity": 0.2
             }
            },
            "type": "barpolar"
           }
          ],
          "carpet": [
           {
            "aaxis": {
             "endlinecolor": "#2a3f5f",
             "gridcolor": "white",
             "linecolor": "white",
             "minorgridcolor": "white",
             "startlinecolor": "#2a3f5f"
            },
            "baxis": {
             "endlinecolor": "#2a3f5f",
             "gridcolor": "white",
             "linecolor": "white",
             "minorgridcolor": "white",
             "startlinecolor": "#2a3f5f"
            },
            "type": "carpet"
           }
          ],
          "choropleth": [
           {
            "colorbar": {
             "outlinewidth": 0,
             "ticks": ""
            },
            "type": "choropleth"
           }
          ],
          "contour": [
           {
            "colorbar": {
             "outlinewidth": 0,
             "ticks": ""
            },
            "colorscale": [
             [
              0,
              "#0d0887"
             ],
             [
              0.1111111111111111,
              "#46039f"
             ],
             [
              0.2222222222222222,
              "#7201a8"
             ],
             [
              0.3333333333333333,
              "#9c179e"
             ],
             [
              0.4444444444444444,
              "#bd3786"
             ],
             [
              0.5555555555555556,
              "#d8576b"
             ],
             [
              0.6666666666666666,
              "#ed7953"
             ],
             [
              0.7777777777777778,
              "#fb9f3a"
             ],
             [
              0.8888888888888888,
              "#fdca26"
             ],
             [
              1,
              "#f0f921"
             ]
            ],
            "type": "contour"
           }
          ],
          "contourcarpet": [
           {
            "colorbar": {
             "outlinewidth": 0,
             "ticks": ""
            },
            "type": "contourcarpet"
           }
          ],
          "heatmap": [
           {
            "colorbar": {
             "outlinewidth": 0,
             "ticks": ""
            },
            "colorscale": [
             [
              0,
              "#0d0887"
             ],
             [
              0.1111111111111111,
              "#46039f"
             ],
             [
              0.2222222222222222,
              "#7201a8"
             ],
             [
              0.3333333333333333,
              "#9c179e"
             ],
             [
              0.4444444444444444,
              "#bd3786"
             ],
             [
              0.5555555555555556,
              "#d8576b"
             ],
             [
              0.6666666666666666,
              "#ed7953"
             ],
             [
              0.7777777777777778,
              "#fb9f3a"
             ],
             [
              0.8888888888888888,
              "#fdca26"
             ],
             [
              1,
              "#f0f921"
             ]
            ],
            "type": "heatmap"
           }
          ],
          "heatmapgl": [
           {
            "colorbar": {
             "outlinewidth": 0,
             "ticks": ""
            },
            "colorscale": [
             [
              0,
              "#0d0887"
             ],
             [
              0.1111111111111111,
              "#46039f"
             ],
             [
              0.2222222222222222,
              "#7201a8"
             ],
             [
              0.3333333333333333,
              "#9c179e"
             ],
             [
              0.4444444444444444,
              "#bd3786"
             ],
             [
              0.5555555555555556,
              "#d8576b"
             ],
             [
              0.6666666666666666,
              "#ed7953"
             ],
             [
              0.7777777777777778,
              "#fb9f3a"
             ],
             [
              0.8888888888888888,
              "#fdca26"
             ],
             [
              1,
              "#f0f921"
             ]
            ],
            "type": "heatmapgl"
           }
          ],
          "histogram": [
           {
            "marker": {
             "pattern": {
              "fillmode": "overlay",
              "size": 10,
              "solidity": 0.2
             }
            },
            "type": "histogram"
           }
          ],
          "histogram2d": [
           {
            "colorbar": {
             "outlinewidth": 0,
             "ticks": ""
            },
            "colorscale": [
             [
              0,
              "#0d0887"
             ],
             [
              0.1111111111111111,
              "#46039f"
             ],
             [
              0.2222222222222222,
              "#7201a8"
             ],
             [
              0.3333333333333333,
              "#9c179e"
             ],
             [
              0.4444444444444444,
              "#bd3786"
             ],
             [
              0.5555555555555556,
              "#d8576b"
             ],
             [
              0.6666666666666666,
              "#ed7953"
             ],
             [
              0.7777777777777778,
              "#fb9f3a"
             ],
             [
              0.8888888888888888,
              "#fdca26"
             ],
             [
              1,
              "#f0f921"
             ]
            ],
            "type": "histogram2d"
           }
          ],
          "histogram2dcontour": [
           {
            "colorbar": {
             "outlinewidth": 0,
             "ticks": ""
            },
            "colorscale": [
             [
              0,
              "#0d0887"
             ],
             [
              0.1111111111111111,
              "#46039f"
             ],
             [
              0.2222222222222222,
              "#7201a8"
             ],
             [
              0.3333333333333333,
              "#9c179e"
             ],
             [
              0.4444444444444444,
              "#bd3786"
             ],
             [
              0.5555555555555556,
              "#d8576b"
             ],
             [
              0.6666666666666666,
              "#ed7953"
             ],
             [
              0.7777777777777778,
              "#fb9f3a"
             ],
             [
              0.8888888888888888,
              "#fdca26"
             ],
             [
              1,
              "#f0f921"
             ]
            ],
            "type": "histogram2dcontour"
           }
          ],
          "mesh3d": [
           {
            "colorbar": {
             "outlinewidth": 0,
             "ticks": ""
            },
            "type": "mesh3d"
           }
          ],
          "parcoords": [
           {
            "line": {
             "colorbar": {
              "outlinewidth": 0,
              "ticks": ""
             }
            },
            "type": "parcoords"
           }
          ],
          "pie": [
           {
            "automargin": true,
            "type": "pie"
           }
          ],
          "scatter": [
           {
            "fillpattern": {
             "fillmode": "overlay",
             "size": 10,
             "solidity": 0.2
            },
            "type": "scatter"
           }
          ],
          "scatter3d": [
           {
            "line": {
             "colorbar": {
              "outlinewidth": 0,
              "ticks": ""
             }
            },
            "marker": {
             "colorbar": {
              "outlinewidth": 0,
              "ticks": ""
             }
            },
            "type": "scatter3d"
           }
          ],
          "scattercarpet": [
           {
            "marker": {
             "colorbar": {
              "outlinewidth": 0,
              "ticks": ""
             }
            },
            "type": "scattercarpet"
           }
          ],
          "scattergeo": [
           {
            "marker": {
             "colorbar": {
              "outlinewidth": 0,
              "ticks": ""
             }
            },
            "type": "scattergeo"
           }
          ],
          "scattergl": [
           {
            "marker": {
             "colorbar": {
              "outlinewidth": 0,
              "ticks": ""
             }
            },
            "type": "scattergl"
           }
          ],
          "scattermapbox": [
           {
            "marker": {
             "colorbar": {
              "outlinewidth": 0,
              "ticks": ""
             }
            },
            "type": "scattermapbox"
           }
          ],
          "scatterpolar": [
           {
            "marker": {
             "colorbar": {
              "outlinewidth": 0,
              "ticks": ""
             }
            },
            "type": "scatterpolar"
           }
          ],
          "scatterpolargl": [
           {
            "marker": {
             "colorbar": {
              "outlinewidth": 0,
              "ticks": ""
             }
            },
            "type": "scatterpolargl"
           }
          ],
          "scatterternary": [
           {
            "marker": {
             "colorbar": {
              "outlinewidth": 0,
              "ticks": ""
             }
            },
            "type": "scatterternary"
           }
          ],
          "surface": [
           {
            "colorbar": {
             "outlinewidth": 0,
             "ticks": ""
            },
            "colorscale": [
             [
              0,
              "#0d0887"
             ],
             [
              0.1111111111111111,
              "#46039f"
             ],
             [
              0.2222222222222222,
              "#7201a8"
             ],
             [
              0.3333333333333333,
              "#9c179e"
             ],
             [
              0.4444444444444444,
              "#bd3786"
             ],
             [
              0.5555555555555556,
              "#d8576b"
             ],
             [
              0.6666666666666666,
              "#ed7953"
             ],
             [
              0.7777777777777778,
              "#fb9f3a"
             ],
             [
              0.8888888888888888,
              "#fdca26"
             ],
             [
              1,
              "#f0f921"
             ]
            ],
            "type": "surface"
           }
          ],
          "table": [
           {
            "cells": {
             "fill": {
              "color": "#EBF0F8"
             },
             "line": {
              "color": "white"
             }
            },
            "header": {
             "fill": {
              "color": "#C8D4E3"
             },
             "line": {
              "color": "white"
             }
            },
            "type": "table"
           }
          ]
         },
         "layout": {
          "annotationdefaults": {
           "arrowcolor": "#2a3f5f",
           "arrowhead": 0,
           "arrowwidth": 1
          },
          "autotypenumbers": "strict",
          "coloraxis": {
           "colorbar": {
            "outlinewidth": 0,
            "ticks": ""
           }
          },
          "colorscale": {
           "diverging": [
            [
             0,
             "#8e0152"
            ],
            [
             0.1,
             "#c51b7d"
            ],
            [
             0.2,
             "#de77ae"
            ],
            [
             0.3,
             "#f1b6da"
            ],
            [
             0.4,
             "#fde0ef"
            ],
            [
             0.5,
             "#f7f7f7"
            ],
            [
             0.6,
             "#e6f5d0"
            ],
            [
             0.7,
             "#b8e186"
            ],
            [
             0.8,
             "#7fbc41"
            ],
            [
             0.9,
             "#4d9221"
            ],
            [
             1,
             "#276419"
            ]
           ],
           "sequential": [
            [
             0,
             "#0d0887"
            ],
            [
             0.1111111111111111,
             "#46039f"
            ],
            [
             0.2222222222222222,
             "#7201a8"
            ],
            [
             0.3333333333333333,
             "#9c179e"
            ],
            [
             0.4444444444444444,
             "#bd3786"
            ],
            [
             0.5555555555555556,
             "#d8576b"
            ],
            [
             0.6666666666666666,
             "#ed7953"
            ],
            [
             0.7777777777777778,
             "#fb9f3a"
            ],
            [
             0.8888888888888888,
             "#fdca26"
            ],
            [
             1,
             "#f0f921"
            ]
           ],
           "sequentialminus": [
            [
             0,
             "#0d0887"
            ],
            [
             0.1111111111111111,
             "#46039f"
            ],
            [
             0.2222222222222222,
             "#7201a8"
            ],
            [
             0.3333333333333333,
             "#9c179e"
            ],
            [
             0.4444444444444444,
             "#bd3786"
            ],
            [
             0.5555555555555556,
             "#d8576b"
            ],
            [
             0.6666666666666666,
             "#ed7953"
            ],
            [
             0.7777777777777778,
             "#fb9f3a"
            ],
            [
             0.8888888888888888,
             "#fdca26"
            ],
            [
             1,
             "#f0f921"
            ]
           ]
          },
          "colorway": [
           "#636efa",
           "#EF553B",
           "#00cc96",
           "#ab63fa",
           "#FFA15A",
           "#19d3f3",
           "#FF6692",
           "#B6E880",
           "#FF97FF",
           "#FECB52"
          ],
          "font": {
           "color": "#2a3f5f"
          },
          "geo": {
           "bgcolor": "white",
           "lakecolor": "white",
           "landcolor": "#E5ECF6",
           "showlakes": true,
           "showland": true,
           "subunitcolor": "white"
          },
          "hoverlabel": {
           "align": "left"
          },
          "hovermode": "closest",
          "mapbox": {
           "style": "light"
          },
          "paper_bgcolor": "white",
          "plot_bgcolor": "#E5ECF6",
          "polar": {
           "angularaxis": {
            "gridcolor": "white",
            "linecolor": "white",
            "ticks": ""
           },
           "bgcolor": "#E5ECF6",
           "radialaxis": {
            "gridcolor": "white",
            "linecolor": "white",
            "ticks": ""
           }
          },
          "scene": {
           "xaxis": {
            "backgroundcolor": "#E5ECF6",
            "gridcolor": "white",
            "gridwidth": 2,
            "linecolor": "white",
            "showbackground": true,
            "ticks": "",
            "zerolinecolor": "white"
           },
           "yaxis": {
            "backgroundcolor": "#E5ECF6",
            "gridcolor": "white",
            "gridwidth": 2,
            "linecolor": "white",
            "showbackground": true,
            "ticks": "",
            "zerolinecolor": "white"
           },
           "zaxis": {
            "backgroundcolor": "#E5ECF6",
            "gridcolor": "white",
            "gridwidth": 2,
            "linecolor": "white",
            "showbackground": true,
            "ticks": "",
            "zerolinecolor": "white"
           }
          },
          "shapedefaults": {
           "line": {
            "color": "#2a3f5f"
           }
          },
          "ternary": {
           "aaxis": {
            "gridcolor": "white",
            "linecolor": "white",
            "ticks": ""
           },
           "baxis": {
            "gridcolor": "white",
            "linecolor": "white",
            "ticks": ""
           },
           "bgcolor": "#E5ECF6",
           "caxis": {
            "gridcolor": "white",
            "linecolor": "white",
            "ticks": ""
           }
          },
          "title": {
           "x": 0.05
          },
          "xaxis": {
           "automargin": true,
           "gridcolor": "white",
           "linecolor": "white",
           "ticks": "",
           "title": {
            "standoff": 15
           },
           "zerolinecolor": "white",
           "zerolinewidth": 2
          },
          "yaxis": {
           "automargin": true,
           "gridcolor": "white",
           "linecolor": "white",
           "ticks": "",
           "title": {
            "standoff": 15
           },
           "zerolinecolor": "white",
           "zerolinewidth": 2
          }
         }
        },
        "xaxis": {
         "anchor": "y",
         "domain": [
          0,
          1
         ],
         "title": {
          "text": "x"
         }
        },
        "yaxis": {
         "anchor": "x",
         "domain": [
          0,
          1
         ],
         "title": {
          "text": "y"
         }
        }
       }
      }
     },
     "metadata": {},
     "output_type": "display_data"
    }
   ],
   "source": [
    "while True:\n",
    "    num_deaths_output = input(\"Would you like to see information on the number of firearm related injuries? Y/N \")\n",
    "    if num_deaths_output in [\"Y\", \"y\", \"N\", \"n\"]:\n",
    "        break\n",
    "\n",
    "if num_deaths_output in [\"Y\", \"y\"]:\n",
    "    print(f\"The # of deaths of individuals who were victims of firearm related injuries is as follows:\")\n",
    "    queried_wonder_data_count = queried_wonder_data[[\"Month\", \"Deaths\"]].groupby(\"Month\").agg(sum).reset_index()\n",
    "    death_count = px.line(x = queried_wonder_data_count[\"Month\"], y = queried_wonder_data_count.Deaths)\n",
    "    death_count.show()"
   ]
  },
  {
   "cell_type": "code",
   "execution_count": 61,
   "id": "b1517787",
   "metadata": {},
   "outputs": [
    {
     "name": "stderr",
     "output_type": "stream",
     "text": [
      "/Users/yena_kim/opt/anaconda3/envs/yenakim/lib/python3.9/site-packages/plotly/graph_objs/_deprecations.py:378: DeprecationWarning:\n",
      "\n",
      "plotly.graph_objs.Line is deprecated.\n",
      "Please replace it with one of the following more specific types\n",
      "  - plotly.graph_objs.scatter.Line\n",
      "  - plotly.graph_objs.layout.shape.Line\n",
      "  - etc.\n",
      "\n",
      "\n"
     ]
    },
    {
     "data": {
      "application/vnd.plotly.v1+json": {
       "config": {
        "linkText": "Export to plot.ly",
        "plotlyServerURL": "https://plot.ly",
        "showLink": false
       },
       "data": [
        {
         "name": "Count of Tweets",
         "type": "scatter",
         "x": [
          "2012",
          "2013",
          "2014",
          "2015",
          "2016",
          "2017"
         ],
         "y": [
          9,
          30,
          20,
          8,
          21,
          12
         ]
        },
        {
         "name": "Sentiment",
         "type": "scatter",
         "x": [
          "2012",
          "2013",
          "2014",
          "2015",
          "2016",
          "2017"
         ],
         "xaxis": "x",
         "y": [
          -0.053944444444444455,
          -0.23748000000000002,
          -0.08526500000000001,
          -0.153225,
          -0.05160000000000001,
          -0.14543333333333333
         ],
         "yaxis": "y2"
        }
       ],
       "layout": {
        "height": 600,
        "template": {
         "data": {
          "bar": [
           {
            "error_x": {
             "color": "#2a3f5f"
            },
            "error_y": {
             "color": "#2a3f5f"
            },
            "marker": {
             "line": {
              "color": "#E5ECF6",
              "width": 0.5
             },
             "pattern": {
              "fillmode": "overlay",
              "size": 10,
              "solidity": 0.2
             }
            },
            "type": "bar"
           }
          ],
          "barpolar": [
           {
            "marker": {
             "line": {
              "color": "#E5ECF6",
              "width": 0.5
             },
             "pattern": {
              "fillmode": "overlay",
              "size": 10,
              "solidity": 0.2
             }
            },
            "type": "barpolar"
           }
          ],
          "carpet": [
           {
            "aaxis": {
             "endlinecolor": "#2a3f5f",
             "gridcolor": "white",
             "linecolor": "white",
             "minorgridcolor": "white",
             "startlinecolor": "#2a3f5f"
            },
            "baxis": {
             "endlinecolor": "#2a3f5f",
             "gridcolor": "white",
             "linecolor": "white",
             "minorgridcolor": "white",
             "startlinecolor": "#2a3f5f"
            },
            "type": "carpet"
           }
          ],
          "choropleth": [
           {
            "colorbar": {
             "outlinewidth": 0,
             "ticks": ""
            },
            "type": "choropleth"
           }
          ],
          "contour": [
           {
            "colorbar": {
             "outlinewidth": 0,
             "ticks": ""
            },
            "colorscale": [
             [
              0,
              "#0d0887"
             ],
             [
              0.1111111111111111,
              "#46039f"
             ],
             [
              0.2222222222222222,
              "#7201a8"
             ],
             [
              0.3333333333333333,
              "#9c179e"
             ],
             [
              0.4444444444444444,
              "#bd3786"
             ],
             [
              0.5555555555555556,
              "#d8576b"
             ],
             [
              0.6666666666666666,
              "#ed7953"
             ],
             [
              0.7777777777777778,
              "#fb9f3a"
             ],
             [
              0.8888888888888888,
              "#fdca26"
             ],
             [
              1,
              "#f0f921"
             ]
            ],
            "type": "contour"
           }
          ],
          "contourcarpet": [
           {
            "colorbar": {
             "outlinewidth": 0,
             "ticks": ""
            },
            "type": "contourcarpet"
           }
          ],
          "heatmap": [
           {
            "colorbar": {
             "outlinewidth": 0,
             "ticks": ""
            },
            "colorscale": [
             [
              0,
              "#0d0887"
             ],
             [
              0.1111111111111111,
              "#46039f"
             ],
             [
              0.2222222222222222,
              "#7201a8"
             ],
             [
              0.3333333333333333,
              "#9c179e"
             ],
             [
              0.4444444444444444,
              "#bd3786"
             ],
             [
              0.5555555555555556,
              "#d8576b"
             ],
             [
              0.6666666666666666,
              "#ed7953"
             ],
             [
              0.7777777777777778,
              "#fb9f3a"
             ],
             [
              0.8888888888888888,
              "#fdca26"
             ],
             [
              1,
              "#f0f921"
             ]
            ],
            "type": "heatmap"
           }
          ],
          "heatmapgl": [
           {
            "colorbar": {
             "outlinewidth": 0,
             "ticks": ""
            },
            "colorscale": [
             [
              0,
              "#0d0887"
             ],
             [
              0.1111111111111111,
              "#46039f"
             ],
             [
              0.2222222222222222,
              "#7201a8"
             ],
             [
              0.3333333333333333,
              "#9c179e"
             ],
             [
              0.4444444444444444,
              "#bd3786"
             ],
             [
              0.5555555555555556,
              "#d8576b"
             ],
             [
              0.6666666666666666,
              "#ed7953"
             ],
             [
              0.7777777777777778,
              "#fb9f3a"
             ],
             [
              0.8888888888888888,
              "#fdca26"
             ],
             [
              1,
              "#f0f921"
             ]
            ],
            "type": "heatmapgl"
           }
          ],
          "histogram": [
           {
            "marker": {
             "pattern": {
              "fillmode": "overlay",
              "size": 10,
              "solidity": 0.2
             }
            },
            "type": "histogram"
           }
          ],
          "histogram2d": [
           {
            "colorbar": {
             "outlinewidth": 0,
             "ticks": ""
            },
            "colorscale": [
             [
              0,
              "#0d0887"
             ],
             [
              0.1111111111111111,
              "#46039f"
             ],
             [
              0.2222222222222222,
              "#7201a8"
             ],
             [
              0.3333333333333333,
              "#9c179e"
             ],
             [
              0.4444444444444444,
              "#bd3786"
             ],
             [
              0.5555555555555556,
              "#d8576b"
             ],
             [
              0.6666666666666666,
              "#ed7953"
             ],
             [
              0.7777777777777778,
              "#fb9f3a"
             ],
             [
              0.8888888888888888,
              "#fdca26"
             ],
             [
              1,
              "#f0f921"
             ]
            ],
            "type": "histogram2d"
           }
          ],
          "histogram2dcontour": [
           {
            "colorbar": {
             "outlinewidth": 0,
             "ticks": ""
            },
            "colorscale": [
             [
              0,
              "#0d0887"
             ],
             [
              0.1111111111111111,
              "#46039f"
             ],
             [
              0.2222222222222222,
              "#7201a8"
             ],
             [
              0.3333333333333333,
              "#9c179e"
             ],
             [
              0.4444444444444444,
              "#bd3786"
             ],
             [
              0.5555555555555556,
              "#d8576b"
             ],
             [
              0.6666666666666666,
              "#ed7953"
             ],
             [
              0.7777777777777778,
              "#fb9f3a"
             ],
             [
              0.8888888888888888,
              "#fdca26"
             ],
             [
              1,
              "#f0f921"
             ]
            ],
            "type": "histogram2dcontour"
           }
          ],
          "mesh3d": [
           {
            "colorbar": {
             "outlinewidth": 0,
             "ticks": ""
            },
            "type": "mesh3d"
           }
          ],
          "parcoords": [
           {
            "line": {
             "colorbar": {
              "outlinewidth": 0,
              "ticks": ""
             }
            },
            "type": "parcoords"
           }
          ],
          "pie": [
           {
            "automargin": true,
            "type": "pie"
           }
          ],
          "scatter": [
           {
            "fillpattern": {
             "fillmode": "overlay",
             "size": 10,
             "solidity": 0.2
            },
            "type": "scatter"
           }
          ],
          "scatter3d": [
           {
            "line": {
             "colorbar": {
              "outlinewidth": 0,
              "ticks": ""
             }
            },
            "marker": {
             "colorbar": {
              "outlinewidth": 0,
              "ticks": ""
             }
            },
            "type": "scatter3d"
           }
          ],
          "scattercarpet": [
           {
            "marker": {
             "colorbar": {
              "outlinewidth": 0,
              "ticks": ""
             }
            },
            "type": "scattercarpet"
           }
          ],
          "scattergeo": [
           {
            "marker": {
             "colorbar": {
              "outlinewidth": 0,
              "ticks": ""
             }
            },
            "type": "scattergeo"
           }
          ],
          "scattergl": [
           {
            "marker": {
             "colorbar": {
              "outlinewidth": 0,
              "ticks": ""
             }
            },
            "type": "scattergl"
           }
          ],
          "scattermapbox": [
           {
            "marker": {
             "colorbar": {
              "outlinewidth": 0,
              "ticks": ""
             }
            },
            "type": "scattermapbox"
           }
          ],
          "scatterpolar": [
           {
            "marker": {
             "colorbar": {
              "outlinewidth": 0,
              "ticks": ""
             }
            },
            "type": "scatterpolar"
           }
          ],
          "scatterpolargl": [
           {
            "marker": {
             "colorbar": {
              "outlinewidth": 0,
              "ticks": ""
             }
            },
            "type": "scatterpolargl"
           }
          ],
          "scatterternary": [
           {
            "marker": {
             "colorbar": {
              "outlinewidth": 0,
              "ticks": ""
             }
            },
            "type": "scatterternary"
           }
          ],
          "surface": [
           {
            "colorbar": {
             "outlinewidth": 0,
             "ticks": ""
            },
            "colorscale": [
             [
              0,
              "#0d0887"
             ],
             [
              0.1111111111111111,
              "#46039f"
             ],
             [
              0.2222222222222222,
              "#7201a8"
             ],
             [
              0.3333333333333333,
              "#9c179e"
             ],
             [
              0.4444444444444444,
              "#bd3786"
             ],
             [
              0.5555555555555556,
              "#d8576b"
             ],
             [
              0.6666666666666666,
              "#ed7953"
             ],
             [
              0.7777777777777778,
              "#fb9f3a"
             ],
             [
              0.8888888888888888,
              "#fdca26"
             ],
             [
              1,
              "#f0f921"
             ]
            ],
            "type": "surface"
           }
          ],
          "table": [
           {
            "cells": {
             "fill": {
              "color": "#EBF0F8"
             },
             "line": {
              "color": "white"
             }
            },
            "header": {
             "fill": {
              "color": "#C8D4E3"
             },
             "line": {
              "color": "white"
             }
            },
            "type": "table"
           }
          ]
         },
         "layout": {
          "annotationdefaults": {
           "arrowcolor": "#2a3f5f",
           "arrowhead": 0,
           "arrowwidth": 1
          },
          "autotypenumbers": "strict",
          "coloraxis": {
           "colorbar": {
            "outlinewidth": 0,
            "ticks": ""
           }
          },
          "colorscale": {
           "diverging": [
            [
             0,
             "#8e0152"
            ],
            [
             0.1,
             "#c51b7d"
            ],
            [
             0.2,
             "#de77ae"
            ],
            [
             0.3,
             "#f1b6da"
            ],
            [
             0.4,
             "#fde0ef"
            ],
            [
             0.5,
             "#f7f7f7"
            ],
            [
             0.6,
             "#e6f5d0"
            ],
            [
             0.7,
             "#b8e186"
            ],
            [
             0.8,
             "#7fbc41"
            ],
            [
             0.9,
             "#4d9221"
            ],
            [
             1,
             "#276419"
            ]
           ],
           "sequential": [
            [
             0,
             "#0d0887"
            ],
            [
             0.1111111111111111,
             "#46039f"
            ],
            [
             0.2222222222222222,
             "#7201a8"
            ],
            [
             0.3333333333333333,
             "#9c179e"
            ],
            [
             0.4444444444444444,
             "#bd3786"
            ],
            [
             0.5555555555555556,
             "#d8576b"
            ],
            [
             0.6666666666666666,
             "#ed7953"
            ],
            [
             0.7777777777777778,
             "#fb9f3a"
            ],
            [
             0.8888888888888888,
             "#fdca26"
            ],
            [
             1,
             "#f0f921"
            ]
           ],
           "sequentialminus": [
            [
             0,
             "#0d0887"
            ],
            [
             0.1111111111111111,
             "#46039f"
            ],
            [
             0.2222222222222222,
             "#7201a8"
            ],
            [
             0.3333333333333333,
             "#9c179e"
            ],
            [
             0.4444444444444444,
             "#bd3786"
            ],
            [
             0.5555555555555556,
             "#d8576b"
            ],
            [
             0.6666666666666666,
             "#ed7953"
            ],
            [
             0.7777777777777778,
             "#fb9f3a"
            ],
            [
             0.8888888888888888,
             "#fdca26"
            ],
            [
             1,
             "#f0f921"
            ]
           ]
          },
          "colorway": [
           "#636efa",
           "#EF553B",
           "#00cc96",
           "#ab63fa",
           "#FFA15A",
           "#19d3f3",
           "#FF6692",
           "#B6E880",
           "#FF97FF",
           "#FECB52"
          ],
          "font": {
           "color": "#2a3f5f"
          },
          "geo": {
           "bgcolor": "white",
           "lakecolor": "white",
           "landcolor": "#E5ECF6",
           "showlakes": true,
           "showland": true,
           "subunitcolor": "white"
          },
          "hoverlabel": {
           "align": "left"
          },
          "hovermode": "closest",
          "mapbox": {
           "style": "light"
          },
          "paper_bgcolor": "white",
          "plot_bgcolor": "#E5ECF6",
          "polar": {
           "angularaxis": {
            "gridcolor": "white",
            "linecolor": "white",
            "ticks": ""
           },
           "bgcolor": "#E5ECF6",
           "radialaxis": {
            "gridcolor": "white",
            "linecolor": "white",
            "ticks": ""
           }
          },
          "scene": {
           "xaxis": {
            "backgroundcolor": "#E5ECF6",
            "gridcolor": "white",
            "gridwidth": 2,
            "linecolor": "white",
            "showbackground": true,
            "ticks": "",
            "zerolinecolor": "white"
           },
           "yaxis": {
            "backgroundcolor": "#E5ECF6",
            "gridcolor": "white",
            "gridwidth": 2,
            "linecolor": "white",
            "showbackground": true,
            "ticks": "",
            "zerolinecolor": "white"
           },
           "zaxis": {
            "backgroundcolor": "#E5ECF6",
            "gridcolor": "white",
            "gridwidth": 2,
            "linecolor": "white",
            "showbackground": true,
            "ticks": "",
            "zerolinecolor": "white"
           }
          },
          "shapedefaults": {
           "line": {
            "color": "#2a3f5f"
           }
          },
          "ternary": {
           "aaxis": {
            "gridcolor": "white",
            "linecolor": "white",
            "ticks": ""
           },
           "baxis": {
            "gridcolor": "white",
            "linecolor": "white",
            "ticks": ""
           },
           "bgcolor": "#E5ECF6",
           "caxis": {
            "gridcolor": "white",
            "linecolor": "white",
            "ticks": ""
           }
          },
          "title": {
           "x": 0.05
          },
          "xaxis": {
           "automargin": true,
           "gridcolor": "white",
           "linecolor": "white",
           "ticks": "",
           "title": {
            "standoff": 15
           },
           "zerolinecolor": "white",
           "zerolinewidth": 2
          },
          "yaxis": {
           "automargin": true,
           "gridcolor": "white",
           "linecolor": "white",
           "ticks": "",
           "title": {
            "standoff": 15
           },
           "zerolinecolor": "white",
           "zerolinewidth": 2
          }
         }
        },
        "title": {
         "text": "Tweets"
        },
        "width": 800,
        "xaxis": {
         "anchor": "y",
         "domain": [
          0,
          0.94
         ],
         "tickangle": -90
        },
        "yaxis": {
         "anchor": "x",
         "domain": [
          0,
          1
         ]
        },
        "yaxis2": {
         "anchor": "x",
         "overlaying": "y",
         "side": "right"
        }
       }
      }
     },
     "metadata": {},
     "output_type": "display_data"
    }
   ],
   "source": [
    "if int(year1) >= 2011:\n",
    "    while True:\n",
    "        tweet_output = input(\"Would you like to see information regarding tweets? Y/N \")\n",
    "        if tweet_output in [\"Y\", \"y\", \"N\", \"n\"]:\n",
    "            break\n",
    "\n",
    "    queried_twitter_data =  tweets_list_df[(tweets_list_df[\"Date\"] >= year1) & (tweets_list_df[\"Date\"] < year2)].reset_index()\n",
    "\n",
    "    if tweet_output in [\"Y\", \"y\"]:\n",
    "        trace1 = go.Line(\n",
    "        x= queried_twitter_data[\"Date\"],\n",
    "        y= queried_twitter_data[\"Content\"],\n",
    "        name=\"Count of Tweets\",\n",
    "        )\n",
    "        trace2 = go.Line(\n",
    "            x=queried_twitter_data[\"Date\"],\n",
    "            y=queried_twitter_data[\"rating\"],\n",
    "            name='Sentiment',\n",
    "        )\n",
    "\n",
    "        fig = make_subplots(specs=[[{\"secondary_y\": True}]])\n",
    "        fig.add_trace(trace1)\n",
    "        fig.add_trace(trace2,secondary_y=True)\n",
    "        fig['layout'].update(height = 600, width = 800, title = \"Tweets\",xaxis=dict(\n",
    "            tickangle=-90\n",
    "            ))\n",
    "\n",
    "        iplot(fig)"
   ]
  },
  {
   "cell_type": "code",
   "execution_count": 62,
   "id": "340b187d",
   "metadata": {},
   "outputs": [
    {
     "data": {
      "application/vnd.plotly.v1+json": {
       "config": {
        "linkText": "Export to plot.ly",
        "plotlyServerURL": "https://plot.ly",
        "showLink": false
       },
       "data": [
        {
         "name": "Sentiment",
         "type": "scatter",
         "x": [
          "2012",
          "2013",
          "2014",
          "2015",
          "2016",
          "2017"
         ],
         "y": [
          -0.053944444444444455,
          -0.23748000000000002,
          -0.08526500000000001,
          -0.153225,
          -0.05160000000000001,
          -0.14543333333333333
         ]
        },
        {
         "name": "Firearm Related Injuries",
         "type": "scatter",
         "x": [
          "2012",
          "2013",
          "2014",
          "2015",
          "2016",
          "2017"
         ],
         "xaxis": "x",
         "y": [
          336,
          148,
          134,
          444,
          490,
          603
         ],
         "yaxis": "y2"
        }
       ],
       "layout": {
        "height": 600,
        "template": {
         "data": {
          "bar": [
           {
            "error_x": {
             "color": "#2a3f5f"
            },
            "error_y": {
             "color": "#2a3f5f"
            },
            "marker": {
             "line": {
              "color": "#E5ECF6",
              "width": 0.5
             },
             "pattern": {
              "fillmode": "overlay",
              "size": 10,
              "solidity": 0.2
             }
            },
            "type": "bar"
           }
          ],
          "barpolar": [
           {
            "marker": {
             "line": {
              "color": "#E5ECF6",
              "width": 0.5
             },
             "pattern": {
              "fillmode": "overlay",
              "size": 10,
              "solidity": 0.2
             }
            },
            "type": "barpolar"
           }
          ],
          "carpet": [
           {
            "aaxis": {
             "endlinecolor": "#2a3f5f",
             "gridcolor": "white",
             "linecolor": "white",
             "minorgridcolor": "white",
             "startlinecolor": "#2a3f5f"
            },
            "baxis": {
             "endlinecolor": "#2a3f5f",
             "gridcolor": "white",
             "linecolor": "white",
             "minorgridcolor": "white",
             "startlinecolor": "#2a3f5f"
            },
            "type": "carpet"
           }
          ],
          "choropleth": [
           {
            "colorbar": {
             "outlinewidth": 0,
             "ticks": ""
            },
            "type": "choropleth"
           }
          ],
          "contour": [
           {
            "colorbar": {
             "outlinewidth": 0,
             "ticks": ""
            },
            "colorscale": [
             [
              0,
              "#0d0887"
             ],
             [
              0.1111111111111111,
              "#46039f"
             ],
             [
              0.2222222222222222,
              "#7201a8"
             ],
             [
              0.3333333333333333,
              "#9c179e"
             ],
             [
              0.4444444444444444,
              "#bd3786"
             ],
             [
              0.5555555555555556,
              "#d8576b"
             ],
             [
              0.6666666666666666,
              "#ed7953"
             ],
             [
              0.7777777777777778,
              "#fb9f3a"
             ],
             [
              0.8888888888888888,
              "#fdca26"
             ],
             [
              1,
              "#f0f921"
             ]
            ],
            "type": "contour"
           }
          ],
          "contourcarpet": [
           {
            "colorbar": {
             "outlinewidth": 0,
             "ticks": ""
            },
            "type": "contourcarpet"
           }
          ],
          "heatmap": [
           {
            "colorbar": {
             "outlinewidth": 0,
             "ticks": ""
            },
            "colorscale": [
             [
              0,
              "#0d0887"
             ],
             [
              0.1111111111111111,
              "#46039f"
             ],
             [
              0.2222222222222222,
              "#7201a8"
             ],
             [
              0.3333333333333333,
              "#9c179e"
             ],
             [
              0.4444444444444444,
              "#bd3786"
             ],
             [
              0.5555555555555556,
              "#d8576b"
             ],
             [
              0.6666666666666666,
              "#ed7953"
             ],
             [
              0.7777777777777778,
              "#fb9f3a"
             ],
             [
              0.8888888888888888,
              "#fdca26"
             ],
             [
              1,
              "#f0f921"
             ]
            ],
            "type": "heatmap"
           }
          ],
          "heatmapgl": [
           {
            "colorbar": {
             "outlinewidth": 0,
             "ticks": ""
            },
            "colorscale": [
             [
              0,
              "#0d0887"
             ],
             [
              0.1111111111111111,
              "#46039f"
             ],
             [
              0.2222222222222222,
              "#7201a8"
             ],
             [
              0.3333333333333333,
              "#9c179e"
             ],
             [
              0.4444444444444444,
              "#bd3786"
             ],
             [
              0.5555555555555556,
              "#d8576b"
             ],
             [
              0.6666666666666666,
              "#ed7953"
             ],
             [
              0.7777777777777778,
              "#fb9f3a"
             ],
             [
              0.8888888888888888,
              "#fdca26"
             ],
             [
              1,
              "#f0f921"
             ]
            ],
            "type": "heatmapgl"
           }
          ],
          "histogram": [
           {
            "marker": {
             "pattern": {
              "fillmode": "overlay",
              "size": 10,
              "solidity": 0.2
             }
            },
            "type": "histogram"
           }
          ],
          "histogram2d": [
           {
            "colorbar": {
             "outlinewidth": 0,
             "ticks": ""
            },
            "colorscale": [
             [
              0,
              "#0d0887"
             ],
             [
              0.1111111111111111,
              "#46039f"
             ],
             [
              0.2222222222222222,
              "#7201a8"
             ],
             [
              0.3333333333333333,
              "#9c179e"
             ],
             [
              0.4444444444444444,
              "#bd3786"
             ],
             [
              0.5555555555555556,
              "#d8576b"
             ],
             [
              0.6666666666666666,
              "#ed7953"
             ],
             [
              0.7777777777777778,
              "#fb9f3a"
             ],
             [
              0.8888888888888888,
              "#fdca26"
             ],
             [
              1,
              "#f0f921"
             ]
            ],
            "type": "histogram2d"
           }
          ],
          "histogram2dcontour": [
           {
            "colorbar": {
             "outlinewidth": 0,
             "ticks": ""
            },
            "colorscale": [
             [
              0,
              "#0d0887"
             ],
             [
              0.1111111111111111,
              "#46039f"
             ],
             [
              0.2222222222222222,
              "#7201a8"
             ],
             [
              0.3333333333333333,
              "#9c179e"
             ],
             [
              0.4444444444444444,
              "#bd3786"
             ],
             [
              0.5555555555555556,
              "#d8576b"
             ],
             [
              0.6666666666666666,
              "#ed7953"
             ],
             [
              0.7777777777777778,
              "#fb9f3a"
             ],
             [
              0.8888888888888888,
              "#fdca26"
             ],
             [
              1,
              "#f0f921"
             ]
            ],
            "type": "histogram2dcontour"
           }
          ],
          "mesh3d": [
           {
            "colorbar": {
             "outlinewidth": 0,
             "ticks": ""
            },
            "type": "mesh3d"
           }
          ],
          "parcoords": [
           {
            "line": {
             "colorbar": {
              "outlinewidth": 0,
              "ticks": ""
             }
            },
            "type": "parcoords"
           }
          ],
          "pie": [
           {
            "automargin": true,
            "type": "pie"
           }
          ],
          "scatter": [
           {
            "fillpattern": {
             "fillmode": "overlay",
             "size": 10,
             "solidity": 0.2
            },
            "type": "scatter"
           }
          ],
          "scatter3d": [
           {
            "line": {
             "colorbar": {
              "outlinewidth": 0,
              "ticks": ""
             }
            },
            "marker": {
             "colorbar": {
              "outlinewidth": 0,
              "ticks": ""
             }
            },
            "type": "scatter3d"
           }
          ],
          "scattercarpet": [
           {
            "marker": {
             "colorbar": {
              "outlinewidth": 0,
              "ticks": ""
             }
            },
            "type": "scattercarpet"
           }
          ],
          "scattergeo": [
           {
            "marker": {
             "colorbar": {
              "outlinewidth": 0,
              "ticks": ""
             }
            },
            "type": "scattergeo"
           }
          ],
          "scattergl": [
           {
            "marker": {
             "colorbar": {
              "outlinewidth": 0,
              "ticks": ""
             }
            },
            "type": "scattergl"
           }
          ],
          "scattermapbox": [
           {
            "marker": {
             "colorbar": {
              "outlinewidth": 0,
              "ticks": ""
             }
            },
            "type": "scattermapbox"
           }
          ],
          "scatterpolar": [
           {
            "marker": {
             "colorbar": {
              "outlinewidth": 0,
              "ticks": ""
             }
            },
            "type": "scatterpolar"
           }
          ],
          "scatterpolargl": [
           {
            "marker": {
             "colorbar": {
              "outlinewidth": 0,
              "ticks": ""
             }
            },
            "type": "scatterpolargl"
           }
          ],
          "scatterternary": [
           {
            "marker": {
             "colorbar": {
              "outlinewidth": 0,
              "ticks": ""
             }
            },
            "type": "scatterternary"
           }
          ],
          "surface": [
           {
            "colorbar": {
             "outlinewidth": 0,
             "ticks": ""
            },
            "colorscale": [
             [
              0,
              "#0d0887"
             ],
             [
              0.1111111111111111,
              "#46039f"
             ],
             [
              0.2222222222222222,
              "#7201a8"
             ],
             [
              0.3333333333333333,
              "#9c179e"
             ],
             [
              0.4444444444444444,
              "#bd3786"
             ],
             [
              0.5555555555555556,
              "#d8576b"
             ],
             [
              0.6666666666666666,
              "#ed7953"
             ],
             [
              0.7777777777777778,
              "#fb9f3a"
             ],
             [
              0.8888888888888888,
              "#fdca26"
             ],
             [
              1,
              "#f0f921"
             ]
            ],
            "type": "surface"
           }
          ],
          "table": [
           {
            "cells": {
             "fill": {
              "color": "#EBF0F8"
             },
             "line": {
              "color": "white"
             }
            },
            "header": {
             "fill": {
              "color": "#C8D4E3"
             },
             "line": {
              "color": "white"
             }
            },
            "type": "table"
           }
          ]
         },
         "layout": {
          "annotationdefaults": {
           "arrowcolor": "#2a3f5f",
           "arrowhead": 0,
           "arrowwidth": 1
          },
          "autotypenumbers": "strict",
          "coloraxis": {
           "colorbar": {
            "outlinewidth": 0,
            "ticks": ""
           }
          },
          "colorscale": {
           "diverging": [
            [
             0,
             "#8e0152"
            ],
            [
             0.1,
             "#c51b7d"
            ],
            [
             0.2,
             "#de77ae"
            ],
            [
             0.3,
             "#f1b6da"
            ],
            [
             0.4,
             "#fde0ef"
            ],
            [
             0.5,
             "#f7f7f7"
            ],
            [
             0.6,
             "#e6f5d0"
            ],
            [
             0.7,
             "#b8e186"
            ],
            [
             0.8,
             "#7fbc41"
            ],
            [
             0.9,
             "#4d9221"
            ],
            [
             1,
             "#276419"
            ]
           ],
           "sequential": [
            [
             0,
             "#0d0887"
            ],
            [
             0.1111111111111111,
             "#46039f"
            ],
            [
             0.2222222222222222,
             "#7201a8"
            ],
            [
             0.3333333333333333,
             "#9c179e"
            ],
            [
             0.4444444444444444,
             "#bd3786"
            ],
            [
             0.5555555555555556,
             "#d8576b"
            ],
            [
             0.6666666666666666,
             "#ed7953"
            ],
            [
             0.7777777777777778,
             "#fb9f3a"
            ],
            [
             0.8888888888888888,
             "#fdca26"
            ],
            [
             1,
             "#f0f921"
            ]
           ],
           "sequentialminus": [
            [
             0,
             "#0d0887"
            ],
            [
             0.1111111111111111,
             "#46039f"
            ],
            [
             0.2222222222222222,
             "#7201a8"
            ],
            [
             0.3333333333333333,
             "#9c179e"
            ],
            [
             0.4444444444444444,
             "#bd3786"
            ],
            [
             0.5555555555555556,
             "#d8576b"
            ],
            [
             0.6666666666666666,
             "#ed7953"
            ],
            [
             0.7777777777777778,
             "#fb9f3a"
            ],
            [
             0.8888888888888888,
             "#fdca26"
            ],
            [
             1,
             "#f0f921"
            ]
           ]
          },
          "colorway": [
           "#636efa",
           "#EF553B",
           "#00cc96",
           "#ab63fa",
           "#FFA15A",
           "#19d3f3",
           "#FF6692",
           "#B6E880",
           "#FF97FF",
           "#FECB52"
          ],
          "font": {
           "color": "#2a3f5f"
          },
          "geo": {
           "bgcolor": "white",
           "lakecolor": "white",
           "landcolor": "#E5ECF6",
           "showlakes": true,
           "showland": true,
           "subunitcolor": "white"
          },
          "hoverlabel": {
           "align": "left"
          },
          "hovermode": "closest",
          "mapbox": {
           "style": "light"
          },
          "paper_bgcolor": "white",
          "plot_bgcolor": "#E5ECF6",
          "polar": {
           "angularaxis": {
            "gridcolor": "white",
            "linecolor": "white",
            "ticks": ""
           },
           "bgcolor": "#E5ECF6",
           "radialaxis": {
            "gridcolor": "white",
            "linecolor": "white",
            "ticks": ""
           }
          },
          "scene": {
           "xaxis": {
            "backgroundcolor": "#E5ECF6",
            "gridcolor": "white",
            "gridwidth": 2,
            "linecolor": "white",
            "showbackground": true,
            "ticks": "",
            "zerolinecolor": "white"
           },
           "yaxis": {
            "backgroundcolor": "#E5ECF6",
            "gridcolor": "white",
            "gridwidth": 2,
            "linecolor": "white",
            "showbackground": true,
            "ticks": "",
            "zerolinecolor": "white"
           },
           "zaxis": {
            "backgroundcolor": "#E5ECF6",
            "gridcolor": "white",
            "gridwidth": 2,
            "linecolor": "white",
            "showbackground": true,
            "ticks": "",
            "zerolinecolor": "white"
           }
          },
          "shapedefaults": {
           "line": {
            "color": "#2a3f5f"
           }
          },
          "ternary": {
           "aaxis": {
            "gridcolor": "white",
            "linecolor": "white",
            "ticks": ""
           },
           "baxis": {
            "gridcolor": "white",
            "linecolor": "white",
            "ticks": ""
           },
           "bgcolor": "#E5ECF6",
           "caxis": {
            "gridcolor": "white",
            "linecolor": "white",
            "ticks": ""
           }
          },
          "title": {
           "x": 0.05
          },
          "xaxis": {
           "automargin": true,
           "gridcolor": "white",
           "linecolor": "white",
           "ticks": "",
           "title": {
            "standoff": 15
           },
           "zerolinecolor": "white",
           "zerolinewidth": 2
          },
          "yaxis": {
           "automargin": true,
           "gridcolor": "white",
           "linecolor": "white",
           "ticks": "",
           "title": {
            "standoff": 15
           },
           "zerolinecolor": "white",
           "zerolinewidth": 2
          }
         }
        },
        "title": {
         "text": "Tweets"
        },
        "width": 800,
        "xaxis": {
         "anchor": "y",
         "domain": [
          0,
          0.94
         ],
         "tickangle": -90
        },
        "yaxis": {
         "anchor": "x",
         "domain": [
          0,
          1
         ]
        },
        "yaxis2": {
         "anchor": "x",
         "overlaying": "y",
         "side": "right"
        }
       }
      }
     },
     "metadata": {},
     "output_type": "display_data"
    }
   ],
   "source": [
    "\n",
    "if int(year1) >= 2011:\n",
    "\n",
    "    while True:\n",
    "        comparison_output = input('''What dataset would you like to compare the sentiment of tweets with?\n",
    "                                    1. Mass shootings dataset\n",
    "                                    2. Firearm related injuries\n",
    "                                    Please input the number 1 or 2''')\n",
    "        if comparison_output in [\"1\", \"2\"]:\n",
    "            break\n",
    "\n",
    "\n",
    "    if int(comparison_output) == 1:\n",
    "\n",
    "        mass_shootings_date = mass_shootings_date[(mass_shootings_date[\"Date\"] >= year1) & (mass_shootings_date[\"Date\"] < year2)].reset_index()\n",
    "        mass_shootings_date_query = mass_shootings_date.groupby(\"Date\").agg(sum).reset_index()\n",
    "\n",
    "        trace1 = go.Line(\n",
    "            x= queried_twitter_data[\"Date\"],\n",
    "            y= queried_twitter_data[\"rating\"],\n",
    "            name=\"Sentiment\",\n",
    "        )\n",
    "\n",
    "        while True:\n",
    "            injured_death = input('''Would you like to compare it with:\n",
    "                                1. Total Victims\n",
    "                                2. Injured\n",
    "                                3. Fatalities\n",
    "                                Please press 1, 2, or 3''')\n",
    "            if injured_death in [\"1\", \"2\", \"3\"]:\n",
    "                break\n",
    "\n",
    "        type_injury= [\"Total victims\", \"Injured\", \"Fatalities\"]\n",
    "        type_injury = type_injury[int(injured_death) - 1]\n",
    "\n",
    "        trace2 = go.Line(\n",
    "            x = mass_shootings_date_query[\"Date\"],\n",
    "            y = mass_shootings_date_query[type_injury],\n",
    "            name='Firearm Related Injuries',\n",
    "        )\n",
    "\n",
    "        fig = make_subplots(specs=[[{\"secondary_y\": True}]])\n",
    "        fig.add_trace(trace1)\n",
    "        fig.add_trace(trace2,secondary_y=True)\n",
    "        fig['layout'].update(height = 600, width = 800, title = \"Tweets\",xaxis=dict(\n",
    "            tickangle=-90\n",
    "            ))\n",
    "\n",
    "        iplot(fig)\n",
    "\n",
    "    elif int(comparison_output) == 2:\n",
    "        queried_wonder_data_count = queried_wonder_data[[\"Month\", \"Deaths\"]].groupby(\"Month\").agg(sum).reset_index()\n",
    "        queried_wonder_data_count[\"Month\"] = queried_wonder_data_count[\"Month\"].apply(lambda x: datetime.strptime(str(x), '%Y-%m-%d 00:00:00').strftime('%Y'))\n",
    "        queried_wonder_data_count = queried_wonder_data_count[[\"Month\", \"Deaths\"]].groupby(\"Month\").agg(sum).reset_index()\n",
    "\n",
    "        trace1 = go.Line(\n",
    "            x= queried_twitter_data[\"Date\"],\n",
    "            y= queried_twitter_data[\"rating\"],\n",
    "            name=\"Sentiment\",\n",
    "        )\n",
    "        trace2 = go.Line(\n",
    "            x = queried_wonder_data_count[\"Month\"],\n",
    "            y = queried_wonder_data_count.Deaths,\n",
    "            name='Firearm Related Injuries',\n",
    "        )\n",
    "\n",
    "        fig = make_subplots(specs=[[{\"secondary_y\": True}]])\n",
    "        fig.add_trace(trace1)\n",
    "        fig.add_trace(trace2,secondary_y=True)\n",
    "        fig['layout'].update(height = 600, width = 800, title = \"Tweets\",xaxis=dict(\n",
    "            tickangle=-90\n",
    "            ))\n",
    "\n",
    "        iplot(fig)"
   ]
  }
 ],
 "metadata": {
  "kernelspec": {
   "display_name": "Python 3 (ipykernel)",
   "language": "python",
   "name": "python3"
  },
  "language_info": {
   "codemirror_mode": {
    "name": "ipython",
    "version": 3
   },
   "file_extension": ".py",
   "mimetype": "text/x-python",
   "name": "python",
   "nbconvert_exporter": "python",
   "pygments_lexer": "ipython3",
   "version": "3.9.0"
  }
 },
 "nbformat": 4,
 "nbformat_minor": 5
}
